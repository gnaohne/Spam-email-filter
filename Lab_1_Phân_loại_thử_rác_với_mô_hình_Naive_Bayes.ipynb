{
  "cells": [
    {
      "cell_type": "markdown",
      "metadata": {
        "id": "GUvdvAaASzmD"
      },
      "source": [
        "# Lab 1: Phân loại thư rác với mô hình Naive Bayes\n",
        "\n",
        "| MSSV     | Họ tên         | Email             |\n",
        "|----------|----------------|-------------------|\n",
        "| 21120022 | Cao Quảng Phát    | 21120022@student.hcmus.edu.vn |\n",
        "| 21120074 | Tạ Công Hoàng      | 21120074@student.hcmus.edu.vn  |\n"
      ]
    },
    {
      "cell_type": "markdown",
      "metadata": {
        "id": "8Esno5cNSzmX"
      },
      "source": [
        "## 1. Tập dữ liệu Enron-Spam\n",
        "\n"
      ]
    },
    {
      "cell_type": "markdown",
      "metadata": {
        "id": "74aHQ69F16ml"
      },
      "source": [
        "### 1.1 Giới thiệu"
      ]
    },
    {
      "cell_type": "markdown",
      "metadata": {
        "id": "eWM_Ij4h2E6_"
      },
      "source": [
        "- Bộ dữ liệu Enron-Spam là một nguồn tài liệu tuyệt vời được thu thập bởi V. Metsis, I. Androutsopoulos và G. Paliouras và được mô tả trong ấn phẩm của họ \"Spam Filtering with Naive Bayes - Which Naive Bayes?\". Bộ dữ liệu chứa tổng cộng 17.171 thư rác và 16.545 thư không phải thư rác (\"ham\") (tổng cộng 33.716 thư điện tử).\n",
        "- Mỗi thư (1 dòng) trong tập dữ liệu có đặc điểm như sau:\n",
        "  - **Subject**: Tên tiêu đề của thư.\n",
        "  - **Message**: Nội dung của email. Có thể chứa chuỗi rỗng nếu tin nhắn chỉ có dòng tiêu đề và không có nội dung. Trong trường hợp chuyển tiếp email hoặc trả lời, điều này cũng chứa tin nhắn gốc với dòng tiêu đề, \"từ:\", \"đến:\", v.v.\n",
        "  - **Spam/Ham**: Có giá trị \"spam\" hoặc \"ham\". Nhãn của thư được phân loại có là tin nhắn spam hay không.\n"
      ]
    },
    {
      "cell_type": "markdown",
      "metadata": {
        "id": "YosY-sNC2KbM"
      },
      "source": [
        "### 1.2 Tải tập dữ liệu\n"
      ]
    },
    {
      "cell_type": "markdown",
      "metadata": {
        "id": "2hZxcQnv2Ms1"
      },
      "source": [
        "- Tải từ moodle.\n",
        "- Tải từ link drive: [link]\n",
        "- Thư mục dữ liệu bao gồm 2 file: `train.csv` và `val.csv`\n",
        "  - **train.csv**: Gồm những dữ liệu dùng để huấn luyện mô hình.\n",
        "  - **val.csv**: Gồm những dữ liệu để đánh giá mô hình sau khi train.\n"
      ]
    },
    {
      "cell_type": "markdown",
      "metadata": {
        "id": "Q1DiCOVQ2Ob7"
      },
      "source": [
        "\n",
        "### 1.3 Yêu cầu\n"
      ]
    },
    {
      "cell_type": "markdown",
      "metadata": {
        "id": "VjDqj_qy2Qmc"
      },
      "source": [
        "Trong phần này, nhóm cần hoàn thành các yêu cầu sau:\n",
        "- Tải xuống và đọc được toàn bộ tập dữ liệu Enron-Spam.\n",
        "- Đọc dữ liệu từ file và in ra 5 dòng đầu tiên của tập dữ liệu."
      ]
    },
    {
      "cell_type": "markdown",
      "metadata": {
        "id": "Iljg-RTlwKa3"
      },
      "source": [
        "### 1.4 Bài làm"
      ]
    },
    {
      "cell_type": "code",
      "execution_count": null,
      "metadata": {
        "colab": {
          "base_uri": "https://localhost:8080/"
        },
        "id": "cn5f2OdhwKa4",
        "outputId": "afebb5db-7b4a-452f-d6cb-c1bf926a015d"
      },
      "outputs": [
        {
          "name": "stdout",
          "output_type": "stream",
          "text": [
            "Mounted at /content/drive\n"
          ]
        }
      ],
      "source": [
        "from google.colab import drive\n",
        "drive.mount('/content/drive')\n",
        "\n",
        "# lab_folder = './'  # Replace with your dataset's path\n",
        "lab_folder = '/content/drive/MyDrive/AI4Security/Lab/Lab1'  # Replace with your dataset's path\n",
        "train_csv_file = lab_folder + '/train.csv'\n",
        "valid_csv_file = lab_folder + '/val.csv'\n",
        "\n",
        "train_csv_file = lab_folder + '/train.csv'\n",
        "valid_csv_file = lab_folder + '/val.csv'\n",
        "# test_csv_file = lab_folder + '/test.csv' # Change with your file"
      ]
    },
    {
      "cell_type": "markdown",
      "metadata": {
        "id": "HYyeEcLxwKa4"
      },
      "source": [
        "> This code below is download the dataset from the link and set value for two variable `train_csv_file` and `val_csv_file` to store the path of the dataset.\n",
        "\n",
        "> If you have already downloaded the dataset, you can skip this code."
      ]
    },
    {
      "cell_type": "code",
      "execution_count": null,
      "metadata": {
        "id": "y7wj1Zi2wKa5"
      },
      "outputs": [],
      "source": [
        "# Download the dataset and save it to the data folder\n",
        "folder_url = 'https://drive.google.com/drive/folders/16Yn9K_ONEV2KAPcPQwwzzqkq9KZaHzWb?usp=drive_link'\n",
        "\n",
        "import gdown, os\n",
        "def download_folder_from_drive(url_folder):\n",
        "    folder_files = gdown.download_folder(url_folder, quiet=True, use_cookies=False)\n",
        "    print(f\"Download data folder successfully!\")\n",
        "    print(f\"List of files in the folder: {folder_files}\")\n",
        "    return folder_files\n",
        "\n",
        "folder_files = download_folder_from_drive(folder_url)\n",
        "\n",
        "# Find the csv files in the folder\n",
        "for file in folder_files:\n",
        "    if 'train.csv' in file:\n",
        "        train_csv_file = file\n",
        "    elif 'val.csv' in file:\n",
        "        valid_csv_file = file\n",
        "    elif 'test.csv' in file:\n",
        "        test_csv_file = file\n",
        "    else:\n",
        "        continue\n",
        "\n",
        "print(f\"Train file: {train_csv_file}\")\n",
        "print(f\"Valid file: {valid_csv_file}\")"
      ]
    },
    {
      "cell_type": "code",
      "execution_count": null,
      "metadata": {
        "id": "ZDVQCYwJwKa5"
      },
      "outputs": [],
      "source": [
        "# Read data from csv file\n",
        "\n",
        "import pandas as pd\n",
        "\n",
        "# Read data from file\n",
        "train = pd.read_csv(train_csv_file, index_col='Message ID')\n",
        "valid = pd.read_csv(valid_csv_file, index_col='Message ID')"
      ]
    },
    {
      "cell_type": "code",
      "execution_count": null,
      "metadata": {
        "colab": {
          "base_uri": "https://localhost:8080/",
          "height": 237
        },
        "id": "vy_n1hrIwKa5",
        "outputId": "6c5f7c79-5c26-407a-de1b-36a2cbb5b3c1"
      },
      "outputs": [
        {
          "data": {
            "application/vnd.google.colaboratory.intrinsic+json": {
              "summary": "{\n  \"name\": \"train\",\n  \"rows\": 27284,\n  \"fields\": [\n    {\n      \"column\": \"Message ID\",\n      \"properties\": {\n        \"dtype\": \"number\",\n        \"std\": 9724,\n        \"min\": 0,\n        \"max\": 33715,\n        \"num_unique_values\": 27284,\n        \"samples\": [\n          5123,\n          12402,\n          12979\n        ],\n        \"semantic_type\": \"\",\n        \"description\": \"\"\n      }\n    },\n    {\n      \"column\": \"Unnamed: 0\",\n      \"properties\": {\n        \"dtype\": \"number\",\n        \"std\": 9724,\n        \"min\": 0,\n        \"max\": 33715,\n        \"num_unique_values\": 27284,\n        \"samples\": [\n          5123,\n          12402,\n          12979\n        ],\n        \"semantic_type\": \"\",\n        \"description\": \"\"\n      }\n    },\n    {\n      \"column\": \"Subject\",\n      \"properties\": {\n        \"dtype\": \"string\",\n        \"num_unique_values\": 20231,\n        \"samples\": [\n          \"investment idea\",\n          \"paracodin sells better than vicodin\",\n          \"for the last three decades , brokerage houses - - such as merryll lynch - - have cashed in with greater returns than any other industry\"\n        ],\n        \"semantic_type\": \"\",\n        \"description\": \"\"\n      }\n    },\n    {\n      \"column\": \"Message\",\n      \"properties\": {\n        \"dtype\": \"string\",\n        \"num_unique_values\": 24451,\n        \"samples\": [\n          \"hows it been going ?\\nyou have been chosen to participate in an invitation\\nonly event !\\nare you currently paying over 3 % for your mortgage ?\\nstop ! we can help you lower that today !\\nanswer only a few questions and we can get you\\napproved in under 1 minute , it ' s that simple !\\nmore info here : anyhgh . com\\n$ 302 , 000 loans are available for only $ 231 / month !\\neveryone is approved !\\nbad credit ?\\nno problem ! we ' ll have you saving money in no time !\\nare you ready to save ?\\njust fill out our short form : anyhgh . com\\nthanks alot ,\\nbaez v . jodie , v\\nprojecthoneypot @ projecthoneypot . org\\nthe secret of life is honesty and fair dealing . if you can fake that , you ' ve got it made . - groucho marx ( 1890 - 1977 ) . from that day on there were new rules in my classroom . each student was to have an adult ' communication partner ' at the computer . this adult was to sit with the child , not saying a word until the student stopped and looked at the adult or in some other way indicated that communication was desired . then the adult was only to encourage the student by saying the word , nodding the headand smiling . the student was allowed to continue his or her learning . when the student imitated a word , the adult was to respond appropriately . no questions were allowed during this beginning phase . the students were just learning to talk . .\\nluke is missing jumping today . . few things are harder to put up with than the annoyance of a good example . .\\nall my life i ' ve wanted to be someone ; i guess i should have been more specific . jane wagner / lily tomlin ( 1939 - ) . i am not missing surfing . .\",\n          \"discount drugs . . . save 80 % every order !\\nwe are the number one online retailler for dozens of medications . our customers save 80\\ncents out of every dollar , every time , compared to the industry price . yes , that is less than\\nquarter - price\\nwe have all the products that our customers have asked for , including new superviagra\\nsoft - tabs that work in just 15 minutes ! this is the next - generation of sexual improvement\\nwonder - drugs , far more effective than viagra - half a pill will last for 36 hours !\\nget all the information on superviagra here : http : / / friggings . net / cs / ? cheapgeneric\\nour key to keeping customers satisfied is :\\neasy ordering online\\nsave 80 % on regular price\\nwe have massive stocks of drugs for same day dispatch\\nfast delivery straight to your door with discrete packaging\\nwe are the biggest internet retailler with thousands of regular customers\\nno consultation fee\\nno intimate questions or examinations\\nno appointment\\nno prior prescription needed\\nprivate and confidential service\\nplease come by our shop , see for yourself the massive range of products that we have\\navailable . we do have the lowest price and huge stocks ready for same - day dispatch .\\ntwo million customers can ' t be wrong !\\nsee our full range at http : / / friggings . net / ? cheapgeneric\\n\",\n          \"per my voicemails to each of you . . . .\\njenny latham is currently a manager in power risk in houston , and is\\ninterested in moving to london . she is very well respected within enron , and\\nis a highly rated employee . she has been with enron for several years , in\\nvarious positions , and will move us far ahead in the staffing . in january , i\\nmet with yvonne scorer to identify recruiting needs to build the mid and back\\noffice for the london activity for eim . one position identified , business\\ncontroller , is the position i have discussed with jenny , and she is very\\ninterested . i am anxious to move this forward asap for a couple of reasons :\\n1 ) . jenny is interested , and i do not want to lose her to other\\nopportunities within the london office , and 2 ) . it is not too early to move\\nforward on the staffing of the office as it will take some time to\\nappropriately staff and transition current support from egm .\\nbruce , last week jenny and i met with you , and we discussed that it would be\\nappropriate for jenny to spend time with us here in houston to learn our\\ncurrent processes , commoditiies , etc . i absolutely agree with this , but we\\nneed to make a deal with her before we can start that process . the sequence\\nof events that make sense to me and that i believe would make jenny the most\\ncomfortable is that we 1 ) . agree on the financial package ( compensation ,\\nmoving allowance , etc ) , 2 ) . transition her current responsibilities within\\npower risk , and 3 ) . begin training with us . simultaneously , we will need to\\nrecruit applicants for the remaining positions in risk , documentation ,\\nsettlements and trade accounting . my goal is to have everything in place in\\nlondon by the end of first quarter .\\nto meet this time line , we need to get more information and have a discussion\\nwith meryl on the specifics . bruce , can you give meryl the green light to\\nmove forward with us ? i appreciate your help .\"\n        ],\n        \"semantic_type\": \"\",\n        \"description\": \"\"\n      }\n    },\n    {\n      \"column\": \"Spam/Ham\",\n      \"properties\": {\n        \"dtype\": \"category\",\n        \"num_unique_values\": 2,\n        \"samples\": [\n          \"spam\",\n          \"ham\"\n        ],\n        \"semantic_type\": \"\",\n        \"description\": \"\"\n      }\n    },\n    {\n      \"column\": \"split\",\n      \"properties\": {\n        \"dtype\": \"number\",\n        \"std\": 1.0024066869151718,\n        \"min\": -3.842532500480177,\n        \"max\": 3.6127381957087294,\n        \"num_unique_values\": 27284,\n        \"samples\": [\n          0.9783164143218958,\n          -1.0624398833040851\n        ],\n        \"semantic_type\": \"\",\n        \"description\": \"\"\n      }\n    }\n  ]\n}",
              "type": "dataframe",
              "variable_name": "train"
            },
            "text/html": [
              "\n",
              "  <div id=\"df-90b87157-7561-4a11-9608-bc5583d9fa4d\" class=\"colab-df-container\">\n",
              "    <div>\n",
              "<style scoped>\n",
              "    .dataframe tbody tr th:only-of-type {\n",
              "        vertical-align: middle;\n",
              "    }\n",
              "\n",
              "    .dataframe tbody tr th {\n",
              "        vertical-align: top;\n",
              "    }\n",
              "\n",
              "    .dataframe thead th {\n",
              "        text-align: right;\n",
              "    }\n",
              "</style>\n",
              "<table border=\"1\" class=\"dataframe\">\n",
              "  <thead>\n",
              "    <tr style=\"text-align: right;\">\n",
              "      <th></th>\n",
              "      <th>Unnamed: 0</th>\n",
              "      <th>Subject</th>\n",
              "      <th>Message</th>\n",
              "      <th>Spam/Ham</th>\n",
              "      <th>split</th>\n",
              "    </tr>\n",
              "    <tr>\n",
              "      <th>Message ID</th>\n",
              "      <th></th>\n",
              "      <th></th>\n",
              "      <th></th>\n",
              "      <th></th>\n",
              "      <th></th>\n",
              "    </tr>\n",
              "  </thead>\n",
              "  <tbody>\n",
              "    <tr>\n",
              "      <th>0</th>\n",
              "      <td>0</td>\n",
              "      <td>christmas tree farm pictures</td>\n",
              "      <td>NaN</td>\n",
              "      <td>ham</td>\n",
              "      <td>0.038415</td>\n",
              "    </tr>\n",
              "    <tr>\n",
              "      <th>1</th>\n",
              "      <td>1</td>\n",
              "      <td>vastar resources , inc .</td>\n",
              "      <td>gary , production from the high island larger ...</td>\n",
              "      <td>ham</td>\n",
              "      <td>0.696509</td>\n",
              "    </tr>\n",
              "    <tr>\n",
              "      <th>2</th>\n",
              "      <td>2</td>\n",
              "      <td>calpine daily gas nomination</td>\n",
              "      <td>- calpine daily gas nomination 1 . doc</td>\n",
              "      <td>ham</td>\n",
              "      <td>0.587792</td>\n",
              "    </tr>\n",
              "    <tr>\n",
              "      <th>3</th>\n",
              "      <td>3</td>\n",
              "      <td>re : issue</td>\n",
              "      <td>fyi - see note below - already done .\\nstella\\...</td>\n",
              "      <td>ham</td>\n",
              "      <td>-0.055438</td>\n",
              "    </tr>\n",
              "    <tr>\n",
              "      <th>5</th>\n",
              "      <td>5</td>\n",
              "      <td>mcmullen gas for 11 / 99</td>\n",
              "      <td>jackie ,\\nsince the inlet to 3 river plant is ...</td>\n",
              "      <td>ham</td>\n",
              "      <td>-0.419658</td>\n",
              "    </tr>\n",
              "  </tbody>\n",
              "</table>\n",
              "</div>\n",
              "    <div class=\"colab-df-buttons\">\n",
              "\n",
              "  <div class=\"colab-df-container\">\n",
              "    <button class=\"colab-df-convert\" onclick=\"convertToInteractive('df-90b87157-7561-4a11-9608-bc5583d9fa4d')\"\n",
              "            title=\"Convert this dataframe to an interactive table.\"\n",
              "            style=\"display:none;\">\n",
              "\n",
              "  <svg xmlns=\"http://www.w3.org/2000/svg\" height=\"24px\" viewBox=\"0 -960 960 960\">\n",
              "    <path d=\"M120-120v-720h720v720H120Zm60-500h600v-160H180v160Zm220 220h160v-160H400v160Zm0 220h160v-160H400v160ZM180-400h160v-160H180v160Zm440 0h160v-160H620v160ZM180-180h160v-160H180v160Zm440 0h160v-160H620v160Z\"/>\n",
              "  </svg>\n",
              "    </button>\n",
              "\n",
              "  <style>\n",
              "    .colab-df-container {\n",
              "      display:flex;\n",
              "      gap: 12px;\n",
              "    }\n",
              "\n",
              "    .colab-df-convert {\n",
              "      background-color: #E8F0FE;\n",
              "      border: none;\n",
              "      border-radius: 50%;\n",
              "      cursor: pointer;\n",
              "      display: none;\n",
              "      fill: #1967D2;\n",
              "      height: 32px;\n",
              "      padding: 0 0 0 0;\n",
              "      width: 32px;\n",
              "    }\n",
              "\n",
              "    .colab-df-convert:hover {\n",
              "      background-color: #E2EBFA;\n",
              "      box-shadow: 0px 1px 2px rgba(60, 64, 67, 0.3), 0px 1px 3px 1px rgba(60, 64, 67, 0.15);\n",
              "      fill: #174EA6;\n",
              "    }\n",
              "\n",
              "    .colab-df-buttons div {\n",
              "      margin-bottom: 4px;\n",
              "    }\n",
              "\n",
              "    [theme=dark] .colab-df-convert {\n",
              "      background-color: #3B4455;\n",
              "      fill: #D2E3FC;\n",
              "    }\n",
              "\n",
              "    [theme=dark] .colab-df-convert:hover {\n",
              "      background-color: #434B5C;\n",
              "      box-shadow: 0px 1px 3px 1px rgba(0, 0, 0, 0.15);\n",
              "      filter: drop-shadow(0px 1px 2px rgba(0, 0, 0, 0.3));\n",
              "      fill: #FFFFFF;\n",
              "    }\n",
              "  </style>\n",
              "\n",
              "    <script>\n",
              "      const buttonEl =\n",
              "        document.querySelector('#df-90b87157-7561-4a11-9608-bc5583d9fa4d button.colab-df-convert');\n",
              "      buttonEl.style.display =\n",
              "        google.colab.kernel.accessAllowed ? 'block' : 'none';\n",
              "\n",
              "      async function convertToInteractive(key) {\n",
              "        const element = document.querySelector('#df-90b87157-7561-4a11-9608-bc5583d9fa4d');\n",
              "        const dataTable =\n",
              "          await google.colab.kernel.invokeFunction('convertToInteractive',\n",
              "                                                    [key], {});\n",
              "        if (!dataTable) return;\n",
              "\n",
              "        const docLinkHtml = 'Like what you see? Visit the ' +\n",
              "          '<a target=\"_blank\" href=https://colab.research.google.com/notebooks/data_table.ipynb>data table notebook</a>'\n",
              "          + ' to learn more about interactive tables.';\n",
              "        element.innerHTML = '';\n",
              "        dataTable['output_type'] = 'display_data';\n",
              "        await google.colab.output.renderOutput(dataTable, element);\n",
              "        const docLink = document.createElement('div');\n",
              "        docLink.innerHTML = docLinkHtml;\n",
              "        element.appendChild(docLink);\n",
              "      }\n",
              "    </script>\n",
              "  </div>\n",
              "\n",
              "\n",
              "<div id=\"df-0d1304f4-7482-45dc-a005-233e7edb6eae\">\n",
              "  <button class=\"colab-df-quickchart\" onclick=\"quickchart('df-0d1304f4-7482-45dc-a005-233e7edb6eae')\"\n",
              "            title=\"Suggest charts\"\n",
              "            style=\"display:none;\">\n",
              "\n",
              "<svg xmlns=\"http://www.w3.org/2000/svg\" height=\"24px\"viewBox=\"0 0 24 24\"\n",
              "     width=\"24px\">\n",
              "    <g>\n",
              "        <path d=\"M19 3H5c-1.1 0-2 .9-2 2v14c0 1.1.9 2 2 2h14c1.1 0 2-.9 2-2V5c0-1.1-.9-2-2-2zM9 17H7v-7h2v7zm4 0h-2V7h2v10zm4 0h-2v-4h2v4z\"/>\n",
              "    </g>\n",
              "</svg>\n",
              "  </button>\n",
              "\n",
              "<style>\n",
              "  .colab-df-quickchart {\n",
              "      --bg-color: #E8F0FE;\n",
              "      --fill-color: #1967D2;\n",
              "      --hover-bg-color: #E2EBFA;\n",
              "      --hover-fill-color: #174EA6;\n",
              "      --disabled-fill-color: #AAA;\n",
              "      --disabled-bg-color: #DDD;\n",
              "  }\n",
              "\n",
              "  [theme=dark] .colab-df-quickchart {\n",
              "      --bg-color: #3B4455;\n",
              "      --fill-color: #D2E3FC;\n",
              "      --hover-bg-color: #434B5C;\n",
              "      --hover-fill-color: #FFFFFF;\n",
              "      --disabled-bg-color: #3B4455;\n",
              "      --disabled-fill-color: #666;\n",
              "  }\n",
              "\n",
              "  .colab-df-quickchart {\n",
              "    background-color: var(--bg-color);\n",
              "    border: none;\n",
              "    border-radius: 50%;\n",
              "    cursor: pointer;\n",
              "    display: none;\n",
              "    fill: var(--fill-color);\n",
              "    height: 32px;\n",
              "    padding: 0;\n",
              "    width: 32px;\n",
              "  }\n",
              "\n",
              "  .colab-df-quickchart:hover {\n",
              "    background-color: var(--hover-bg-color);\n",
              "    box-shadow: 0 1px 2px rgba(60, 64, 67, 0.3), 0 1px 3px 1px rgba(60, 64, 67, 0.15);\n",
              "    fill: var(--button-hover-fill-color);\n",
              "  }\n",
              "\n",
              "  .colab-df-quickchart-complete:disabled,\n",
              "  .colab-df-quickchart-complete:disabled:hover {\n",
              "    background-color: var(--disabled-bg-color);\n",
              "    fill: var(--disabled-fill-color);\n",
              "    box-shadow: none;\n",
              "  }\n",
              "\n",
              "  .colab-df-spinner {\n",
              "    border: 2px solid var(--fill-color);\n",
              "    border-color: transparent;\n",
              "    border-bottom-color: var(--fill-color);\n",
              "    animation:\n",
              "      spin 1s steps(1) infinite;\n",
              "  }\n",
              "\n",
              "  @keyframes spin {\n",
              "    0% {\n",
              "      border-color: transparent;\n",
              "      border-bottom-color: var(--fill-color);\n",
              "      border-left-color: var(--fill-color);\n",
              "    }\n",
              "    20% {\n",
              "      border-color: transparent;\n",
              "      border-left-color: var(--fill-color);\n",
              "      border-top-color: var(--fill-color);\n",
              "    }\n",
              "    30% {\n",
              "      border-color: transparent;\n",
              "      border-left-color: var(--fill-color);\n",
              "      border-top-color: var(--fill-color);\n",
              "      border-right-color: var(--fill-color);\n",
              "    }\n",
              "    40% {\n",
              "      border-color: transparent;\n",
              "      border-right-color: var(--fill-color);\n",
              "      border-top-color: var(--fill-color);\n",
              "    }\n",
              "    60% {\n",
              "      border-color: transparent;\n",
              "      border-right-color: var(--fill-color);\n",
              "    }\n",
              "    80% {\n",
              "      border-color: transparent;\n",
              "      border-right-color: var(--fill-color);\n",
              "      border-bottom-color: var(--fill-color);\n",
              "    }\n",
              "    90% {\n",
              "      border-color: transparent;\n",
              "      border-bottom-color: var(--fill-color);\n",
              "    }\n",
              "  }\n",
              "</style>\n",
              "\n",
              "  <script>\n",
              "    async function quickchart(key) {\n",
              "      const quickchartButtonEl =\n",
              "        document.querySelector('#' + key + ' button');\n",
              "      quickchartButtonEl.disabled = true;  // To prevent multiple clicks.\n",
              "      quickchartButtonEl.classList.add('colab-df-spinner');\n",
              "      try {\n",
              "        const charts = await google.colab.kernel.invokeFunction(\n",
              "            'suggestCharts', [key], {});\n",
              "      } catch (error) {\n",
              "        console.error('Error during call to suggestCharts:', error);\n",
              "      }\n",
              "      quickchartButtonEl.classList.remove('colab-df-spinner');\n",
              "      quickchartButtonEl.classList.add('colab-df-quickchart-complete');\n",
              "    }\n",
              "    (() => {\n",
              "      let quickchartButtonEl =\n",
              "        document.querySelector('#df-0d1304f4-7482-45dc-a005-233e7edb6eae button');\n",
              "      quickchartButtonEl.style.display =\n",
              "        google.colab.kernel.accessAllowed ? 'block' : 'none';\n",
              "    })();\n",
              "  </script>\n",
              "</div>\n",
              "\n",
              "    </div>\n",
              "  </div>\n"
            ],
            "text/plain": [
              "            Unnamed: 0                       Subject  \\\n",
              "Message ID                                             \n",
              "0                    0  christmas tree farm pictures   \n",
              "1                    1      vastar resources , inc .   \n",
              "2                    2  calpine daily gas nomination   \n",
              "3                    3                    re : issue   \n",
              "5                    5      mcmullen gas for 11 / 99   \n",
              "\n",
              "                                                      Message Spam/Ham  \\\n",
              "Message ID                                                               \n",
              "0                                                         NaN      ham   \n",
              "1           gary , production from the high island larger ...      ham   \n",
              "2                      - calpine daily gas nomination 1 . doc      ham   \n",
              "3           fyi - see note below - already done .\\nstella\\...      ham   \n",
              "5           jackie ,\\nsince the inlet to 3 river plant is ...      ham   \n",
              "\n",
              "               split  \n",
              "Message ID            \n",
              "0           0.038415  \n",
              "1           0.696509  \n",
              "2           0.587792  \n",
              "3          -0.055438  \n",
              "5          -0.419658  "
            ]
          },
          "execution_count": 3,
          "metadata": {},
          "output_type": "execute_result"
        }
      ],
      "source": [
        "train.head(5)"
      ]
    },
    {
      "cell_type": "code",
      "execution_count": null,
      "metadata": {
        "colab": {
          "base_uri": "https://localhost:8080/",
          "height": 237
        },
        "id": "Lddc1M37wKa6",
        "outputId": "24989259-98f0-484e-98cf-bb544be27861"
      },
      "outputs": [
        {
          "data": {
            "application/vnd.google.colaboratory.intrinsic+json": {
              "summary": "{\n  \"name\": \"valid\",\n  \"rows\": 3084,\n  \"fields\": [\n    {\n      \"column\": \"Message ID\",\n      \"properties\": {\n        \"dtype\": \"number\",\n        \"std\": 9804,\n        \"min\": 23,\n        \"max\": 33692,\n        \"num_unique_values\": 3084,\n        \"samples\": [\n          16303,\n          26316,\n          20090\n        ],\n        \"semantic_type\": \"\",\n        \"description\": \"\"\n      }\n    },\n    {\n      \"column\": \"Unnamed: 0\",\n      \"properties\": {\n        \"dtype\": \"number\",\n        \"std\": 9804,\n        \"min\": 23,\n        \"max\": 33692,\n        \"num_unique_values\": 3084,\n        \"samples\": [\n          16303,\n          26316,\n          20090\n        ],\n        \"semantic_type\": \"\",\n        \"description\": \"\"\n      }\n    },\n    {\n      \"column\": \"Subject\",\n      \"properties\": {\n        \"dtype\": \"string\",\n        \"num_unique_values\": 2792,\n        \"samples\": [\n          \"online drugs - save up to 80 %\",\n          \"fw : * master netting assignments\",\n          \"re : cialls val 1 ium v ' iagra\"\n        ],\n        \"semantic_type\": \"\",\n        \"description\": \"\"\n      }\n    },\n    {\n      \"column\": \"Message\",\n      \"properties\": {\n        \"dtype\": \"string\",\n        \"num_unique_values\": 2985,\n        \"samples\": [\n          \"( see attached file : hplo 606 . xls )\\n- hplo 606 . xls\",\n          \"from : the desk of the promotions manager ,\\ninternational promotions / prize award department\\ncamelot lottery , uk\\n3 b olympic way , sefton business park ,\\naintree , liverpool , l 30 lrd\\nref no : meli - t / 17 - fo 44262312\\nbatch : 901 / 00319 / hlp\\naward winning notification\\nwe are pleased to inform you of the announcement today of winners of the mega jackpot lotto winnings\\nprograms held on 20 th august 2004 .\\nyour company or your personal e - mail address , is attached to ticket number 9901 - 0148 - 790 - 691 , with serial number 66109 - 17 drew the lucky numbers 990 - 11 - 815 - 37 - 10 - 83 , and consequently won the lottery in the 2 nd category .\\nyou have therefore been approved for a lump sum pay out of us $ 1 , 400 , 000 . 00 in cash credited to file ref no : meli - t / 17 - fo 44262312 this is from total prize money of us $ 7 , 000 , 000 . 00 shared among the twenty ( 5 ) international winners in this category .\\nall participants were selected through a computer ballot system drawn form 25 , 000 names from australia , new zealand , america , europe , north america and asia , as part of international promotions program , which is conducted annually .\\nyour fund has been deposited in an escrow account and insured in your name . due to the mix up of some numbers and names , we ask that you keep this award strictly from public notice until your claim has been processed and your money remitted to your account .\\nthis is part of our security protocol to avoid double claiming or unscrupulous acts by participants of this program . we hope with a part of your prize , you will participate in our year high stakes us $ 1 . 3 billion international lottery .\\nto claim your winning prize , you must first contact the claims department by email for processing and remittance of your prize money to you . the claims officer contact email is :\\nname : edward pinto\\nemail : admin @ camelotpromos . net\\nremember , all prize money must be claimed not later than the 25 th of november , 2004 . all funds not claimed on or before the fixed date will be returned as unclaimed .\\nnote : in order to avoid unnecessary delays and complications , please remember to quote your reference and batch numbers in all correspondences with this office .\\nfurthermore , should there be any change of your address , do inform us as soon as possible .\\ncongratulations again from all our staff for being part of our promotions program .\\nsincerely ,\\nmrs . floris dries\\nfor camelot lotto ;\\nn . b . any breach of confidentiality on the part of the winners will result in disqualification and any winner below the age of 18 years is automatically disqualified\\nnote : do no reply this mail . you are to contact your claims officer immediately .\\n\",\n          \"best software prices .\\nwhy can ' t they invent something for us to marry instead of women ?\\nah ! the clock is always slow ; it is later than you think .\"\n        ],\n        \"semantic_type\": \"\",\n        \"description\": \"\"\n      }\n    },\n    {\n      \"column\": \"Spam/Ham\",\n      \"properties\": {\n        \"dtype\": \"category\",\n        \"num_unique_values\": 2,\n        \"samples\": [\n          \"spam\",\n          \"ham\"\n        ],\n        \"semantic_type\": \"\",\n        \"description\": \"\"\n      }\n    },\n    {\n      \"column\": \"split\",\n      \"properties\": {\n        \"dtype\": \"number\",\n        \"std\": 1.0048038319794304,\n        \"min\": -3.80896038359741,\n        \"max\": 3.645984896883136,\n        \"num_unique_values\": 3084,\n        \"samples\": [\n          -0.2061198620256327,\n          -0.9562211703498252\n        ],\n        \"semantic_type\": \"\",\n        \"description\": \"\"\n      }\n    }\n  ]\n}",
              "type": "dataframe",
              "variable_name": "valid"
            },
            "text/html": [
              "\n",
              "  <div id=\"df-b0661d75-6a36-4c36-8955-95a3c12a08c0\" class=\"colab-df-container\">\n",
              "    <div>\n",
              "<style scoped>\n",
              "    .dataframe tbody tr th:only-of-type {\n",
              "        vertical-align: middle;\n",
              "    }\n",
              "\n",
              "    .dataframe tbody tr th {\n",
              "        vertical-align: top;\n",
              "    }\n",
              "\n",
              "    .dataframe thead th {\n",
              "        text-align: right;\n",
              "    }\n",
              "</style>\n",
              "<table border=\"1\" class=\"dataframe\">\n",
              "  <thead>\n",
              "    <tr style=\"text-align: right;\">\n",
              "      <th></th>\n",
              "      <th>Unnamed: 0</th>\n",
              "      <th>Subject</th>\n",
              "      <th>Message</th>\n",
              "      <th>Spam/Ham</th>\n",
              "      <th>split</th>\n",
              "    </tr>\n",
              "    <tr>\n",
              "      <th>Message ID</th>\n",
              "      <th></th>\n",
              "      <th></th>\n",
              "      <th></th>\n",
              "      <th></th>\n",
              "      <th></th>\n",
              "    </tr>\n",
              "  </thead>\n",
              "  <tbody>\n",
              "    <tr>\n",
              "      <th>23</th>\n",
              "      <td>23</td>\n",
              "      <td>miscellaneous</td>\n",
              "      <td>- - - - - - - - - - - - - - - - - - - - - - fo...</td>\n",
              "      <td>ham</td>\n",
              "      <td>-0.351998</td>\n",
              "    </tr>\n",
              "    <tr>\n",
              "      <th>24</th>\n",
              "      <td>24</td>\n",
              "      <td>re : purge of old contract _ event _ status</td>\n",
              "      <td>fyi - what do you all think ?\\n- - - - - - - -...</td>\n",
              "      <td>ham</td>\n",
              "      <td>0.257704</td>\n",
              "    </tr>\n",
              "    <tr>\n",
              "      <th>32</th>\n",
              "      <td>32</td>\n",
              "      <td>valero 8018 and 1394</td>\n",
              "      <td>it is my understanding the outages valero incu...</td>\n",
              "      <td>ham</td>\n",
              "      <td>0.091200</td>\n",
              "    </tr>\n",
              "    <tr>\n",
              "      <th>37</th>\n",
              "      <td>37</td>\n",
              "      <td>01 / 00 natural gas nomination</td>\n",
              "      <td>enron methanol company nominates the following...</td>\n",
              "      <td>ham</td>\n",
              "      <td>-1.745133</td>\n",
              "    </tr>\n",
              "    <tr>\n",
              "      <th>43</th>\n",
              "      <td>43</td>\n",
              "      <td>re : misc . questions</td>\n",
              "      <td>- - - - - - - - - - - - - - - - - - - - - - fo...</td>\n",
              "      <td>ham</td>\n",
              "      <td>-1.911987</td>\n",
              "    </tr>\n",
              "  </tbody>\n",
              "</table>\n",
              "</div>\n",
              "    <div class=\"colab-df-buttons\">\n",
              "\n",
              "  <div class=\"colab-df-container\">\n",
              "    <button class=\"colab-df-convert\" onclick=\"convertToInteractive('df-b0661d75-6a36-4c36-8955-95a3c12a08c0')\"\n",
              "            title=\"Convert this dataframe to an interactive table.\"\n",
              "            style=\"display:none;\">\n",
              "\n",
              "  <svg xmlns=\"http://www.w3.org/2000/svg\" height=\"24px\" viewBox=\"0 -960 960 960\">\n",
              "    <path d=\"M120-120v-720h720v720H120Zm60-500h600v-160H180v160Zm220 220h160v-160H400v160Zm0 220h160v-160H400v160ZM180-400h160v-160H180v160Zm440 0h160v-160H620v160ZM180-180h160v-160H180v160Zm440 0h160v-160H620v160Z\"/>\n",
              "  </svg>\n",
              "    </button>\n",
              "\n",
              "  <style>\n",
              "    .colab-df-container {\n",
              "      display:flex;\n",
              "      gap: 12px;\n",
              "    }\n",
              "\n",
              "    .colab-df-convert {\n",
              "      background-color: #E8F0FE;\n",
              "      border: none;\n",
              "      border-radius: 50%;\n",
              "      cursor: pointer;\n",
              "      display: none;\n",
              "      fill: #1967D2;\n",
              "      height: 32px;\n",
              "      padding: 0 0 0 0;\n",
              "      width: 32px;\n",
              "    }\n",
              "\n",
              "    .colab-df-convert:hover {\n",
              "      background-color: #E2EBFA;\n",
              "      box-shadow: 0px 1px 2px rgba(60, 64, 67, 0.3), 0px 1px 3px 1px rgba(60, 64, 67, 0.15);\n",
              "      fill: #174EA6;\n",
              "    }\n",
              "\n",
              "    .colab-df-buttons div {\n",
              "      margin-bottom: 4px;\n",
              "    }\n",
              "\n",
              "    [theme=dark] .colab-df-convert {\n",
              "      background-color: #3B4455;\n",
              "      fill: #D2E3FC;\n",
              "    }\n",
              "\n",
              "    [theme=dark] .colab-df-convert:hover {\n",
              "      background-color: #434B5C;\n",
              "      box-shadow: 0px 1px 3px 1px rgba(0, 0, 0, 0.15);\n",
              "      filter: drop-shadow(0px 1px 2px rgba(0, 0, 0, 0.3));\n",
              "      fill: #FFFFFF;\n",
              "    }\n",
              "  </style>\n",
              "\n",
              "    <script>\n",
              "      const buttonEl =\n",
              "        document.querySelector('#df-b0661d75-6a36-4c36-8955-95a3c12a08c0 button.colab-df-convert');\n",
              "      buttonEl.style.display =\n",
              "        google.colab.kernel.accessAllowed ? 'block' : 'none';\n",
              "\n",
              "      async function convertToInteractive(key) {\n",
              "        const element = document.querySelector('#df-b0661d75-6a36-4c36-8955-95a3c12a08c0');\n",
              "        const dataTable =\n",
              "          await google.colab.kernel.invokeFunction('convertToInteractive',\n",
              "                                                    [key], {});\n",
              "        if (!dataTable) return;\n",
              "\n",
              "        const docLinkHtml = 'Like what you see? Visit the ' +\n",
              "          '<a target=\"_blank\" href=https://colab.research.google.com/notebooks/data_table.ipynb>data table notebook</a>'\n",
              "          + ' to learn more about interactive tables.';\n",
              "        element.innerHTML = '';\n",
              "        dataTable['output_type'] = 'display_data';\n",
              "        await google.colab.output.renderOutput(dataTable, element);\n",
              "        const docLink = document.createElement('div');\n",
              "        docLink.innerHTML = docLinkHtml;\n",
              "        element.appendChild(docLink);\n",
              "      }\n",
              "    </script>\n",
              "  </div>\n",
              "\n",
              "\n",
              "<div id=\"df-b74bbfb2-4fa3-4156-be52-c9f783dbb64a\">\n",
              "  <button class=\"colab-df-quickchart\" onclick=\"quickchart('df-b74bbfb2-4fa3-4156-be52-c9f783dbb64a')\"\n",
              "            title=\"Suggest charts\"\n",
              "            style=\"display:none;\">\n",
              "\n",
              "<svg xmlns=\"http://www.w3.org/2000/svg\" height=\"24px\"viewBox=\"0 0 24 24\"\n",
              "     width=\"24px\">\n",
              "    <g>\n",
              "        <path d=\"M19 3H5c-1.1 0-2 .9-2 2v14c0 1.1.9 2 2 2h14c1.1 0 2-.9 2-2V5c0-1.1-.9-2-2-2zM9 17H7v-7h2v7zm4 0h-2V7h2v10zm4 0h-2v-4h2v4z\"/>\n",
              "    </g>\n",
              "</svg>\n",
              "  </button>\n",
              "\n",
              "<style>\n",
              "  .colab-df-quickchart {\n",
              "      --bg-color: #E8F0FE;\n",
              "      --fill-color: #1967D2;\n",
              "      --hover-bg-color: #E2EBFA;\n",
              "      --hover-fill-color: #174EA6;\n",
              "      --disabled-fill-color: #AAA;\n",
              "      --disabled-bg-color: #DDD;\n",
              "  }\n",
              "\n",
              "  [theme=dark] .colab-df-quickchart {\n",
              "      --bg-color: #3B4455;\n",
              "      --fill-color: #D2E3FC;\n",
              "      --hover-bg-color: #434B5C;\n",
              "      --hover-fill-color: #FFFFFF;\n",
              "      --disabled-bg-color: #3B4455;\n",
              "      --disabled-fill-color: #666;\n",
              "  }\n",
              "\n",
              "  .colab-df-quickchart {\n",
              "    background-color: var(--bg-color);\n",
              "    border: none;\n",
              "    border-radius: 50%;\n",
              "    cursor: pointer;\n",
              "    display: none;\n",
              "    fill: var(--fill-color);\n",
              "    height: 32px;\n",
              "    padding: 0;\n",
              "    width: 32px;\n",
              "  }\n",
              "\n",
              "  .colab-df-quickchart:hover {\n",
              "    background-color: var(--hover-bg-color);\n",
              "    box-shadow: 0 1px 2px rgba(60, 64, 67, 0.3), 0 1px 3px 1px rgba(60, 64, 67, 0.15);\n",
              "    fill: var(--button-hover-fill-color);\n",
              "  }\n",
              "\n",
              "  .colab-df-quickchart-complete:disabled,\n",
              "  .colab-df-quickchart-complete:disabled:hover {\n",
              "    background-color: var(--disabled-bg-color);\n",
              "    fill: var(--disabled-fill-color);\n",
              "    box-shadow: none;\n",
              "  }\n",
              "\n",
              "  .colab-df-spinner {\n",
              "    border: 2px solid var(--fill-color);\n",
              "    border-color: transparent;\n",
              "    border-bottom-color: var(--fill-color);\n",
              "    animation:\n",
              "      spin 1s steps(1) infinite;\n",
              "  }\n",
              "\n",
              "  @keyframes spin {\n",
              "    0% {\n",
              "      border-color: transparent;\n",
              "      border-bottom-color: var(--fill-color);\n",
              "      border-left-color: var(--fill-color);\n",
              "    }\n",
              "    20% {\n",
              "      border-color: transparent;\n",
              "      border-left-color: var(--fill-color);\n",
              "      border-top-color: var(--fill-color);\n",
              "    }\n",
              "    30% {\n",
              "      border-color: transparent;\n",
              "      border-left-color: var(--fill-color);\n",
              "      border-top-color: var(--fill-color);\n",
              "      border-right-color: var(--fill-color);\n",
              "    }\n",
              "    40% {\n",
              "      border-color: transparent;\n",
              "      border-right-color: var(--fill-color);\n",
              "      border-top-color: var(--fill-color);\n",
              "    }\n",
              "    60% {\n",
              "      border-color: transparent;\n",
              "      border-right-color: var(--fill-color);\n",
              "    }\n",
              "    80% {\n",
              "      border-color: transparent;\n",
              "      border-right-color: var(--fill-color);\n",
              "      border-bottom-color: var(--fill-color);\n",
              "    }\n",
              "    90% {\n",
              "      border-color: transparent;\n",
              "      border-bottom-color: var(--fill-color);\n",
              "    }\n",
              "  }\n",
              "</style>\n",
              "\n",
              "  <script>\n",
              "    async function quickchart(key) {\n",
              "      const quickchartButtonEl =\n",
              "        document.querySelector('#' + key + ' button');\n",
              "      quickchartButtonEl.disabled = true;  // To prevent multiple clicks.\n",
              "      quickchartButtonEl.classList.add('colab-df-spinner');\n",
              "      try {\n",
              "        const charts = await google.colab.kernel.invokeFunction(\n",
              "            'suggestCharts', [key], {});\n",
              "      } catch (error) {\n",
              "        console.error('Error during call to suggestCharts:', error);\n",
              "      }\n",
              "      quickchartButtonEl.classList.remove('colab-df-spinner');\n",
              "      quickchartButtonEl.classList.add('colab-df-quickchart-complete');\n",
              "    }\n",
              "    (() => {\n",
              "      let quickchartButtonEl =\n",
              "        document.querySelector('#df-b74bbfb2-4fa3-4156-be52-c9f783dbb64a button');\n",
              "      quickchartButtonEl.style.display =\n",
              "        google.colab.kernel.accessAllowed ? 'block' : 'none';\n",
              "    })();\n",
              "  </script>\n",
              "</div>\n",
              "\n",
              "    </div>\n",
              "  </div>\n"
            ],
            "text/plain": [
              "            Unnamed: 0                                      Subject  \\\n",
              "Message ID                                                            \n",
              "23                  23                                miscellaneous   \n",
              "24                  24  re : purge of old contract _ event _ status   \n",
              "32                  32                         valero 8018 and 1394   \n",
              "37                  37               01 / 00 natural gas nomination   \n",
              "43                  43                        re : misc . questions   \n",
              "\n",
              "                                                      Message Spam/Ham  \\\n",
              "Message ID                                                               \n",
              "23          - - - - - - - - - - - - - - - - - - - - - - fo...      ham   \n",
              "24          fyi - what do you all think ?\\n- - - - - - - -...      ham   \n",
              "32          it is my understanding the outages valero incu...      ham   \n",
              "37          enron methanol company nominates the following...      ham   \n",
              "43          - - - - - - - - - - - - - - - - - - - - - - fo...      ham   \n",
              "\n",
              "               split  \n",
              "Message ID            \n",
              "23         -0.351998  \n",
              "24          0.257704  \n",
              "32          0.091200  \n",
              "37         -1.745133  \n",
              "43         -1.911987  "
            ]
          },
          "execution_count": 4,
          "metadata": {},
          "output_type": "execute_result"
        }
      ],
      "source": [
        "valid.head(5)"
      ]
    },
    {
      "cell_type": "markdown",
      "metadata": {
        "id": "899gBe-uxiXH"
      },
      "source": [
        "####EDA"
      ]
    },
    {
      "cell_type": "code",
      "execution_count": null,
      "metadata": {
        "colab": {
          "base_uri": "https://localhost:8080/",
          "height": 440
        },
        "id": "7DoaxGLTxqeV",
        "outputId": "057a6e7d-56be-4844-b6b4-6e9ea9dc5773"
      },
      "outputs": [
        {
          "data": {
            "text/plain": [
              "(-1.0999999475894917,\n",
              " 1.0999999909323814,\n",
              " -1.0999999570472454,\n",
              " 1.0999999979546307)"
            ]
          },
          "execution_count": 5,
          "metadata": {},
          "output_type": "execute_result"
        },
        {
          "data": {
            "image/png": "[encoded data removed]",
            "text/plain": [
              "<Figure size 1200x400 with 1 Axes>"
            ]
          },
          "metadata": {},
          "output_type": "display_data"
        }
      ],
      "source": [
        "import matplotlib.pyplot as plt\n",
        "\n",
        "train_ham_count = train[train['Spam/Ham'] == 'ham'].shape[0]\n",
        "train_spam_count = train[train['Spam/Ham'] == 'spam'].shape[0]\n",
        "\n",
        "valid_ham_count = valid[valid['Spam/Ham'] == 'ham'].shape[0]\n",
        "valid_spam_count = valid[valid['Spam/Ham'] == 'spam'].shape[0]\n",
        "\n",
        "## Plotting\n",
        "plt.figure(figsize=(12, 4))\n",
        "plt.subplot(1, 2, 1)\n",
        "plt.pie([train_ham_count, train_spam_count], labels=['ham', 'spam'], autopct='%1.1f%%', startangle=90)\n",
        "plt.title('Distribution of Spam and Ham Emails in Training Set')\n",
        "plt.axis('equal')"
      ]
    },
    {
      "cell_type": "code",
      "execution_count": null,
      "metadata": {
        "id": "0Sala-nh1KoZ"
      },
      "outputs": [],
      "source": [
        "from collections import Counter\n",
        "\n",
        "train['text'] = train['Subject'] + ' ' + train['Message']\n",
        "\n",
        "ham_words = ' '.join(list(train[train['Spam/Ham'] == 'ham']['text'].astype(str)))\n",
        "spam_words = ' '.join(list(train[train['Spam/Ham'] == 'spam']['text'].astype(str)))\n",
        "\n",
        "ham_words = ham_words.split()\n",
        "spam_words = spam_words.split()\n",
        "\n",
        "ham_word_freq = Counter(ham_words)\n",
        "spam_word_freq = Counter(spam_words)"
      ]
    },
    {
      "cell_type": "code",
      "execution_count": null,
      "metadata": {
        "colab": {
          "base_uri": "https://localhost:8080/",
          "height": 564
        },
        "id": "raj0ZShw1Lcr",
        "outputId": "289cbbcd-dcc7-4c0e-afea-fd982fbd4f8c"
      },
      "outputs": [
        {
          "data": {
            "image/png": "[encoded data removed]",
            "text/plain": [
              "<Figure size 1000x600 with 1 Axes>"
            ]
          },
          "metadata": {},
          "output_type": "display_data"
        }
      ],
      "source": [
        "# Visualize the most common words in ham emails\n",
        "import matplotlib.pyplot as plt\n",
        "import numpy as np\n",
        "\n",
        "ham_word_freq_df = pd.DataFrame(ham_word_freq.most_common(20), columns=['word', 'frequency'])\n",
        "ham_word_freq_df = ham_word_freq_df.sort_values(by='frequency')\n",
        "\n",
        "colors = plt.cm.tab20(np.linspace(0, 1, 20))\n",
        "\n",
        "plt.figure(figsize=(10, 6))\n",
        "plt.barh(ham_word_freq_df['word'], ham_word_freq_df['frequency'], color=colors)\n",
        "plt.xlabel('Frequency')\n",
        "plt.ylabel('Words')\n",
        "plt.title('Top 20 most common words in ham emails')\n",
        "plt.show()"
      ]
    },
    {
      "cell_type": "code",
      "execution_count": null,
      "metadata": {
        "colab": {
          "base_uri": "https://localhost:8080/",
          "height": 564
        },
        "id": "LT1EfXtO1j3C",
        "outputId": "e3f0d16b-614e-499f-ef22-67ddececaba4"
      },
      "outputs": [
        {
          "data": {
            "image/png": "[encoded data removed]",
            "text/plain": [
              "<Figure size 1000x600 with 1 Axes>"
            ]
          },
          "metadata": {},
          "output_type": "display_data"
        }
      ],
      "source": [
        "# Visualize the most common words in spam emails\n",
        "\n",
        "spam_word_freq_df = pd.DataFrame(spam_word_freq.most_common(20), columns=['word', 'frequency'])\n",
        "spam_word_freq_df = spam_word_freq_df.sort_values(by='frequency')\n",
        "\n",
        "colors = plt.cm.tab20(np.linspace(0, 1, 20))\n",
        "\n",
        "plt.figure(figsize=(10, 6))\n",
        "plt.barh(spam_word_freq_df['word'], spam_word_freq_df['frequency'], color=colors)\n",
        "plt.xlabel('Frequency')\n",
        "plt.ylabel('Words')\n",
        "plt.title('Top 20 most common words in spam emails')\n",
        "plt.show()"
      ]
    },
    {
      "cell_type": "code",
      "execution_count": null,
      "metadata": {
        "id": "hdchq5Wg12gg"
      },
      "outputs": [],
      "source": [
        "train.drop(columns=['text'], inplace=True)"
      ]
    },
    {
      "cell_type": "markdown",
      "metadata": {
        "id": "2tmvTojU2UBC"
      },
      "source": [
        "## 2. Tiền xử lý dữ liệu\n",
        "\n"
      ]
    },
    {
      "cell_type": "markdown",
      "metadata": {
        "id": "K4oIM-SE2ieL"
      },
      "source": [
        "### 2.1 Về dữ liệu\n",
        "\n"
      ]
    },
    {
      "cell_type": "markdown",
      "metadata": {
        "id": "N2w6x0XP2kWx"
      },
      "source": [
        "- Nội dung dữ liệu:\n",
        "  - **Đầu vào** gồm có 2 đặc trưng: `Subject`, `Message`.\n",
        "  - **Đầu ra** là một nhãn của email: `Spam` hoặc `Ham`.\n"
      ]
    },
    {
      "cell_type": "markdown",
      "metadata": {
        "id": "23ytQ3PQ2llk"
      },
      "source": [
        "\n",
        "### 2.2 Yêu cầu\n"
      ]
    },
    {
      "cell_type": "markdown",
      "metadata": {
        "id": "SE5IIEsq2oO2"
      },
      "source": [
        "Trong phần này, nhóm cần hoàn thành các yêu cầu sau:\n",
        "- (Optional) Làm sạch dữ liệu nếu có thể: kiểm tra những dòng bị lặp, biến đổi/sắp xếp thứ tự các dòng dữ liệu lại, ...\n",
        "- Các nhóm được phép sử dụng thêm một số phương pháp khác để gia tăng hiệu quả của mô hình nhưng nhóm cần cho biết phương pháp mình áp dụng là gì và mức độ cải thiện cụ thể gia tăng bao nhiêu."
      ]
    },
    {
      "cell_type": "markdown",
      "metadata": {
        "id": "f2u48eqDwKa6"
      },
      "source": [
        "### 2.3 Bài làm"
      ]
    },
    {
      "cell_type": "markdown",
      "metadata": {
        "id": "UUiD6r07wKa6"
      },
      "source": [
        "CleanData bao bồm các bước sau:\n",
        "1. Drop những column không cần thiết.\n",
        "2. Xóa những dòng dữ liệu trùng lặp.\n",
        "3. Điền giá trị \" \" vào những ô dữ liệu là NaN.\n",
        "4. Nối cột Subject và Message thành một cột mới là \"full_message\".\n",
        "5. Xoá dấu câu\n",
        "6. Xoá stop words\n",
        "7. Stemming, Lemmatization"
      ]
    },
    {
      "cell_type": "code",
      "execution_count": null,
      "metadata": {
        "colab": {
          "base_uri": "https://localhost:8080/"
        },
        "id": "Ug2NlLBCwKa6",
        "outputId": "be47763a-dc0a-4798-f643-ee98307c8c36"
      },
      "outputs": [
        {
          "name": "stdout",
          "output_type": "stream",
          "text": [
            "Found full_message Column from file train data\n",
            "shape train data:  (25023, 4)\n",
            "Found full_message Column from file valid data\n",
            "shape valid data:  (3033, 4)\n"
          ]
        }
      ],
      "source": [
        "dropColumns = ['Unnamed: 0', 'split']\n",
        "resultCol = 'Result'\n",
        "renameColumns = {'Spam/Ham': resultCol}\n",
        "\n",
        "def data_cleaning(df, name=\"\"):\n",
        "    try:\n",
        "      df.drop(columns=dropColumns, inplace=True)\n",
        "    except:\n",
        "      pass\n",
        "\n",
        "    try:\n",
        "      df.rename(columns=renameColumns, inplace=True)\n",
        "    except:\n",
        "      pass\n",
        "\n",
        "    try:\n",
        "      df.fillna({'Subject': ' ', 'Message': ' '}, inplace=True)\n",
        "      df.drop_duplicates(keep='first', inplace=True)\n",
        "      df['full_message'] = [' '.join([subject, message]) for subject, message in zip(df['Subject'], df['Message'])]\n",
        "    except:\n",
        "      print(f\"Cannot find Subject and Message Column from file {name}\")\n",
        "      pass\n",
        "\n",
        "    if 'full_message' not in df.columns:\n",
        "      print(f\"Cannot find full_message Column from file {name}\")\n",
        "      return df\n",
        "    else:\n",
        "      print(f\"Found full_message Column from file {name}\")\n",
        "\n",
        "    print(f'shape {name}: ', df.shape)\n",
        "    # assert if some field is not zero\n",
        "    assert df.isnull().sum().sum() == 0\n",
        "    assert df.duplicated().sum() == 0\n",
        "    return df\n",
        "\n",
        "train = data_cleaning(train, \"train data\")\n",
        "valid = data_cleaning(valid, \"valid data\")\n",
        "\n",
        "assert train.isnull().sum().sum() == 0\n",
        "assert train.duplicated().sum() == 0\n",
        "assert valid.isnull().sum().sum() == 0\n",
        "assert valid.duplicated().sum() == 0"
      ]
    },
    {
      "cell_type": "code",
      "execution_count": null,
      "metadata": {
        "colab": {
          "base_uri": "https://localhost:8080/"
        },
        "id": "tCX_TOXGwKa7",
        "outputId": "acf87d34-86c3-494b-b592-7a4ae7fa9230"
      },
      "outputs": [
        {
          "name": "stdout",
          "output_type": "stream",
          "text": [
            "<class 'pandas.core.frame.DataFrame'>\n",
            "Index: 25023 entries, 0 to 33714\n",
            "Data columns (total 4 columns):\n",
            " #   Column        Non-Null Count  Dtype \n",
            "---  ------        --------------  ----- \n",
            " 0   Subject       25023 non-null  object\n",
            " 1   Message       25023 non-null  object\n",
            " 2   Result        25023 non-null  object\n",
            " 3   full_message  25023 non-null  object\n",
            "dtypes: object(4)\n",
            "memory usage: 977.5+ KB\n"
          ]
        }
      ],
      "source": [
        "train.info()"
      ]
    },
    {
      "cell_type": "code",
      "execution_count": null,
      "metadata": {
        "colab": {
          "base_uri": "https://localhost:8080/"
        },
        "id": "kub-XWqRwKa7",
        "outputId": "ffa13506-cfaf-47c4-fc33-68353f8ba4b7"
      },
      "outputs": [
        {
          "name": "stdout",
          "output_type": "stream",
          "text": [
            "<class 'pandas.core.frame.DataFrame'>\n",
            "Index: 3033 entries, 23 to 33692\n",
            "Data columns (total 4 columns):\n",
            " #   Column        Non-Null Count  Dtype \n",
            "---  ------        --------------  ----- \n",
            " 0   Subject       3033 non-null   object\n",
            " 1   Message       3033 non-null   object\n",
            " 2   Result        3033 non-null   object\n",
            " 3   full_message  3033 non-null   object\n",
            "dtypes: object(4)\n",
            "memory usage: 118.5+ KB\n"
          ]
        }
      ],
      "source": [
        "valid.info()"
      ]
    },
    {
      "cell_type": "code",
      "execution_count": null,
      "metadata": {
        "id": "h9nR2-MDwKa7"
      },
      "outputs": [],
      "source": [
        "# Some methods to get data\n",
        "def hamData():\n",
        "  return train[train[resultCol] == 'ham']\n",
        "def spamData():\n",
        "  return train[train[resultCol] == 'spam']"
      ]
    },
    {
      "cell_type": "markdown",
      "metadata": {
        "id": "ya5RZ5XxwKa8"
      },
      "source": [
        "#### Preprocessed data"
      ]
    },
    {
      "cell_type": "code",
      "execution_count": null,
      "metadata": {
        "colab": {
          "base_uri": "https://localhost:8080/"
        },
        "id": "w4eA-APswKa8",
        "outputId": "76474819-88c6-4bd5-dd85-b54a5a793b17"
      },
      "outputs": [
        {
          "name": "stderr",
          "output_type": "stream",
          "text": [
            "[nltk_data] Downloading package stopwords to /root/nltk_data...\n",
            "[nltk_data]   Unzipping corpora/stopwords.zip.\n",
            "[nltk_data] Downloading package punkt to /root/nltk_data...\n",
            "[nltk_data]   Unzipping tokenizers/punkt.zip.\n",
            "[nltk_data] Downloading package wordnet to /root/nltk_data...\n"
          ]
        }
      ],
      "source": [
        "# data preprocessing\n",
        "import nltk\n",
        "nltk.download('stopwords')\n",
        "nltk.download('punkt')\n",
        "nltk.download('wordnet')\n",
        "import string\n",
        "from nltk.corpus import stopwords\n",
        "from nltk.stem import PorterStemmer, WordNetLemmatizer\n",
        "from nltk.tokenize import sent_tokenize, word_tokenize\n",
        "import re\n",
        "from collections import Counter"
      ]
    },
    {
      "cell_type": "code",
      "execution_count": null,
      "metadata": {
        "id": "A5AJShT9wKa9"
      },
      "outputs": [],
      "source": [
        "# Follow this blog: https://www.analyticsvidhya.com/blog/2021/06/text-preprocessing-in-nlp-with-python-codes/#:~:text=Text%20preprocessing%20is%20an%20essential,part%2Dof%2Dspeech%20tagging.\n",
        "def lower_text(text):\n",
        "    return text.lower()\n",
        "\n",
        "def remove_punctuation(text):\n",
        "    punctuationfree = \"\".join([i for i in text if i not in string.punctuation])\n",
        "    return punctuationfree\n",
        "\n",
        "def remove_stopwords(text):\n",
        "    stopwords = nltk.corpus.stopwords.words('english')\n",
        "    output= [i for i in text if i not in stopwords]\n",
        "    return output\n",
        "\n",
        "def stemming(text):\n",
        "    porter_stemmer = PorterStemmer()\n",
        "    stem_text = [porter_stemmer.stem(word) for word in text]\n",
        "    return stem_text\n",
        "\n",
        "def lemmatizer(text):\n",
        "    wordnet_lemmatizer = WordNetLemmatizer()\n",
        "    lemm_text = [wordnet_lemmatizer.lemmatize(word) for word in text]\n",
        "    return lemm_text\n",
        "\n",
        "def preprocess_text_pipeline(text):\n",
        "  \"\"\"\n",
        "  Preprocesses a given text string.\n",
        "  \"\"\"\n",
        "   # 1. Lowercasing & Remove special word ???:\n",
        "  text = lower_text(text)\n",
        "\n",
        "  # 2. Removing punctuation:\n",
        "  text = remove_punctuation(text)\n",
        "\n",
        "  # 3. Tokenization:\n",
        "  tokens = word_tokenize(text)\n",
        "\n",
        "  # 4. Removing stop words:\n",
        "  #Stop words present in the library\n",
        "  # stopwords = nltk.corpus.stopwords.words('english')\n",
        "  # stopwords[0:10]\n",
        "  tokens = remove_stopwords(tokens)\n",
        "\n",
        "  # 5. Stemming\n",
        "  tokens = stemming(tokens)\n",
        "\n",
        "  # 6. Lemmatization:\n",
        "  tokens = lemmatizer(tokens)\n",
        "\n",
        "  return ' '.join(tokens)"
      ]
    },
    {
      "cell_type": "code",
      "execution_count": null,
      "metadata": {
        "colab": {
          "background_save": true
        },
        "id": "jU6p7F-DwKa9",
        "outputId": "5ac2b7cc-9036-489e-97e3-292cc64d4a11"
      },
      "outputs": [
        {
          "data": {
            "application/vnd.google.colaboratory.intrinsic+json": {
              "summary": "{\n  \"name\": \"train\",\n  \"rows\": 5,\n  \"fields\": [\n    {\n      \"column\": \"Message ID\",\n      \"properties\": {\n        \"dtype\": \"number\",\n        \"std\": 7302,\n        \"min\": 8592,\n        \"max\": 24992,\n        \"num_unique_values\": 5,\n        \"samples\": [\n          20252,\n          10362,\n          8592\n        ],\n        \"semantic_type\": \"\",\n        \"description\": \"\"\n      }\n    },\n    {\n      \"column\": \"Subject\",\n      \"properties\": {\n        \"dtype\": \"string\",\n        \"num_unique_values\": 5,\n        \"samples\": [\n          \"inncenot bitcehs gushing loads\",\n          \"v foorever\",\n          \"re : livelink test for research\"\n        ],\n        \"semantic_type\": \"\",\n        \"description\": \"\"\n      }\n    },\n    {\n      \"column\": \"Message\",\n      \"properties\": {\n        \"dtype\": \"string\",\n        \"num_unique_values\": 5,\n        \"samples\": [\n          \" ello , ' ello , ' ello , what have we got here ?\\nata logo\\n\",\n          \"hello , welcome to pha russian rmonline sho inwove p\\n- one of the leading oniine pharmace clonus utical shops\\naffective v\\neventual g\\na intercommunication l\\nexterminate ll\\nl severely a\\nr altruist ac anticlimax l\\nbooster is victor va\\nu aggregate m\\nandmanyother .\\n- save o gryphon ver 50 %\\n- worldwide gripsack shlpplng\\n- total confidentiaii hayrick ty\\n- over 5 miiiion customers in 130 count puerile ries\\nspontaneity have a nice day !\",\n          \"moyez lallani has agreed to give a presentation on livelink , the application\\nwhich will replace the research projects tracking database at next thursday ' s\\ngroup meeting . let me know if there is any problem with this .\\nthanks ,\\nstinson\\n- - - - - - - - - - - - - - - - - - - - - - forwarded by stinson gibner / hou / ect on 03 / 02 / 2001\\n07 : 45 am - - - - - - - - - - - - - - - - - - - - - - - - - - -\\nfrom : moyez lallani / enron @ enronxgate on 03 / 02 / 2001 07 : 32 am\\nto : stinson gibner / hou / ect @ ect\\ncc : vasant shanbhogue / hou / ect @ ect\\nsubject : re : livelink test for research\\nroom 30 cl on thursday 3 / 8 / 2001 at 11 : 30 . i have it recorded in my calendar .\\ni \\u0001 , ll bring a laptop . please let me know if there is a change of plans .\\nthanks .\\nmoyez lallani\\nenron networks\\n713 - 345 - 3683\\nmoyez . lallani @ enron . com\\n- - - - - original message - - - - -\\nfrom : gibner , stinson\\nsent : friday , march 02 , 2001 7 : 07 am\\nto : lallani , moyez\\ncc : shanbhogue , vasant\\nsubject : re : livelink test for research\\nmoyez ,\\nthanks , i will try and collect the information today . vasant and i were\\nthinking that it would make sense to let people try the application under the\\ntest environment for a few weeks . then we can incorporate any additional\\nsuggestions and move to production around the first week in april .\\nour meeting room does have a screen and network connection , and we can\\nprofide an lcd projector as well . how about thursday of next week ?\\nthanks ,\\nstinson\\nfrom : moyez lallani / enron @ enronxgate on 03 / 01 / 2001 04 : 35 pm\\nto : stinson gibner / hou / ect @ ect\\ncc :\\nsubject : re : liveline test for research\\nstinson ,\\nsorry to have to do this to you but i need some additional information in\\norder to add these users to the research projects group . please use the\\nattached template to capture the information needed and forward to me at your\\nconvenience . also , the group has only been set up in the test environment .\\ndo you want to add the users to the test environment or are you ready to\\nmigrate to production ?\\nas far as the demo is concerned , i \\u0001 , ll be happy to accommodate your group .\\nhow many people do you expect at the demo and does the room have a display\\nscreen and network connection ? let me know which thursday you would like me\\nto conduct the demo and i \\u0001 , ll be there .\\n>\\nmoyez lallani\\nenron networks\\n713 - 345 - 3683\\nmoyez . lallani @ enron . com\\n- - - - - original message - - - - -\\nfrom : gibner , stinson\\nsent : thursday , march 01 , 2001 4 : 24 pm\\nto : lallani , moyez\\nsubject : liveline test for research\\nmoyez ,\\ncan you add access to the following users for the livelink research projects\\ndatabase ? also , would you be available to give a short demonstration and\\ntutorial on how to use livelink for our group ? we hold a lunch meeting\\neach thursday from 11 : 30 - 1 : 00 in 30 cl at which there is usually a short\\npresentation on a topic of interest . i think it would be very useful for the\\ngroup to have an overview of how to use the tool before everyone jumps into\\nit . the presentation can be quite informal . let me know if you would be\\navailable in the next couple of weeks .\\n- - stinson\\n- - - - - - - - - - - - - - - - - - - - - - forwarded by stinson gibner / hou / ect on 03 / 01 / 2001\\n04 : 12 pm - - - - - - - - - - - - - - - - - - - - - - - - - - -\\ns @ _ - \\u0001 g _ , x ? \\u0003 ~ o ? ' ] s ? _ _ _ _ s ? \\b \\u000f _ ? * ? ? ? j ? ? \\u000f _ \\\" ? zn _ ? ? _ y _ 7 d ? [ t ? ? _ yn ? [ . _ _ _ \\\" ? * ? ? _ b ? ; _ _ _ y _ ? \\u000f _\\n, ? _ ?\"\n        ],\n        \"semantic_type\": \"\",\n        \"description\": \"\"\n      }\n    },\n    {\n      \"column\": \"Result\",\n      \"properties\": {\n        \"dtype\": \"category\",\n        \"num_unique_values\": 2,\n        \"samples\": [\n          \"ham\",\n          \"spam\"\n        ],\n        \"semantic_type\": \"\",\n        \"description\": \"\"\n      }\n    },\n    {\n      \"column\": \"full_message\",\n      \"properties\": {\n        \"dtype\": \"string\",\n        \"num_unique_values\": 5,\n        \"samples\": [\n          \"inncenot bitcehs gushing loads  ello , ' ello , ' ello , what have we got here ?\\nata logo\\n\",\n          \"v foorever hello , welcome to pha russian rmonline sho inwove p\\n- one of the leading oniine pharmace clonus utical shops\\naffective v\\neventual g\\na intercommunication l\\nexterminate ll\\nl severely a\\nr altruist ac anticlimax l\\nbooster is victor va\\nu aggregate m\\nandmanyother .\\n- save o gryphon ver 50 %\\n- worldwide gripsack shlpplng\\n- total confidentiaii hayrick ty\\n- over 5 miiiion customers in 130 count puerile ries\\nspontaneity have a nice day !\"\n        ],\n        \"semantic_type\": \"\",\n        \"description\": \"\"\n      }\n    },\n    {\n      \"column\": \"transform_text\",\n      \"properties\": {\n        \"dtype\": \"string\",\n        \"num_unique_values\": 5,\n        \"samples\": [\n          \"inncenot bitceh gush load ello ello ello got ata logo\",\n          \"v foorev hello welcom pha russian rmonlin sho inwov p one lead oniin pharmac clonu utic shop affect v eventu g intercommun l extermin l sever r altruist ac anticlimax l booster victor va u aggreg andmanyoth save gryphon ver 50 worldwid gripsack shlpplng total confidentiaii hayrick ty 5 miiiion custom 130 count pueril rie spontan nice day\"\n        ],\n        \"semantic_type\": \"\",\n        \"description\": \"\"\n      }\n    }\n  ]\n}",
              "type": "dataframe"
            },
            "text/html": [
              "\n",
              "  <div id=\"df-886631d2-0657-427a-a0b6-aaa27481b2d3\" class=\"colab-df-container\">\n",
              "    <div>\n",
              "<style scoped>\n",
              "    .dataframe tbody tr th:only-of-type {\n",
              "        vertical-align: middle;\n",
              "    }\n",
              "\n",
              "    .dataframe tbody tr th {\n",
              "        vertical-align: top;\n",
              "    }\n",
              "\n",
              "    .dataframe thead th {\n",
              "        text-align: right;\n",
              "    }\n",
              "</style>\n",
              "<table border=\"1\" class=\"dataframe\">\n",
              "  <thead>\n",
              "    <tr style=\"text-align: right;\">\n",
              "      <th></th>\n",
              "      <th>Subject</th>\n",
              "      <th>Message</th>\n",
              "      <th>Result</th>\n",
              "      <th>full_message</th>\n",
              "      <th>transform_text</th>\n",
              "    </tr>\n",
              "    <tr>\n",
              "      <th>Message ID</th>\n",
              "      <th></th>\n",
              "      <th></th>\n",
              "      <th></th>\n",
              "      <th></th>\n",
              "      <th></th>\n",
              "    </tr>\n",
              "  </thead>\n",
              "  <tbody>\n",
              "    <tr>\n",
              "      <th>21937</th>\n",
              "      <td>looking for cheap high - quality software ? ex...</td>\n",
              "      <td>subject , about , natural red woman . my mothe...</td>\n",
              "      <td>spam</td>\n",
              "      <td>looking for cheap high - quality software ? ex...</td>\n",
              "      <td>look cheap high qualiti softwar extrapol earth...</td>\n",
              "    </tr>\n",
              "    <tr>\n",
              "      <th>20252</th>\n",
              "      <td>inncenot bitcehs gushing loads</td>\n",
              "      <td>ello , ' ello , ' ello , what have we got her...</td>\n",
              "      <td>spam</td>\n",
              "      <td>inncenot bitcehs gushing loads  ello , ' ello ...</td>\n",
              "      <td>inncenot bitceh gush load ello ello ello got a...</td>\n",
              "    </tr>\n",
              "    <tr>\n",
              "      <th>8592</th>\n",
              "      <td>re : livelink test for research</td>\n",
              "      <td>moyez lallani has agreed to give a presentatio...</td>\n",
              "      <td>ham</td>\n",
              "      <td>re : livelink test for research moyez lallani ...</td>\n",
              "      <td>livelink test research moyez lallani agre give...</td>\n",
              "    </tr>\n",
              "    <tr>\n",
              "      <th>24992</th>\n",
              "      <td>do you need a second mortgage ? 22956</td>\n",
              "      <td>let\\nmortgage lenders compete for your busines...</td>\n",
              "      <td>spam</td>\n",
              "      <td>do you need a second mortgage ? 22956 let\\nmor...</td>\n",
              "      <td>need second mortgag 22956 let mortgag lender c...</td>\n",
              "    </tr>\n",
              "    <tr>\n",
              "      <th>10362</th>\n",
              "      <td>v foorever</td>\n",
              "      <td>hello , welcome to pha russian rmonline sho in...</td>\n",
              "      <td>spam</td>\n",
              "      <td>v foorever hello , welcome to pha russian rmon...</td>\n",
              "      <td>v foorev hello welcom pha russian rmonlin sho ...</td>\n",
              "    </tr>\n",
              "  </tbody>\n",
              "</table>\n",
              "</div>\n",
              "    <div class=\"colab-df-buttons\">\n",
              "\n",
              "  <div class=\"colab-df-container\">\n",
              "    <button class=\"colab-df-convert\" onclick=\"convertToInteractive('df-886631d2-0657-427a-a0b6-aaa27481b2d3')\"\n",
              "            title=\"Convert this dataframe to an interactive table.\"\n",
              "            style=\"display:none;\">\n",
              "\n",
              "  <svg xmlns=\"http://www.w3.org/2000/svg\" height=\"24px\" viewBox=\"0 -960 960 960\">\n",
              "    <path d=\"M120-120v-720h720v720H120Zm60-500h600v-160H180v160Zm220 220h160v-160H400v160Zm0 220h160v-160H400v160ZM180-400h160v-160H180v160Zm440 0h160v-160H620v160ZM180-180h160v-160H180v160Zm440 0h160v-160H620v160Z\"/>\n",
              "  </svg>\n",
              "    </button>\n",
              "\n",
              "  <style>\n",
              "    .colab-df-container {\n",
              "      display:flex;\n",
              "      gap: 12px;\n",
              "    }\n",
              "\n",
              "    .colab-df-convert {\n",
              "      background-color: #E8F0FE;\n",
              "      border: none;\n",
              "      border-radius: 50%;\n",
              "      cursor: pointer;\n",
              "      display: none;\n",
              "      fill: #1967D2;\n",
              "      height: 32px;\n",
              "      padding: 0 0 0 0;\n",
              "      width: 32px;\n",
              "    }\n",
              "\n",
              "    .colab-df-convert:hover {\n",
              "      background-color: #E2EBFA;\n",
              "      box-shadow: 0px 1px 2px rgba(60, 64, 67, 0.3), 0px 1px 3px 1px rgba(60, 64, 67, 0.15);\n",
              "      fill: #174EA6;\n",
              "    }\n",
              "\n",
              "    .colab-df-buttons div {\n",
              "      margin-bottom: 4px;\n",
              "    }\n",
              "\n",
              "    [theme=dark] .colab-df-convert {\n",
              "      background-color: #3B4455;\n",
              "      fill: #D2E3FC;\n",
              "    }\n",
              "\n",
              "    [theme=dark] .colab-df-convert:hover {\n",
              "      background-color: #434B5C;\n",
              "      box-shadow: 0px 1px 3px 1px rgba(0, 0, 0, 0.15);\n",
              "      filter: drop-shadow(0px 1px 2px rgba(0, 0, 0, 0.3));\n",
              "      fill: #FFFFFF;\n",
              "    }\n",
              "  </style>\n",
              "\n",
              "    <script>\n",
              "      const buttonEl =\n",
              "        document.querySelector('#df-886631d2-0657-427a-a0b6-aaa27481b2d3 button.colab-df-convert');\n",
              "      buttonEl.style.display =\n",
              "        google.colab.kernel.accessAllowed ? 'block' : 'none';\n",
              "\n",
              "      async function convertToInteractive(key) {\n",
              "        const element = document.querySelector('#df-886631d2-0657-427a-a0b6-aaa27481b2d3');\n",
              "        const dataTable =\n",
              "          await google.colab.kernel.invokeFunction('convertToInteractive',\n",
              "                                                    [key], {});\n",
              "        if (!dataTable) return;\n",
              "\n",
              "        const docLinkHtml = 'Like what you see? Visit the ' +\n",
              "          '<a target=\"_blank\" href=https://colab.research.google.com/notebooks/data_table.ipynb>data table notebook</a>'\n",
              "          + ' to learn more about interactive tables.';\n",
              "        element.innerHTML = '';\n",
              "        dataTable['output_type'] = 'display_data';\n",
              "        await google.colab.output.renderOutput(dataTable, element);\n",
              "        const docLink = document.createElement('div');\n",
              "        docLink.innerHTML = docLinkHtml;\n",
              "        element.appendChild(docLink);\n",
              "      }\n",
              "    </script>\n",
              "  </div>\n",
              "\n",
              "\n",
              "<div id=\"df-14ea38d6-01ac-4362-9140-d26cc04158b5\">\n",
              "  <button class=\"colab-df-quickchart\" onclick=\"quickchart('df-14ea38d6-01ac-4362-9140-d26cc04158b5')\"\n",
              "            title=\"Suggest charts\"\n",
              "            style=\"display:none;\">\n",
              "\n",
              "<svg xmlns=\"http://www.w3.org/2000/svg\" height=\"24px\"viewBox=\"0 0 24 24\"\n",
              "     width=\"24px\">\n",
              "    <g>\n",
              "        <path d=\"M19 3H5c-1.1 0-2 .9-2 2v14c0 1.1.9 2 2 2h14c1.1 0 2-.9 2-2V5c0-1.1-.9-2-2-2zM9 17H7v-7h2v7zm4 0h-2V7h2v10zm4 0h-2v-4h2v4z\"/>\n",
              "    </g>\n",
              "</svg>\n",
              "  </button>\n",
              "\n",
              "<style>\n",
              "  .colab-df-quickchart {\n",
              "      --bg-color: #E8F0FE;\n",
              "      --fill-color: #1967D2;\n",
              "      --hover-bg-color: #E2EBFA;\n",
              "      --hover-fill-color: #174EA6;\n",
              "      --disabled-fill-color: #AAA;\n",
              "      --disabled-bg-color: #DDD;\n",
              "  }\n",
              "\n",
              "  [theme=dark] .colab-df-quickchart {\n",
              "      --bg-color: #3B4455;\n",
              "      --fill-color: #D2E3FC;\n",
              "      --hover-bg-color: #434B5C;\n",
              "      --hover-fill-color: #FFFFFF;\n",
              "      --disabled-bg-color: #3B4455;\n",
              "      --disabled-fill-color: #666;\n",
              "  }\n",
              "\n",
              "  .colab-df-quickchart {\n",
              "    background-color: var(--bg-color);\n",
              "    border: none;\n",
              "    border-radius: 50%;\n",
              "    cursor: pointer;\n",
              "    display: none;\n",
              "    fill: var(--fill-color);\n",
              "    height: 32px;\n",
              "    padding: 0;\n",
              "    width: 32px;\n",
              "  }\n",
              "\n",
              "  .colab-df-quickchart:hover {\n",
              "    background-color: var(--hover-bg-color);\n",
              "    box-shadow: 0 1px 2px rgba(60, 64, 67, 0.3), 0 1px 3px 1px rgba(60, 64, 67, 0.15);\n",
              "    fill: var(--button-hover-fill-color);\n",
              "  }\n",
              "\n",
              "  .colab-df-quickchart-complete:disabled,\n",
              "  .colab-df-quickchart-complete:disabled:hover {\n",
              "    background-color: var(--disabled-bg-color);\n",
              "    fill: var(--disabled-fill-color);\n",
              "    box-shadow: none;\n",
              "  }\n",
              "\n",
              "  .colab-df-spinner {\n",
              "    border: 2px solid var(--fill-color);\n",
              "    border-color: transparent;\n",
              "    border-bottom-color: var(--fill-color);\n",
              "    animation:\n",
              "      spin 1s steps(1) infinite;\n",
              "  }\n",
              "\n",
              "  @keyframes spin {\n",
              "    0% {\n",
              "      border-color: transparent;\n",
              "      border-bottom-color: var(--fill-color);\n",
              "      border-left-color: var(--fill-color);\n",
              "    }\n",
              "    20% {\n",
              "      border-color: transparent;\n",
              "      border-left-color: var(--fill-color);\n",
              "      border-top-color: var(--fill-color);\n",
              "    }\n",
              "    30% {\n",
              "      border-color: transparent;\n",
              "      border-left-color: var(--fill-color);\n",
              "      border-top-color: var(--fill-color);\n",
              "      border-right-color: var(--fill-color);\n",
              "    }\n",
              "    40% {\n",
              "      border-color: transparent;\n",
              "      border-right-color: var(--fill-color);\n",
              "      border-top-color: var(--fill-color);\n",
              "    }\n",
              "    60% {\n",
              "      border-color: transparent;\n",
              "      border-right-color: var(--fill-color);\n",
              "    }\n",
              "    80% {\n",
              "      border-color: transparent;\n",
              "      border-right-color: var(--fill-color);\n",
              "      border-bottom-color: var(--fill-color);\n",
              "    }\n",
              "    90% {\n",
              "      border-color: transparent;\n",
              "      border-bottom-color: var(--fill-color);\n",
              "    }\n",
              "  }\n",
              "</style>\n",
              "\n",
              "  <script>\n",
              "    async function quickchart(key) {\n",
              "      const quickchartButtonEl =\n",
              "        document.querySelector('#' + key + ' button');\n",
              "      quickchartButtonEl.disabled = true;  // To prevent multiple clicks.\n",
              "      quickchartButtonEl.classList.add('colab-df-spinner');\n",
              "      try {\n",
              "        const charts = await google.colab.kernel.invokeFunction(\n",
              "            'suggestCharts', [key], {});\n",
              "      } catch (error) {\n",
              "        console.error('Error during call to suggestCharts:', error);\n",
              "      }\n",
              "      quickchartButtonEl.classList.remove('colab-df-spinner');\n",
              "      quickchartButtonEl.classList.add('colab-df-quickchart-complete');\n",
              "    }\n",
              "    (() => {\n",
              "      let quickchartButtonEl =\n",
              "        document.querySelector('#df-14ea38d6-01ac-4362-9140-d26cc04158b5 button');\n",
              "      quickchartButtonEl.style.display =\n",
              "        google.colab.kernel.accessAllowed ? 'block' : 'none';\n",
              "    })();\n",
              "  </script>\n",
              "</div>\n",
              "\n",
              "    </div>\n",
              "  </div>\n"
            ],
            "text/plain": [
              "                                                      Subject  \\\n",
              "Message ID                                                      \n",
              "21937       looking for cheap high - quality software ? ex...   \n",
              "20252                          inncenot bitcehs gushing loads   \n",
              "8592                          re : livelink test for research   \n",
              "24992                   do you need a second mortgage ? 22956   \n",
              "10362                                              v foorever   \n",
              "\n",
              "                                                      Message Result  \\\n",
              "Message ID                                                             \n",
              "21937       subject , about , natural red woman . my mothe...   spam   \n",
              "20252        ello , ' ello , ' ello , what have we got her...   spam   \n",
              "8592        moyez lallani has agreed to give a presentatio...    ham   \n",
              "24992       let\\nmortgage lenders compete for your busines...   spam   \n",
              "10362       hello , welcome to pha russian rmonline sho in...   spam   \n",
              "\n",
              "                                                 full_message  \\\n",
              "Message ID                                                      \n",
              "21937       looking for cheap high - quality software ? ex...   \n",
              "20252       inncenot bitcehs gushing loads  ello , ' ello ...   \n",
              "8592        re : livelink test for research moyez lallani ...   \n",
              "24992       do you need a second mortgage ? 22956 let\\nmor...   \n",
              "10362       v foorever hello , welcome to pha russian rmon...   \n",
              "\n",
              "                                               transform_text  \n",
              "Message ID                                                     \n",
              "21937       look cheap high qualiti softwar extrapol earth...  \n",
              "20252       inncenot bitceh gush load ello ello ello got a...  \n",
              "8592        livelink test research moyez lallani agre give...  \n",
              "24992       need second mortgag 22956 let mortgag lender c...  \n",
              "10362       v foorev hello welcom pha russian rmonlin sho ...  "
            ]
          },
          "execution_count": 16,
          "metadata": {},
          "output_type": "execute_result"
        }
      ],
      "source": [
        "# Preprocess Train Text\n",
        "train['transform_text'] = train['full_message'].astype('U').apply(preprocess_text_pipeline)\n",
        "train.sample(5)"
      ]
    },
    {
      "cell_type": "code",
      "execution_count": null,
      "metadata": {
        "colab": {
          "background_save": true
        },
        "id": "wpFwG5tFwKa9",
        "outputId": "8d006c42-b5ee-4ed8-f0f8-4e51ab937529"
      },
      "outputs": [
        {
          "data": {
            "application/vnd.google.colaboratory.intrinsic+json": {
              "summary": "{\n  \"name\": \"valid\",\n  \"rows\": 5,\n  \"fields\": [\n    {\n      \"column\": \"Message ID\",\n      \"properties\": {\n        \"dtype\": \"number\",\n        \"std\": 7105,\n        \"min\": 14242,\n        \"max\": 33560,\n        \"num_unique_values\": 5,\n        \"samples\": [\n          19889,\n          21764,\n          24641\n        ],\n        \"semantic_type\": \"\",\n        \"description\": \"\"\n      }\n    },\n    {\n      \"column\": \"Subject\",\n      \"properties\": {\n        \"dtype\": \"string\",\n        \"num_unique_values\": 5,\n        \"samples\": [\n          \"hello !\",\n          \"cheap pharmacy wj\",\n          \"weekly stock report vjf\"\n        ],\n        \"semantic_type\": \"\",\n        \"description\": \"\"\n      }\n    },\n    {\n      \"column\": \"Message\",\n      \"properties\": {\n        \"dtype\": \"string\",\n        \"num_unique_values\": 5,\n        \"samples\": [\n          \"what are the washing instructions ?\\nadio\\n\",\n          \"want new overseas drugs ? http : / / www . sjox . com /\\n\",\n          \"gaming advisor\\nnews july 16 , 2002 i 2 corp enters into research and development agreement with nevada gaming equipment supplier for live remote bingo .\\nthe general feeling of the top internet lawyers and analysts is that \\\" online gambling and sports betting is here to stay . \\u8070 attempts at trying to stop it would be largely ineffective ! banning internet gambling and sports betting presents technical and legal problems that governments are ill equipped to enforce .\\nwhat \\u806e s more , there are no competitors for the company \\u806e s method or technology for remote wagering . i 2 corp is the only company in the world that can legally license its method and technology for remote wagering . i 2 corp is currently negotiating with\\nmajor casinos globally .\\nmichael pollock of the pollock gaming resource group ( prrg ) has issued a report studying the effects of live wagering from remote locations . \\u806f the study concludes that live wagering from remote locations does more than create a new source of revenue for sponsoring casinos . additionally , it creates a marketing opportunity , a means to find and cultivate thousands of new customers who can be encouraged to become on - site patrons . \\u8070 a copy of the full report in pdf format can be downloaded at http : / / www . gamingobserver . com / .\\ni 2 corp is the holding company for home gambling network , inc . hgn holds u . s . patent 5 , 800 , 268 , which covers remote wagering on live games and events with electronic financial transactions . the patent is comprised of three primary actions : the gambling is live ; the player is remote and physically away from the actual game or event ; and the winnings and losses are transacted electronically in real time . they include , but are not limited to , horse racing , soccer , bingo , poker , roulette and many other las vegas casino games .\\nfact : currently there is an overwhelming opinion that remote wagering in real - time will become one of the most profitable / prolific industries worldwide . i 2 corp recently won judgment against giant uunet a subsidiary of mci / worldcom in a u . s . federal court for patent infringement . just another compelling reason why i 2 corp has orphaned their competition ! therefore we conclude i 2 corp \\u806e s common stock to be overlooked and undervalued !\\nrecommendation : strong buy\\ni 2 corp\\notcbb symbol ( itoo )\\nrecent price . 05 - . 08\\n52 - week hi - lo . 05 - . 48\\nshort term target price : . 60\\nthis news release contains forward - looking statements as defined by the private securities litigation reform act of 1995 . forward - looking statements include statements concerning plans , objectives , goals , strategies , future events or performance and underlying assumptions , and all statements that are other than statements of historical facts . these statements are subject to uncertainties and risks including , but not limited to , product and service demand and acceptance , changes in technology , economic conditions , the impact of competition and pricing , government regulation , and other risks defined in this document . these cautionary statements expressly qualify all such forward - looking statements made by or on behalf of gaming advisor . in addition , gaming advisor disclaims any obligation to update any forward - looking statements to reflect events or circumstances after the date hereof . the information herein has been obtained from reputable sources and therefore we assume its v\\nalidity . gaming advisor has been c\\nompensated $ 5 , 000 for the dissemination of this information and may at anytime buy or sell the securities of i 2 corp \\u806e s common stock .\\nnywguempturgwthionjpsqdw\\nhttp : / / xent . com / mailman / listinfo / fork\"\n        ],\n        \"semantic_type\": \"\",\n        \"description\": \"\"\n      }\n    },\n    {\n      \"column\": \"Result\",\n      \"properties\": {\n        \"dtype\": \"category\",\n        \"num_unique_values\": 2,\n        \"samples\": [\n          \"spam\",\n          \"ham\"\n        ],\n        \"semantic_type\": \"\",\n        \"description\": \"\"\n      }\n    },\n    {\n      \"column\": \"full_message\",\n      \"properties\": {\n        \"dtype\": \"string\",\n        \"num_unique_values\": 5,\n        \"samples\": [\n          \"hello ! what are the washing instructions ?\\nadio\\n\",\n          \"cheap pharmacy wj want new overseas drugs ? http : / / www . sjox . com /\\n\"\n        ],\n        \"semantic_type\": \"\",\n        \"description\": \"\"\n      }\n    },\n    {\n      \"column\": \"transform_text\",\n      \"properties\": {\n        \"dtype\": \"string\",\n        \"num_unique_values\": 5,\n        \"samples\": [\n          \"hello wash instruct adio\",\n          \"cheap pharmaci wj want new oversea drug http www sjox com\"\n        ],\n        \"semantic_type\": \"\",\n        \"description\": \"\"\n      }\n    }\n  ]\n}",
              "type": "dataframe"
            },
            "text/html": [
              "\n",
              "  <div id=\"df-19f90223-e63f-4d48-a820-81bfa1e0b847\" class=\"colab-df-container\">\n",
              "    <div>\n",
              "<style scoped>\n",
              "    .dataframe tbody tr th:only-of-type {\n",
              "        vertical-align: middle;\n",
              "    }\n",
              "\n",
              "    .dataframe tbody tr th {\n",
              "        vertical-align: top;\n",
              "    }\n",
              "\n",
              "    .dataframe thead th {\n",
              "        text-align: right;\n",
              "    }\n",
              "</style>\n",
              "<table border=\"1\" class=\"dataframe\">\n",
              "  <thead>\n",
              "    <tr style=\"text-align: right;\">\n",
              "      <th></th>\n",
              "      <th>Subject</th>\n",
              "      <th>Message</th>\n",
              "      <th>Result</th>\n",
              "      <th>full_message</th>\n",
              "      <th>transform_text</th>\n",
              "    </tr>\n",
              "    <tr>\n",
              "      <th>Message ID</th>\n",
              "      <th></th>\n",
              "      <th></th>\n",
              "      <th></th>\n",
              "      <th></th>\n",
              "      <th></th>\n",
              "    </tr>\n",
              "  </thead>\n",
              "  <tbody>\n",
              "    <tr>\n",
              "      <th>14242</th>\n",
              "      <td>eol click trade curtailment and banner</td>\n",
              "      <td>jay - - consistent with my voicemail to you , ...</td>\n",
              "      <td>ham</td>\n",
              "      <td>eol click trade curtailment and banner jay - -...</td>\n",
              "      <td>eol click trade curtail banner jay consist voi...</td>\n",
              "    </tr>\n",
              "    <tr>\n",
              "      <th>19889</th>\n",
              "      <td>hello !</td>\n",
              "      <td>what are the washing instructions ?\\nadio\\n</td>\n",
              "      <td>spam</td>\n",
              "      <td>hello ! what are the washing instructions ?\\na...</td>\n",
              "      <td>hello wash instruct adio</td>\n",
              "    </tr>\n",
              "    <tr>\n",
              "      <th>24641</th>\n",
              "      <td>weekly stock report vjf</td>\n",
              "      <td>gaming advisor\\nnews july 16 , 2002 i 2 corp e...</td>\n",
              "      <td>spam</td>\n",
              "      <td>weekly stock report vjf gaming advisor\\nnews j...</td>\n",
              "      <td>weekli stock report vjf game advisor news juli...</td>\n",
              "    </tr>\n",
              "    <tr>\n",
              "      <th>33560</th>\n",
              "      <td>super markdowns on quality medicines .</td>\n",
              "      <td>licensed professionals will examine your case ...</td>\n",
              "      <td>spam</td>\n",
              "      <td>super markdowns on quality medicines . license...</td>\n",
              "      <td>super markdown qualiti medicin licens professi...</td>\n",
              "    </tr>\n",
              "    <tr>\n",
              "      <th>21764</th>\n",
              "      <td>cheap pharmacy wj</td>\n",
              "      <td>want new overseas drugs ? http : / / www . sjo...</td>\n",
              "      <td>spam</td>\n",
              "      <td>cheap pharmacy wj want new overseas drugs ? ht...</td>\n",
              "      <td>cheap pharmaci wj want new oversea drug http w...</td>\n",
              "    </tr>\n",
              "  </tbody>\n",
              "</table>\n",
              "</div>\n",
              "    <div class=\"colab-df-buttons\">\n",
              "\n",
              "  <div class=\"colab-df-container\">\n",
              "    <button class=\"colab-df-convert\" onclick=\"convertToInteractive('df-19f90223-e63f-4d48-a820-81bfa1e0b847')\"\n",
              "            title=\"Convert this dataframe to an interactive table.\"\n",
              "            style=\"display:none;\">\n",
              "\n",
              "  <svg xmlns=\"http://www.w3.org/2000/svg\" height=\"24px\" viewBox=\"0 -960 960 960\">\n",
              "    <path d=\"M120-120v-720h720v720H120Zm60-500h600v-160H180v160Zm220 220h160v-160H400v160Zm0 220h160v-160H400v160ZM180-400h160v-160H180v160Zm440 0h160v-160H620v160ZM180-180h160v-160H180v160Zm440 0h160v-160H620v160Z\"/>\n",
              "  </svg>\n",
              "    </button>\n",
              "\n",
              "  <style>\n",
              "    .colab-df-container {\n",
              "      display:flex;\n",
              "      gap: 12px;\n",
              "    }\n",
              "\n",
              "    .colab-df-convert {\n",
              "      background-color: #E8F0FE;\n",
              "      border: none;\n",
              "      border-radius: 50%;\n",
              "      cursor: pointer;\n",
              "      display: none;\n",
              "      fill: #1967D2;\n",
              "      height: 32px;\n",
              "      padding: 0 0 0 0;\n",
              "      width: 32px;\n",
              "    }\n",
              "\n",
              "    .colab-df-convert:hover {\n",
              "      background-color: #E2EBFA;\n",
              "      box-shadow: 0px 1px 2px rgba(60, 64, 67, 0.3), 0px 1px 3px 1px rgba(60, 64, 67, 0.15);\n",
              "      fill: #174EA6;\n",
              "    }\n",
              "\n",
              "    .colab-df-buttons div {\n",
              "      margin-bottom: 4px;\n",
              "    }\n",
              "\n",
              "    [theme=dark] .colab-df-convert {\n",
              "      background-color: #3B4455;\n",
              "      fill: #D2E3FC;\n",
              "    }\n",
              "\n",
              "    [theme=dark] .colab-df-convert:hover {\n",
              "      background-color: #434B5C;\n",
              "      box-shadow: 0px 1px 3px 1px rgba(0, 0, 0, 0.15);\n",
              "      filter: drop-shadow(0px 1px 2px rgba(0, 0, 0, 0.3));\n",
              "      fill: #FFFFFF;\n",
              "    }\n",
              "  </style>\n",
              "\n",
              "    <script>\n",
              "      const buttonEl =\n",
              "        document.querySelector('#df-19f90223-e63f-4d48-a820-81bfa1e0b847 button.colab-df-convert');\n",
              "      buttonEl.style.display =\n",
              "        google.colab.kernel.accessAllowed ? 'block' : 'none';\n",
              "\n",
              "      async function convertToInteractive(key) {\n",
              "        const element = document.querySelector('#df-19f90223-e63f-4d48-a820-81bfa1e0b847');\n",
              "        const dataTable =\n",
              "          await google.colab.kernel.invokeFunction('convertToInteractive',\n",
              "                                                    [key], {});\n",
              "        if (!dataTable) return;\n",
              "\n",
              "        const docLinkHtml = 'Like what you see? Visit the ' +\n",
              "          '<a target=\"_blank\" href=https://colab.research.google.com/notebooks/data_table.ipynb>data table notebook</a>'\n",
              "          + ' to learn more about interactive tables.';\n",
              "        element.innerHTML = '';\n",
              "        dataTable['output_type'] = 'display_data';\n",
              "        await google.colab.output.renderOutput(dataTable, element);\n",
              "        const docLink = document.createElement('div');\n",
              "        docLink.innerHTML = docLinkHtml;\n",
              "        element.appendChild(docLink);\n",
              "      }\n",
              "    </script>\n",
              "  </div>\n",
              "\n",
              "\n",
              "<div id=\"df-03ce701c-b628-40d9-9fcf-98002b750a18\">\n",
              "  <button class=\"colab-df-quickchart\" onclick=\"quickchart('df-03ce701c-b628-40d9-9fcf-98002b750a18')\"\n",
              "            title=\"Suggest charts\"\n",
              "            style=\"display:none;\">\n",
              "\n",
              "<svg xmlns=\"http://www.w3.org/2000/svg\" height=\"24px\"viewBox=\"0 0 24 24\"\n",
              "     width=\"24px\">\n",
              "    <g>\n",
              "        <path d=\"M19 3H5c-1.1 0-2 .9-2 2v14c0 1.1.9 2 2 2h14c1.1 0 2-.9 2-2V5c0-1.1-.9-2-2-2zM9 17H7v-7h2v7zm4 0h-2V7h2v10zm4 0h-2v-4h2v4z\"/>\n",
              "    </g>\n",
              "</svg>\n",
              "  </button>\n",
              "\n",
              "<style>\n",
              "  .colab-df-quickchart {\n",
              "      --bg-color: #E8F0FE;\n",
              "      --fill-color: #1967D2;\n",
              "      --hover-bg-color: #E2EBFA;\n",
              "      --hover-fill-color: #174EA6;\n",
              "      --disabled-fill-color: #AAA;\n",
              "      --disabled-bg-color: #DDD;\n",
              "  }\n",
              "\n",
              "  [theme=dark] .colab-df-quickchart {\n",
              "      --bg-color: #3B4455;\n",
              "      --fill-color: #D2E3FC;\n",
              "      --hover-bg-color: #434B5C;\n",
              "      --hover-fill-color: #FFFFFF;\n",
              "      --disabled-bg-color: #3B4455;\n",
              "      --disabled-fill-color: #666;\n",
              "  }\n",
              "\n",
              "  .colab-df-quickchart {\n",
              "    background-color: var(--bg-color);\n",
              "    border: none;\n",
              "    border-radius: 50%;\n",
              "    cursor: pointer;\n",
              "    display: none;\n",
              "    fill: var(--fill-color);\n",
              "    height: 32px;\n",
              "    padding: 0;\n",
              "    width: 32px;\n",
              "  }\n",
              "\n",
              "  .colab-df-quickchart:hover {\n",
              "    background-color: var(--hover-bg-color);\n",
              "    box-shadow: 0 1px 2px rgba(60, 64, 67, 0.3), 0 1px 3px 1px rgba(60, 64, 67, 0.15);\n",
              "    fill: var(--button-hover-fill-color);\n",
              "  }\n",
              "\n",
              "  .colab-df-quickchart-complete:disabled,\n",
              "  .colab-df-quickchart-complete:disabled:hover {\n",
              "    background-color: var(--disabled-bg-color);\n",
              "    fill: var(--disabled-fill-color);\n",
              "    box-shadow: none;\n",
              "  }\n",
              "\n",
              "  .colab-df-spinner {\n",
              "    border: 2px solid var(--fill-color);\n",
              "    border-color: transparent;\n",
              "    border-bottom-color: var(--fill-color);\n",
              "    animation:\n",
              "      spin 1s steps(1) infinite;\n",
              "  }\n",
              "\n",
              "  @keyframes spin {\n",
              "    0% {\n",
              "      border-color: transparent;\n",
              "      border-bottom-color: var(--fill-color);\n",
              "      border-left-color: var(--fill-color);\n",
              "    }\n",
              "    20% {\n",
              "      border-color: transparent;\n",
              "      border-left-color: var(--fill-color);\n",
              "      border-top-color: var(--fill-color);\n",
              "    }\n",
              "    30% {\n",
              "      border-color: transparent;\n",
              "      border-left-color: var(--fill-color);\n",
              "      border-top-color: var(--fill-color);\n",
              "      border-right-color: var(--fill-color);\n",
              "    }\n",
              "    40% {\n",
              "      border-color: transparent;\n",
              "      border-right-color: var(--fill-color);\n",
              "      border-top-color: var(--fill-color);\n",
              "    }\n",
              "    60% {\n",
              "      border-color: transparent;\n",
              "      border-right-color: var(--fill-color);\n",
              "    }\n",
              "    80% {\n",
              "      border-color: transparent;\n",
              "      border-right-color: var(--fill-color);\n",
              "      border-bottom-color: var(--fill-color);\n",
              "    }\n",
              "    90% {\n",
              "      border-color: transparent;\n",
              "      border-bottom-color: var(--fill-color);\n",
              "    }\n",
              "  }\n",
              "</style>\n",
              "\n",
              "  <script>\n",
              "    async function quickchart(key) {\n",
              "      const quickchartButtonEl =\n",
              "        document.querySelector('#' + key + ' button');\n",
              "      quickchartButtonEl.disabled = true;  // To prevent multiple clicks.\n",
              "      quickchartButtonEl.classList.add('colab-df-spinner');\n",
              "      try {\n",
              "        const charts = await google.colab.kernel.invokeFunction(\n",
              "            'suggestCharts', [key], {});\n",
              "      } catch (error) {\n",
              "        console.error('Error during call to suggestCharts:', error);\n",
              "      }\n",
              "      quickchartButtonEl.classList.remove('colab-df-spinner');\n",
              "      quickchartButtonEl.classList.add('colab-df-quickchart-complete');\n",
              "    }\n",
              "    (() => {\n",
              "      let quickchartButtonEl =\n",
              "        document.querySelector('#df-03ce701c-b628-40d9-9fcf-98002b750a18 button');\n",
              "      quickchartButtonEl.style.display =\n",
              "        google.colab.kernel.accessAllowed ? 'block' : 'none';\n",
              "    })();\n",
              "  </script>\n",
              "</div>\n",
              "\n",
              "    </div>\n",
              "  </div>\n"
            ],
            "text/plain": [
              "                                           Subject  \\\n",
              "Message ID                                           \n",
              "14242       eol click trade curtailment and banner   \n",
              "19889                                      hello !   \n",
              "24641                      weekly stock report vjf   \n",
              "33560       super markdowns on quality medicines .   \n",
              "21764                            cheap pharmacy wj   \n",
              "\n",
              "                                                      Message Result  \\\n",
              "Message ID                                                             \n",
              "14242       jay - - consistent with my voicemail to you , ...    ham   \n",
              "19889             what are the washing instructions ?\\nadio\\n   spam   \n",
              "24641       gaming advisor\\nnews july 16 , 2002 i 2 corp e...   spam   \n",
              "33560       licensed professionals will examine your case ...   spam   \n",
              "21764       want new overseas drugs ? http : / / www . sjo...   spam   \n",
              "\n",
              "                                                 full_message  \\\n",
              "Message ID                                                      \n",
              "14242       eol click trade curtailment and banner jay - -...   \n",
              "19889       hello ! what are the washing instructions ?\\na...   \n",
              "24641       weekly stock report vjf gaming advisor\\nnews j...   \n",
              "33560       super markdowns on quality medicines . license...   \n",
              "21764       cheap pharmacy wj want new overseas drugs ? ht...   \n",
              "\n",
              "                                               transform_text  \n",
              "Message ID                                                     \n",
              "14242       eol click trade curtail banner jay consist voi...  \n",
              "19889                                hello wash instruct adio  \n",
              "24641       weekli stock report vjf game advisor news juli...  \n",
              "33560       super markdown qualiti medicin licens professi...  \n",
              "21764       cheap pharmaci wj want new oversea drug http w...  "
            ]
          },
          "execution_count": 17,
          "metadata": {},
          "output_type": "execute_result"
        }
      ],
      "source": [
        "# Preprocess valid Text\n",
        "valid['transform_text'] = valid['full_message'].astype('U').apply(preprocess_text_pipeline)\n",
        "valid.sample(5)"
      ]
    },
    {
      "cell_type": "markdown",
      "metadata": {
        "id": "Dya5Ktlg4zKz"
      },
      "source": [
        "#### EDA"
      ]
    },
    {
      "cell_type": "code",
      "execution_count": null,
      "metadata": {
        "colab": {
          "background_save": true
        },
        "id": "Cr5Xcaud4yk7"
      },
      "outputs": [],
      "source": [
        "ham_words = ' '.join(list(train[train['Result'] == 'ham']['transform_text'].astype(str)))\n",
        "spam_words = ' '.join(list(train[train['Result'] == 'spam']['transform_text'].astype(str)))\n",
        "\n",
        "ham_words = ham_words.split()\n",
        "spam_words = spam_words.split()\n",
        "\n",
        "ham_word_freq = Counter(ham_words)\n",
        "spam_word_freq = Counter(spam_words)"
      ]
    },
    {
      "cell_type": "code",
      "execution_count": null,
      "metadata": {
        "colab": {
          "background_save": true
        },
        "id": "RHX2u0E35GUw",
        "outputId": "ac8523a3-24c1-4134-fcaa-a7e3323dafeb"
      },
      "outputs": [
        {
          "data": {
            "image/png": "[encoded data removed]",
            "text/plain": [
              "<Figure size 1000x600 with 1 Axes>"
            ]
          },
          "metadata": {},
          "output_type": "display_data"
        }
      ],
      "source": [
        "ham_word_freq_df = pd.DataFrame(ham_word_freq.most_common(20), columns=['word', 'frequency'])\n",
        "ham_word_freq_df = ham_word_freq_df.sort_values(by='frequency')\n",
        "\n",
        "colors = plt.cm.tab20(np.linspace(0, 1, 20))\n",
        "\n",
        "plt.figure(figsize=(10, 6))\n",
        "plt.barh(ham_word_freq_df['word'], ham_word_freq_df['frequency'], color=colors)\n",
        "plt.xlabel('Frequency')\n",
        "plt.ylabel('Words')\n",
        "plt.title('Top 20 most common words in ham emails')\n",
        "plt.show()"
      ]
    },
    {
      "cell_type": "code",
      "execution_count": null,
      "metadata": {
        "colab": {
          "background_save": true
        },
        "id": "ZlHGGFtX5gMD",
        "outputId": "26c0d30c-7d99-4c7c-a90e-d165a2208721"
      },
      "outputs": [
        {
          "data": {
            "image/png": "[encoded data removed]",
            "text/plain": [
              "<Figure size 1000x600 with 1 Axes>"
            ]
          },
          "metadata": {},
          "output_type": "display_data"
        }
      ],
      "source": [
        "spam_word_freq_df = pd.DataFrame(spam_word_freq.most_common(20), columns=['word', 'frequency'])\n",
        "spam_word_freq_df = spam_word_freq_df.sort_values(by='frequency')\n",
        "\n",
        "colors = plt.cm.tab20(np.linspace(0, 1, 20))\n",
        "\n",
        "plt.figure(figsize=(10, 6))\n",
        "plt.barh(spam_word_freq_df['word'], spam_word_freq_df['frequency'], color=colors)\n",
        "plt.xlabel('Frequency')\n",
        "plt.ylabel('Words')\n",
        "plt.title('Top 20 most common words in spam emails')\n",
        "plt.show()"
      ]
    },
    {
      "cell_type": "markdown",
      "metadata": {
        "id": "hllOjL4D2vd9"
      },
      "source": [
        "## 3. Các yêu cầu về mô hình\n",
        "\n"
      ]
    },
    {
      "cell_type": "markdown",
      "metadata": {
        "id": "bo3hN6JD24LI"
      },
      "source": [
        "### 3.1 Mô hình\n",
        "\n"
      ]
    },
    {
      "cell_type": "markdown",
      "metadata": {
        "id": "MYAmgaGO26Di"
      },
      "source": [
        "Lab này không giới hạn cách làm cho việc phân loại thư rác, miễn là các bạn sử dụng các mô hình phân loại và có thực hiện học có giám sát (supervised learning).\n",
        "\n"
      ]
    },
    {
      "cell_type": "markdown",
      "metadata": {
        "id": "RMhlwjiC27a_"
      },
      "source": [
        "### 3.2 Yêu cầu\n"
      ]
    },
    {
      "cell_type": "markdown",
      "metadata": {
        "id": "pizT8uY3287_"
      },
      "source": [
        "Trong phần này, nhóm cần hoàn thành các yêu cầu sau:\n",
        "- Trình bày cấu trúc và cách thiết kế mô hình mình chọn một cách cụ thể, chi tiết từng bước tính toán từ đầu vào cho đến đầu ra.\n",
        "- Trong mã nguồn, nếu nhóm sử dụng các tham số đặc biệt nào đó thì cần tìm hiểu và giải thích lý do tại sao chọn.\n",
        "- Sau khi huấn luyện, cho biết độ chính xác của mô hình đối với toàn bộ tập dữ liệu (bao gồm cả tập trainset và valset). Có thể sử dụng nhiều cách để đánh giá và cần giải thích những đánh giá ấy có ý nghĩa gì."
      ]
    },
    {
      "cell_type": "markdown",
      "metadata": {
        "id": "BzjoMoGRwKa8"
      },
      "source": [
        "### 3.3 Bài làm"
      ]
    },
    {
      "cell_type": "markdown",
      "metadata": {
        "id": "HY01whlkwKa8"
      },
      "source": [
        "#### Mô hình\n",
        "- Mô hình được chọn là Multinomial Naive Bayes.\n",
        "    - Tham số `alpha = 1.0` (Mặc định)\n",
        "- Vector hóa dữ liệu sử dụng Bag of Words.\n",
        "    - `analyzer='word'`: Để xử lý từng từ.\n",
        "    - `ngram_range=(1,2)`: Đếm số lần xuất hiện của từng từ và cặp từ.\n",
        "\n",
        "#### Flow từng bước tính toán\n",
        "**Training**:\n",
        "1. Clean data.\n",
        "2. Preprocess data: Loại bỏ và chuẩn hóa dữ liệu.\n",
        "3. Vector hóa dữ liệu bằng Bag of Words.\n",
        "4. Huấn luyện mô hình Multinomial Naive Bayes.\n",
        "\n",
        "**Validation**:\n",
        "1. Clean data.\n",
        "2. Preprocess data: Loại bỏ và chuẩn hóa dữ liệu.\n",
        "3. Sử dụng Vector hóa dữ liệu đã được fit từ tập train để transform dữ liệu valid.\n",
        "4. Đánh giá mô hình.\n",
        "\n",
        "**Testing**: Người dùng nhập vào một email bất kỳ.\n",
        "1. Ráp subjet và message thành một dữ liệu duy nhất.\n",
        "2. Preprocess dữ liệu.\n",
        "3. Sử dụng Vector hóa dữ liệu đã được fit từ tập train để transform dữ liệu test.\n",
        "4. Dự đoán xem email đó có phải là spam hay không.\n",
        "\n"
      ]
    },
    {
      "cell_type": "markdown",
      "metadata": {
        "id": "tyMYLs-WwKa9"
      },
      "source": [
        "#### Training Model"
      ]
    },
    {
      "cell_type": "code",
      "execution_count": 21,
      "metadata": {
        "id": "tiB1em75wKa-"
      },
      "outputs": [],
      "source": [
        "# Import Libraries\n",
        "from sklearn.preprocessing import LabelEncoder\n",
        "from sklearn.feature_extraction.text import CountVectorizer\n",
        "from sklearn.naive_bayes import MultinomialNB\n",
        "from sklearn.metrics import accuracy_score,confusion_matrix,precision_score,classification_report, fbeta_score, recall_score, f1_score\n",
        "from sklearn.model_selection import RepeatedStratifiedKFold, RandomizedSearchCV, GridSearchCV\n",
        "\n",
        "# Save Model\n",
        "import pickle"
      ]
    },
    {
      "cell_type": "markdown",
      "metadata": {
        "id": "qYEcCaKSwKa-"
      },
      "source": [
        "##### Encode data, label"
      ]
    },
    {
      "cell_type": "code",
      "execution_count": 22,
      "metadata": {
        "colab": {
          "base_uri": "https://localhost:8080/",
          "height": 112
        },
        "id": "8Z8tQ4PuwKa-",
        "outputId": "848eef32-8cd2-4626-ee32-766c51b2ab49"
      },
      "outputs": [
        {
          "output_type": "execute_result",
          "data": {
            "text/plain": [
              "                                Subject  \\\n",
              "Message ID                                \n",
              "12186       in case you didn ' t notice   \n",
              "\n",
              "                                                      Message  Result  \\\n",
              "Message ID                                                              \n",
              "12186       louise ,\\noffice depot has the epson stylus 78...       0   \n",
              "\n",
              "                                                 full_message  \\\n",
              "Message ID                                                      \n",
              "12186       in case you didn ' t notice louise ,\\noffice d...   \n",
              "\n",
              "                                               transform_text  \n",
              "Message ID                                                     \n",
              "12186       case notic louis offic depot epson stylu 785 e...  "
            ],
            "text/html": [
              "\n",
              "  <div id=\"df-605ec107-ecf6-4f6e-967a-972209d6772e\" class=\"colab-df-container\">\n",
              "    <div>\n",
              "<style scoped>\n",
              "    .dataframe tbody tr th:only-of-type {\n",
              "        vertical-align: middle;\n",
              "    }\n",
              "\n",
              "    .dataframe tbody tr th {\n",
              "        vertical-align: top;\n",
              "    }\n",
              "\n",
              "    .dataframe thead th {\n",
              "        text-align: right;\n",
              "    }\n",
              "</style>\n",
              "<table border=\"1\" class=\"dataframe\">\n",
              "  <thead>\n",
              "    <tr style=\"text-align: right;\">\n",
              "      <th></th>\n",
              "      <th>Subject</th>\n",
              "      <th>Message</th>\n",
              "      <th>Result</th>\n",
              "      <th>full_message</th>\n",
              "      <th>transform_text</th>\n",
              "    </tr>\n",
              "    <tr>\n",
              "      <th>Message ID</th>\n",
              "      <th></th>\n",
              "      <th></th>\n",
              "      <th></th>\n",
              "      <th></th>\n",
              "      <th></th>\n",
              "    </tr>\n",
              "  </thead>\n",
              "  <tbody>\n",
              "    <tr>\n",
              "      <th>12186</th>\n",
              "      <td>in case you didn ' t notice</td>\n",
              "      <td>louise ,\\noffice depot has the epson stylus 78...</td>\n",
              "      <td>0</td>\n",
              "      <td>in case you didn ' t notice louise ,\\noffice d...</td>\n",
              "      <td>case notic louis offic depot epson stylu 785 e...</td>\n",
              "    </tr>\n",
              "  </tbody>\n",
              "</table>\n",
              "</div>\n",
              "    <div class=\"colab-df-buttons\">\n",
              "\n",
              "  <div class=\"colab-df-container\">\n",
              "    <button class=\"colab-df-convert\" onclick=\"convertToInteractive('df-605ec107-ecf6-4f6e-967a-972209d6772e')\"\n",
              "            title=\"Convert this dataframe to an interactive table.\"\n",
              "            style=\"display:none;\">\n",
              "\n",
              "  <svg xmlns=\"http://www.w3.org/2000/svg\" height=\"24px\" viewBox=\"0 -960 960 960\">\n",
              "    <path d=\"M120-120v-720h720v720H120Zm60-500h600v-160H180v160Zm220 220h160v-160H400v160Zm0 220h160v-160H400v160ZM180-400h160v-160H180v160Zm440 0h160v-160H620v160ZM180-180h160v-160H180v160Zm440 0h160v-160H620v160Z\"/>\n",
              "  </svg>\n",
              "    </button>\n",
              "\n",
              "  <style>\n",
              "    .colab-df-container {\n",
              "      display:flex;\n",
              "      gap: 12px;\n",
              "    }\n",
              "\n",
              "    .colab-df-convert {\n",
              "      background-color: #E8F0FE;\n",
              "      border: none;\n",
              "      border-radius: 50%;\n",
              "      cursor: pointer;\n",
              "      display: none;\n",
              "      fill: #1967D2;\n",
              "      height: 32px;\n",
              "      padding: 0 0 0 0;\n",
              "      width: 32px;\n",
              "    }\n",
              "\n",
              "    .colab-df-convert:hover {\n",
              "      background-color: #E2EBFA;\n",
              "      box-shadow: 0px 1px 2px rgba(60, 64, 67, 0.3), 0px 1px 3px 1px rgba(60, 64, 67, 0.15);\n",
              "      fill: #174EA6;\n",
              "    }\n",
              "\n",
              "    .colab-df-buttons div {\n",
              "      margin-bottom: 4px;\n",
              "    }\n",
              "\n",
              "    [theme=dark] .colab-df-convert {\n",
              "      background-color: #3B4455;\n",
              "      fill: #D2E3FC;\n",
              "    }\n",
              "\n",
              "    [theme=dark] .colab-df-convert:hover {\n",
              "      background-color: #434B5C;\n",
              "      box-shadow: 0px 1px 3px 1px rgba(0, 0, 0, 0.15);\n",
              "      filter: drop-shadow(0px 1px 2px rgba(0, 0, 0, 0.3));\n",
              "      fill: #FFFFFF;\n",
              "    }\n",
              "  </style>\n",
              "\n",
              "    <script>\n",
              "      const buttonEl =\n",
              "        document.querySelector('#df-605ec107-ecf6-4f6e-967a-972209d6772e button.colab-df-convert');\n",
              "      buttonEl.style.display =\n",
              "        google.colab.kernel.accessAllowed ? 'block' : 'none';\n",
              "\n",
              "      async function convertToInteractive(key) {\n",
              "        const element = document.querySelector('#df-605ec107-ecf6-4f6e-967a-972209d6772e');\n",
              "        const dataTable =\n",
              "          await google.colab.kernel.invokeFunction('convertToInteractive',\n",
              "                                                    [key], {});\n",
              "        if (!dataTable) return;\n",
              "\n",
              "        const docLinkHtml = 'Like what you see? Visit the ' +\n",
              "          '<a target=\"_blank\" href=https://colab.research.google.com/notebooks/data_table.ipynb>data table notebook</a>'\n",
              "          + ' to learn more about interactive tables.';\n",
              "        element.innerHTML = '';\n",
              "        dataTable['output_type'] = 'display_data';\n",
              "        await google.colab.output.renderOutput(dataTable, element);\n",
              "        const docLink = document.createElement('div');\n",
              "        docLink.innerHTML = docLinkHtml;\n",
              "        element.appendChild(docLink);\n",
              "      }\n",
              "    </script>\n",
              "  </div>\n",
              "\n",
              "\n",
              "    </div>\n",
              "  </div>\n"
            ],
            "application/vnd.google.colaboratory.intrinsic+json": {
              "type": "dataframe",
              "summary": "{\n  \"name\": \"train\",\n  \"rows\": 1,\n  \"fields\": [\n    {\n      \"column\": \"Message ID\",\n      \"properties\": {\n        \"dtype\": \"number\",\n        \"std\": null,\n        \"min\": 12186,\n        \"max\": 12186,\n        \"num_unique_values\": 1,\n        \"samples\": [\n          12186\n        ],\n        \"semantic_type\": \"\",\n        \"description\": \"\"\n      }\n    },\n    {\n      \"column\": \"Subject\",\n      \"properties\": {\n        \"dtype\": \"string\",\n        \"num_unique_values\": 1,\n        \"samples\": [\n          \"in case you didn ' t notice\"\n        ],\n        \"semantic_type\": \"\",\n        \"description\": \"\"\n      }\n    },\n    {\n      \"column\": \"Message\",\n      \"properties\": {\n        \"dtype\": \"string\",\n        \"num_unique_values\": 1,\n        \"samples\": [\n          \"louise ,\\noffice depot has the epson stylus 785 epx photo printer for usd 249 . 99 and with the purchase they are including 2 50 sheet packs of epson heavyweight matte paper . the coupon was in yesterday ' s houston chronicle .\\nhave a great week !\\nit ' s summer time in texas , yee haw . . . hot !\\nbest regards ,\\nbobbi\\n713 345 2809\\nwork space : eb 3658 - b\\nfax : 713 646 5969\"\n        ],\n        \"semantic_type\": \"\",\n        \"description\": \"\"\n      }\n    },\n    {\n      \"column\": \"Result\",\n      \"properties\": {\n        \"dtype\": \"number\",\n        \"std\": null,\n        \"min\": 0,\n        \"max\": 0,\n        \"num_unique_values\": 1,\n        \"samples\": [\n          0\n        ],\n        \"semantic_type\": \"\",\n        \"description\": \"\"\n      }\n    },\n    {\n      \"column\": \"full_message\",\n      \"properties\": {\n        \"dtype\": \"string\",\n        \"num_unique_values\": 1,\n        \"samples\": [\n          \"in case you didn ' t notice louise ,\\noffice depot has the epson stylus 785 epx photo printer for usd 249 . 99 and with the purchase they are including 2 50 sheet packs of epson heavyweight matte paper . the coupon was in yesterday ' s houston chronicle .\\nhave a great week !\\nit ' s summer time in texas , yee haw . . . hot !\\nbest regards ,\\nbobbi\\n713 345 2809\\nwork space : eb 3658 - b\\nfax : 713 646 5969\"\n        ],\n        \"semantic_type\": \"\",\n        \"description\": \"\"\n      }\n    },\n    {\n      \"column\": \"transform_text\",\n      \"properties\": {\n        \"dtype\": \"string\",\n        \"num_unique_values\": 1,\n        \"samples\": [\n          \"case notic louis offic depot epson stylu 785 epx photo printer usd 249 99 purchas includ 2 50 sheet pack epson heavyweight matt paper coupon yesterday houston chronicl great week summer time texa yee haw hot best regard bobbi 713 345 2809 work space eb 3658 b fax 713 646 5969\"\n        ],\n        \"semantic_type\": \"\",\n        \"description\": \"\"\n      }\n    }\n  ]\n}"
            }
          },
          "metadata": {},
          "execution_count": 22
        }
      ],
      "source": [
        "encoder = LabelEncoder()\n",
        "train[resultCol] = encoder.fit_transform(train[resultCol])\n",
        "# train[resultCol] = encoder.inverse_transform(train[resultCol]) # Use this method to revert label\n",
        "train.sample()"
      ]
    },
    {
      "cell_type": "code",
      "execution_count": 23,
      "metadata": {
        "colab": {
          "base_uri": "https://localhost:8080/",
          "height": 112
        },
        "id": "80zd5yJpwKa_",
        "outputId": "820d091a-0c14-4e95-dc9a-0e80e068eb5d"
      },
      "outputs": [
        {
          "output_type": "execute_result",
          "data": {
            "text/plain": [
              "                   Subject                                            Message  \\\n",
              "Message ID                                                                      \n",
              "16712       thursday plans  billy williams ,\\nre . thursday summer solstic...   \n",
              "\n",
              "            Result                                       full_message  \\\n",
              "Message ID                                                              \n",
              "16712            0  thursday plans billy williams ,\\nre . thursday...   \n",
              "\n",
              "                                               transform_text  \n",
              "Message ID                                                     \n",
              "16712       thursday plan billi william thursday summer so...  "
            ],
            "text/html": [
              "\n",
              "  <div id=\"df-ccae9c8e-4d64-42b2-8578-9f7f640d94d8\" class=\"colab-df-container\">\n",
              "    <div>\n",
              "<style scoped>\n",
              "    .dataframe tbody tr th:only-of-type {\n",
              "        vertical-align: middle;\n",
              "    }\n",
              "\n",
              "    .dataframe tbody tr th {\n",
              "        vertical-align: top;\n",
              "    }\n",
              "\n",
              "    .dataframe thead th {\n",
              "        text-align: right;\n",
              "    }\n",
              "</style>\n",
              "<table border=\"1\" class=\"dataframe\">\n",
              "  <thead>\n",
              "    <tr style=\"text-align: right;\">\n",
              "      <th></th>\n",
              "      <th>Subject</th>\n",
              "      <th>Message</th>\n",
              "      <th>Result</th>\n",
              "      <th>full_message</th>\n",
              "      <th>transform_text</th>\n",
              "    </tr>\n",
              "    <tr>\n",
              "      <th>Message ID</th>\n",
              "      <th></th>\n",
              "      <th></th>\n",
              "      <th></th>\n",
              "      <th></th>\n",
              "      <th></th>\n",
              "    </tr>\n",
              "  </thead>\n",
              "  <tbody>\n",
              "    <tr>\n",
              "      <th>16712</th>\n",
              "      <td>thursday plans</td>\n",
              "      <td>billy williams ,\\nre . thursday summer solstic...</td>\n",
              "      <td>0</td>\n",
              "      <td>thursday plans billy williams ,\\nre . thursday...</td>\n",
              "      <td>thursday plan billi william thursday summer so...</td>\n",
              "    </tr>\n",
              "  </tbody>\n",
              "</table>\n",
              "</div>\n",
              "    <div class=\"colab-df-buttons\">\n",
              "\n",
              "  <div class=\"colab-df-container\">\n",
              "    <button class=\"colab-df-convert\" onclick=\"convertToInteractive('df-ccae9c8e-4d64-42b2-8578-9f7f640d94d8')\"\n",
              "            title=\"Convert this dataframe to an interactive table.\"\n",
              "            style=\"display:none;\">\n",
              "\n",
              "  <svg xmlns=\"http://www.w3.org/2000/svg\" height=\"24px\" viewBox=\"0 -960 960 960\">\n",
              "    <path d=\"M120-120v-720h720v720H120Zm60-500h600v-160H180v160Zm220 220h160v-160H400v160Zm0 220h160v-160H400v160ZM180-400h160v-160H180v160Zm440 0h160v-160H620v160ZM180-180h160v-160H180v160Zm440 0h160v-160H620v160Z\"/>\n",
              "  </svg>\n",
              "    </button>\n",
              "\n",
              "  <style>\n",
              "    .colab-df-container {\n",
              "      display:flex;\n",
              "      gap: 12px;\n",
              "    }\n",
              "\n",
              "    .colab-df-convert {\n",
              "      background-color: #E8F0FE;\n",
              "      border: none;\n",
              "      border-radius: 50%;\n",
              "      cursor: pointer;\n",
              "      display: none;\n",
              "      fill: #1967D2;\n",
              "      height: 32px;\n",
              "      padding: 0 0 0 0;\n",
              "      width: 32px;\n",
              "    }\n",
              "\n",
              "    .colab-df-convert:hover {\n",
              "      background-color: #E2EBFA;\n",
              "      box-shadow: 0px 1px 2px rgba(60, 64, 67, 0.3), 0px 1px 3px 1px rgba(60, 64, 67, 0.15);\n",
              "      fill: #174EA6;\n",
              "    }\n",
              "\n",
              "    .colab-df-buttons div {\n",
              "      margin-bottom: 4px;\n",
              "    }\n",
              "\n",
              "    [theme=dark] .colab-df-convert {\n",
              "      background-color: #3B4455;\n",
              "      fill: #D2E3FC;\n",
              "    }\n",
              "\n",
              "    [theme=dark] .colab-df-convert:hover {\n",
              "      background-color: #434B5C;\n",
              "      box-shadow: 0px 1px 3px 1px rgba(0, 0, 0, 0.15);\n",
              "      filter: drop-shadow(0px 1px 2px rgba(0, 0, 0, 0.3));\n",
              "      fill: #FFFFFF;\n",
              "    }\n",
              "  </style>\n",
              "\n",
              "    <script>\n",
              "      const buttonEl =\n",
              "        document.querySelector('#df-ccae9c8e-4d64-42b2-8578-9f7f640d94d8 button.colab-df-convert');\n",
              "      buttonEl.style.display =\n",
              "        google.colab.kernel.accessAllowed ? 'block' : 'none';\n",
              "\n",
              "      async function convertToInteractive(key) {\n",
              "        const element = document.querySelector('#df-ccae9c8e-4d64-42b2-8578-9f7f640d94d8');\n",
              "        const dataTable =\n",
              "          await google.colab.kernel.invokeFunction('convertToInteractive',\n",
              "                                                    [key], {});\n",
              "        if (!dataTable) return;\n",
              "\n",
              "        const docLinkHtml = 'Like what you see? Visit the ' +\n",
              "          '<a target=\"_blank\" href=https://colab.research.google.com/notebooks/data_table.ipynb>data table notebook</a>'\n",
              "          + ' to learn more about interactive tables.';\n",
              "        element.innerHTML = '';\n",
              "        dataTable['output_type'] = 'display_data';\n",
              "        await google.colab.output.renderOutput(dataTable, element);\n",
              "        const docLink = document.createElement('div');\n",
              "        docLink.innerHTML = docLinkHtml;\n",
              "        element.appendChild(docLink);\n",
              "      }\n",
              "    </script>\n",
              "  </div>\n",
              "\n",
              "\n",
              "    </div>\n",
              "  </div>\n"
            ],
            "application/vnd.google.colaboratory.intrinsic+json": {
              "type": "dataframe",
              "summary": "{\n  \"name\": \"valid\",\n  \"rows\": 1,\n  \"fields\": [\n    {\n      \"column\": \"Message ID\",\n      \"properties\": {\n        \"dtype\": \"number\",\n        \"std\": null,\n        \"min\": 16712,\n        \"max\": 16712,\n        \"num_unique_values\": 1,\n        \"samples\": [\n          16712\n        ],\n        \"semantic_type\": \"\",\n        \"description\": \"\"\n      }\n    },\n    {\n      \"column\": \"Subject\",\n      \"properties\": {\n        \"dtype\": \"string\",\n        \"num_unique_values\": 1,\n        \"samples\": [\n          \"thursday plans\"\n        ],\n        \"semantic_type\": \"\",\n        \"description\": \"\"\n      }\n    },\n    {\n      \"column\": \"Message\",\n      \"properties\": {\n        \"dtype\": \"string\",\n        \"num_unique_values\": 1,\n        \"samples\": [\n          \"billy williams ,\\nre . thursday summer solstice ,\\n1 . i can stop by bridgeport and get two growlers , and pick up some food at\\nspans .\\n2 . what time should we start ? i am available ~ 6 : 30\\n3 . should we invite people from work , or keep it \\\" real \\\" . i am impartial .\\nlater ,\\nkuehn\\n> - - - - - original message - - - - -\\n> from : williams iii , bill [ mailto : bill . williams . iii @ enron . com ]\\n> sent : friday , may 25 , 2001 12 : 51 pm\\n> to : kuehn , m scott\\n> subject : re : goodday ' captain\\n>\\n> kuehn ,\\n> i am currently busting out some reviews and listening to a little\\n> bit of mudhoney . . . ( egbdf ! ) . how bout yoself ?\\n> what time are you finishing up this evening ? should we go grab some\\n> lovely ritas ? i am done whenever . . . one of those days you know . as always\\n> you cam reach me on the cellular at 503 - 887 - 3449 .\\n> wop !\\n> b\\n- c . dtf\"\n        ],\n        \"semantic_type\": \"\",\n        \"description\": \"\"\n      }\n    },\n    {\n      \"column\": \"Result\",\n      \"properties\": {\n        \"dtype\": \"number\",\n        \"std\": null,\n        \"min\": 0,\n        \"max\": 0,\n        \"num_unique_values\": 1,\n        \"samples\": [\n          0\n        ],\n        \"semantic_type\": \"\",\n        \"description\": \"\"\n      }\n    },\n    {\n      \"column\": \"full_message\",\n      \"properties\": {\n        \"dtype\": \"string\",\n        \"num_unique_values\": 1,\n        \"samples\": [\n          \"thursday plans billy williams ,\\nre . thursday summer solstice ,\\n1 . i can stop by bridgeport and get two growlers , and pick up some food at\\nspans .\\n2 . what time should we start ? i am available ~ 6 : 30\\n3 . should we invite people from work , or keep it \\\" real \\\" . i am impartial .\\nlater ,\\nkuehn\\n> - - - - - original message - - - - -\\n> from : williams iii , bill [ mailto : bill . williams . iii @ enron . com ]\\n> sent : friday , may 25 , 2001 12 : 51 pm\\n> to : kuehn , m scott\\n> subject : re : goodday ' captain\\n>\\n> kuehn ,\\n> i am currently busting out some reviews and listening to a little\\n> bit of mudhoney . . . ( egbdf ! ) . how bout yoself ?\\n> what time are you finishing up this evening ? should we go grab some\\n> lovely ritas ? i am done whenever . . . one of those days you know . as always\\n> you cam reach me on the cellular at 503 - 887 - 3449 .\\n> wop !\\n> b\\n- c . dtf\"\n        ],\n        \"semantic_type\": \"\",\n        \"description\": \"\"\n      }\n    },\n    {\n      \"column\": \"transform_text\",\n      \"properties\": {\n        \"dtype\": \"string\",\n        \"num_unique_values\": 1,\n        \"samples\": [\n          \"thursday plan billi william thursday summer solstic 1 stop bridgeport get two growler pick food span 2 time start avail 6 30 3 invit peopl work keep real imparti later kuehn origin messag william iii bill mailto bill william iii enron com sent friday may 25 2001 12 51 pm kuehn scott subject goodday captain kuehn current bust review listen littl bit mudhoney egbdf bout yoself time finish even go grab love rita done whenev one day know alway cam reach cellular 503 887 3449 wop b c dtf\"\n        ],\n        \"semantic_type\": \"\",\n        \"description\": \"\"\n      }\n    }\n  ]\n}"
            }
          },
          "metadata": {},
          "execution_count": 23
        }
      ],
      "source": [
        "# count spam row\n",
        "valid[resultCol] = encoder.transform(valid[resultCol])\n",
        "valid.sample()"
      ]
    },
    {
      "cell_type": "code",
      "execution_count": 24,
      "metadata": {
        "colab": {
          "base_uri": "https://localhost:8080/"
        },
        "id": "wr51hYvXwKa_",
        "outputId": "f0644a64-a5bc-48ca-8f55-4775e9a49236"
      },
      "outputs": [
        {
          "output_type": "execute_result",
          "data": {
            "text/plain": [
              "array(['ham', 'spam'], dtype=object)"
            ]
          },
          "metadata": {},
          "execution_count": 24
        }
      ],
      "source": [
        "encoder.classes_"
      ]
    },
    {
      "cell_type": "markdown",
      "metadata": {
        "id": "lj5sBAp5wKa_"
      },
      "source": [
        "##### Split data"
      ]
    },
    {
      "cell_type": "code",
      "execution_count": 25,
      "metadata": {
        "id": "GDBDq0pywKa_"
      },
      "outputs": [],
      "source": [
        "X_train_no_preprocess = train['full_message']\n",
        "X_valid_no_preprocess = valid['full_message']\n",
        "\n",
        "X_train_preprocess = train['transform_text']\n",
        "X_valid_preprocess = valid['transform_text']\n",
        "\n",
        "y_train = train[resultCol]\n",
        "y_valid = valid[resultCol]"
      ]
    },
    {
      "cell_type": "markdown",
      "metadata": {
        "id": "WhYKnzZbwKa_"
      },
      "source": [
        "##### Support Class"
      ]
    },
    {
      "cell_type": "code",
      "execution_count": 26,
      "metadata": {
        "id": "eDVrXvocwKa_"
      },
      "outputs": [],
      "source": [
        "import copy\n",
        "\n",
        "class ModelData:\n",
        "  def __init__(self, X_train, y_train, X_valid, y_valid, data_name = \"\"):\n",
        "    self.X_train = copy.deepcopy(X_train)\n",
        "    self.y_train = copy.deepcopy(y_train)\n",
        "    self.y_valid = copy.deepcopy(y_valid)\n",
        "    self.X_valid = copy.deepcopy(X_valid)\n",
        "    self.data_name = data_name\n",
        "  def getName(self):\n",
        "    return self.data_name\n",
        "\n",
        "plain_model_data = ModelData(X_train_no_preprocess, y_train, X_valid_no_preprocess, y_valid, \"plain_data\")\n",
        "preprocess_model_data = ModelData(X_train_preprocess, y_train, X_valid_preprocess, y_valid,  \"preprocess_data\")"
      ]
    },
    {
      "cell_type": "code",
      "execution_count": 27,
      "metadata": {
        "id": "HCP-te_7wKbA"
      },
      "outputs": [],
      "source": [
        "def create_BoWVectorlization_instance():\n",
        "  return CountVectorizer(analyzer='word', ngram_range=(1,2))"
      ]
    },
    {
      "cell_type": "code",
      "execution_count": 28,
      "metadata": {
        "id": "WcZQZCJYwKbA"
      },
      "outputs": [],
      "source": [
        "class ModelConfig:\n",
        "  def __init__(self, baseModel, hparamsSpace, modelName):\n",
        "    self.baseModel = baseModel\n",
        "    self.hparamsSpace = hparamsSpace\n",
        "    self.modelName = modelName\n",
        "  def getModelName(self):\n",
        "    return self.modelName\n",
        "\n",
        "class NaiveBayesConfig(ModelConfig):\n",
        "  def __init__(self):\n",
        "    self.hparamsSpace = {'alpha': [0.01, 0.1, 0.5, 1.0, 1.5, 5.0, 10.0]}\n",
        "    super().__init__(MultinomialNB(), self.hparamsSpace, \"NaiveBayes\")"
      ]
    },
    {
      "cell_type": "code",
      "execution_count": 29,
      "metadata": {
        "id": "XzPbwtCSwKbA"
      },
      "outputs": [],
      "source": [
        "import seaborn as sns\n",
        "import matplotlib.pyplot as plt\n",
        "from tqdm.notebook import tqdm\n",
        "import os\n",
        "\n",
        "class Model:\n",
        "  def __init__(self, modelConfig, modelData, vectorlization, name = \"\"):\n",
        "    self.modelConfig = modelConfig\n",
        "    self.modelData = copy.deepcopy(modelData)\n",
        "    self.modelDataVectorlized = None   # ModelData after vectorlization\n",
        "    self.vectorlization = vectorlization\n",
        "    self.model = None\n",
        "    self.name = name\n",
        "\n",
        "    print(f'init model {self.getModelName()}')\n",
        "    self.fitVectorlization()\n",
        "    self.vectorlizedModelData()\n",
        "\n",
        "\n",
        "  def fitVectorlization(self):\n",
        "    self.vectorlization.fit_transform(self.modelData.X_train)\n",
        "    return self\n",
        "  def vectorlizedModelData(self):\n",
        "    self.modelDataVectorlized = ModelData(\n",
        "        self.vectorlization.transform(self.modelData.X_train),\n",
        "        self.modelData.y_train,\n",
        "        self.vectorlization.transform(self.modelData.X_valid),\n",
        "        self.modelData.y_valid,\n",
        "        self.modelData.getName()\n",
        "    )\n",
        "    return self\n",
        "\n",
        "  def getModelName(self):\n",
        "    if self.name != \"\":\n",
        "      return self.name\n",
        "    return \"_\".join([self.modelConfig.getModelName(), self.modelData.getName()])\n",
        "\n",
        "  def getModelSaveFile(self, suffixName = \"\"):\n",
        "    return lab_folder + \"/\" + self.getModelName() + suffixName +  '.pkl'\n",
        "\n",
        "  def loadModel(self):\n",
        "    saveFile = self.getModelSaveFile()\n",
        "    if os.path.exists(saveFile):\n",
        "      with open(saveFile, 'rb') as file:\n",
        "        self.model = pickle.load(file)\n",
        "      print(f\"Model {self.getModelName()} load from {saveFile}\")\n",
        "      return True\n",
        "    else:\n",
        "      print(f\"Cannot find Model {self.getModelName()} to load\")\n",
        "      return False\n",
        "\n",
        "  def saveModel(self, suffixName = \"\"):\n",
        "    if self.model is None:\n",
        "      print(f\"Model {self.getModelName()} is not trained\")\n",
        "      return\n",
        "    saveFile = self.getModelSaveFile(suffixName)\n",
        "    if os.path.exists(saveFile):\n",
        "      os.remove(saveFile)\n",
        "    with open(saveFile, 'wb') as file:\n",
        "      pickle.dump(self.model, file)\n",
        "    print(f\"Model {self.getModelName()} saved to {saveFile}\")\n",
        "\n",
        "  def train(self):\n",
        "    \"\"\"\n",
        "    Train with default hyperparameters\n",
        "    \"\"\"\n",
        "    if(self.model is not None):\n",
        "      print(f\"Model {self.getModelName()} is already trained\")\n",
        "      return self\n",
        "    print(f\"Start training model {self.getModelName()}\")\n",
        "    self.model = self.modelConfig.baseModel\n",
        "    self.model.fit(self.modelDataVectorlized.X_train, self.modelDataVectorlized.y_train)\n",
        "    return self\n",
        "\n",
        "  def optimize_with_search(self, scoring = 'accuracy'):\n",
        "    cv = RepeatedStratifiedKFold(n_splits=10, n_repeats=3, random_state=1)\n",
        "    grid_search = GridSearchCV(estimator=self.modelConfig.baseModel, param_grid=self.modelConfig.hparamsSpace, n_jobs=-1, cv=5, scoring=scoring, verbose=2)\n",
        "\n",
        "    print(f\"Start Grid Search of {self.getModelName()} with scoring {scoring}\")\n",
        "    result = grid_search.fit(self.modelDataVectorlized.X_train, self.modelDataVectorlized.y_train)\n",
        "    self.model = result.best_estimator_\n",
        "    self.saveModel(f\"_{scoring}_best\")\n",
        "    print(f\"Best: {result.best_score_} using {result.best_params_}\")\n",
        "    return result\n",
        "\n",
        "  def predict(self, X):\n",
        "    if self.model is None:\n",
        "      print(\"Model is not trained\")\n",
        "      return None\n",
        "    X = self.vectorlization.transform(X)\n",
        "    return self.model.predict(X)\n",
        "\n",
        "  def y_predict(self):\n",
        "    return self.predict(self.modelData.X_valid)\n",
        "\n",
        "  def y_true(self):\n",
        "    return self.modelData.y_valid\n",
        "\n",
        "  def evaluate_valid(self, is_report = False):\n",
        "    return self.evaluate(self.modelData.X_valid, self.modelData.y_valid, is_report)\n",
        "  def evaluate_train(self, is_report = False):\n",
        "    return self.evaluate(self.modelData.X_train, self.modelData.y_train, is_report)\n",
        "\n",
        "  def evaluate(self, X = None, y = None, is_report = False):\n",
        "    if self.model is None:\n",
        "      print(\"Model is not trained\")\n",
        "      return None\n",
        "    if X is None or y is None:\n",
        "      print(\"X or y is None\")\n",
        "      return None\n",
        "\n",
        "    if(is_report):\n",
        "      print(f\"Model {self.getModelName()}\")\n",
        "\n",
        "    y_predict = self.predict(X)\n",
        "    y_true = y\n",
        "\n",
        "    accuracy = accuracy_score(y_true, y_predict)\n",
        "    precision = precision_score(y_true, y_predict)\n",
        "    recall = recall_score(y_true, y_predict)\n",
        "    f1 = f1_score(y_true, y_predict)\n",
        "    cm = confusion_matrix(y_true, y_predict)\n",
        "\n",
        "    if(is_report):\n",
        "      print(f\"Accuracy: {accuracy}\")\n",
        "      print(f\"Precision: {precision}\")\n",
        "      print(f\"Recall: {recall}\")\n",
        "      print(f\"F1: {f1}\")\n",
        "      sns.heatmap(cm, annot=True, cmap='Blues', fmt='.0f')\n",
        "      plt.show()\n",
        "\n",
        "    return {\n",
        "        \"accuracy\": accuracy,\n",
        "        \"precision\": precision,\n",
        "        \"recall\": recall,\n",
        "        \"f1\": f1,\n",
        "        \"confusion_matrix\": confusion_matrix\n",
        "    }\n"
      ]
    },
    {
      "cell_type": "markdown",
      "metadata": {
        "id": "rNDB-3t4wKbA"
      },
      "source": [
        "##### Train model"
      ]
    },
    {
      "cell_type": "code",
      "execution_count": 30,
      "metadata": {
        "colab": {
          "base_uri": "https://localhost:8080/",
          "height": 648
        },
        "id": "3IYdDW-6wKbA",
        "outputId": "3607ed80-d42d-466f-e9b6-feaa9c2c11d4"
      },
      "outputs": [
        {
          "output_type": "stream",
          "name": "stdout",
          "text": [
            "init model NaiveBayes_preprocess_data_BoW\n",
            "Model NaiveBayes_preprocess_data_BoW load from /content/drive/MyDrive/AI4Security/Lab/Lab1/NaiveBayes_preprocess_data_BoW.pkl\n",
            "Model NaiveBayes_preprocess_data_BoW\n",
            "Accuracy: 0.9904385097263435\n",
            "Precision: 0.9927248677248677\n",
            "Recall: 0.9881500987491771\n",
            "F1: 0.9904322005938634\n"
          ]
        },
        {
          "output_type": "display_data",
          "data": {
            "text/plain": [
              "<Figure size 640x480 with 2 Axes>"
            ],
            "image/png": "[encoded data removed]"
          },
          "metadata": {}
        },
        {
          "output_type": "execute_result",
          "data": {
            "text/plain": [
              "{'accuracy': 0.9904385097263435,\n",
              " 'precision': 0.9927248677248677,\n",
              " 'recall': 0.9881500987491771,\n",
              " 'f1': 0.9904322005938634,\n",
              " 'confusion_matrix': <function sklearn.metrics._classification.confusion_matrix(y_true, y_pred, *, labels=None, sample_weight=None, normalize=None)>}"
            ]
          },
          "metadata": {},
          "execution_count": 30
        }
      ],
      "source": [
        "naiveBayesModel = Model(NaiveBayesConfig(), preprocess_model_data, create_BoWVectorlization_instance(), name=\"NaiveBayes_preprocess_data_BoW\")\n",
        "\n",
        "if not naiveBayesModel.loadModel():\n",
        "  naiveBayesModel.train()\n",
        "  naiveBayesModel.saveModel()\n",
        "\n",
        "# Evaluate Model with Valid Data\n",
        "naiveBayesModel.evaluate_valid(is_report=True)"
      ]
    },
    {
      "cell_type": "code",
      "execution_count": 31,
      "metadata": {
        "colab": {
          "base_uri": "https://localhost:8080/",
          "height": 612
        },
        "id": "5be58COKwKbB",
        "outputId": "5da2c0a5-35a0-4bc2-b755-533fdead1320"
      },
      "outputs": [
        {
          "output_type": "stream",
          "name": "stdout",
          "text": [
            "Model NaiveBayes_preprocess_data_BoW\n",
            "Accuracy: 0.997642169204332\n",
            "Precision: 0.9987528061860813\n",
            "Recall: 0.9963503649635036\n",
            "F1: 0.9975501391022713\n"
          ]
        },
        {
          "output_type": "display_data",
          "data": {
            "text/plain": [
              "<Figure size 640x480 with 2 Axes>"
            ],
            "image/png": "[encoded data removed]"
          },
          "metadata": {}
        },
        {
          "output_type": "execute_result",
          "data": {
            "text/plain": [
              "{'accuracy': 0.997642169204332,\n",
              " 'precision': 0.9987528061860813,\n",
              " 'recall': 0.9963503649635036,\n",
              " 'f1': 0.9975501391022713,\n",
              " 'confusion_matrix': <function sklearn.metrics._classification.confusion_matrix(y_true, y_pred, *, labels=None, sample_weight=None, normalize=None)>}"
            ]
          },
          "metadata": {},
          "execution_count": 31
        }
      ],
      "source": [
        "# Evaluate Model with Training Data\n",
        "naiveBayesModel.evaluate_train(is_report=True)"
      ]
    },
    {
      "cell_type": "code",
      "execution_count": 32,
      "metadata": {
        "colab": {
          "base_uri": "https://localhost:8080/",
          "height": 207
        },
        "id": "UN_tPV_GwKbB",
        "outputId": "94719615-fbc4-4bd1-af72-8417c98e440c"
      },
      "outputs": [
        {
          "output_type": "stream",
          "name": "stdout",
          "text": [
            "Start Grid Search of NaiveBayes_preprocess_data_BoW with scoring accuracy\n",
            "Fitting 5 folds for each of 7 candidates, totalling 35 fits\n",
            "Model NaiveBayes_preprocess_data_BoW saved to /content/drive/MyDrive/AI4Security/Lab/Lab1/NaiveBayes_preprocess_data_BoW_accuracy_best.pkl\n",
            "Best: 0.9880509418638915 using {'alpha': 0.1}\n"
          ]
        },
        {
          "output_type": "execute_result",
          "data": {
            "text/plain": [
              "GridSearchCV(cv=5, estimator=MultinomialNB(), n_jobs=-1,\n",
              "             param_grid={'alpha': [0.01, 0.1, 0.5, 1.0, 1.5, 5.0, 10.0]},\n",
              "             scoring='accuracy', verbose=2)"
            ],
            "text/html": [
              "<style>#sk-container-id-1 {\n",
              "  /* Definition of color scheme common for light and dark mode */\n",
              "  --sklearn-color-text: black;\n",
              "  --sklearn-color-line: gray;\n",
              "  /* Definition of color scheme for unfitted estimators */\n",
              "  --sklearn-color-unfitted-level-0: #fff5e6;\n",
              "  --sklearn-color-unfitted-level-1: #f6e4d2;\n",
              "  --sklearn-color-unfitted-level-2: #ffe0b3;\n",
              "  --sklearn-color-unfitted-level-3: chocolate;\n",
              "  /* Definition of color scheme for fitted estimators */\n",
              "  --sklearn-color-fitted-level-0: #f0f8ff;\n",
              "  --sklearn-color-fitted-level-1: #d4ebff;\n",
              "  --sklearn-color-fitted-level-2: #b3dbfd;\n",
              "  --sklearn-color-fitted-level-3: cornflowerblue;\n",
              "\n",
              "  /* Specific color for light theme */\n",
              "  --sklearn-color-text-on-default-background: var(--sg-text-color, var(--theme-code-foreground, var(--jp-content-font-color1, black)));\n",
              "  --sklearn-color-background: var(--sg-background-color, var(--theme-background, var(--jp-layout-color0, white)));\n",
              "  --sklearn-color-border-box: var(--sg-text-color, var(--theme-code-foreground, var(--jp-content-font-color1, black)));\n",
              "  --sklearn-color-icon: #696969;\n",
              "\n",
              "  @media (prefers-color-scheme: dark) {\n",
              "    /* Redefinition of color scheme for dark theme */\n",
              "    --sklearn-color-text-on-default-background: var(--sg-text-color, var(--theme-code-foreground, var(--jp-content-font-color1, white)));\n",
              "    --sklearn-color-background: var(--sg-background-color, var(--theme-background, var(--jp-layout-color0, #111)));\n",
              "    --sklearn-color-border-box: var(--sg-text-color, var(--theme-code-foreground, var(--jp-content-font-color1, white)));\n",
              "    --sklearn-color-icon: #878787;\n",
              "  }\n",
              "}\n",
              "\n",
              "#sk-container-id-1 {\n",
              "  color: var(--sklearn-color-text);\n",
              "}\n",
              "\n",
              "#sk-container-id-1 pre {\n",
              "  padding: 0;\n",
              "}\n",
              "\n",
              "#sk-container-id-1 input.sk-hidden--visually {\n",
              "  border: 0;\n",
              "  clip: rect(1px 1px 1px 1px);\n",
              "  clip: rect(1px, 1px, 1px, 1px);\n",
              "  height: 1px;\n",
              "  margin: -1px;\n",
              "  overflow: hidden;\n",
              "  padding: 0;\n",
              "  position: absolute;\n",
              "  width: 1px;\n",
              "}\n",
              "\n",
              "#sk-container-id-1 div.sk-dashed-wrapped {\n",
              "  border: 1px dashed var(--sklearn-color-line);\n",
              "  margin: 0 0.4em 0.5em 0.4em;\n",
              "  box-sizing: border-box;\n",
              "  padding-bottom: 0.4em;\n",
              "  background-color: var(--sklearn-color-background);\n",
              "}\n",
              "\n",
              "#sk-container-id-1 div.sk-container {\n",
              "  /* jupyter's `normalize.less` sets `[hidden] { display: none; }`\n",
              "     but bootstrap.min.css set `[hidden] { display: none !important; }`\n",
              "     so we also need the `!important` here to be able to override the\n",
              "     default hidden behavior on the sphinx rendered scikit-learn.org.\n",
              "     See: https://github.com/scikit-learn/scikit-learn/issues/21755 */\n",
              "  display: inline-block !important;\n",
              "  position: relative;\n",
              "}\n",
              "\n",
              "#sk-container-id-1 div.sk-text-repr-fallback {\n",
              "  display: none;\n",
              "}\n",
              "\n",
              "div.sk-parallel-item,\n",
              "div.sk-serial,\n",
              "div.sk-item {\n",
              "  /* draw centered vertical line to link estimators */\n",
              "  background-image: linear-gradient(var(--sklearn-color-text-on-default-background), var(--sklearn-color-text-on-default-background));\n",
              "  background-size: 2px 100%;\n",
              "  background-repeat: no-repeat;\n",
              "  background-position: center center;\n",
              "}\n",
              "\n",
              "/* Parallel-specific style estimator block */\n",
              "\n",
              "#sk-container-id-1 div.sk-parallel-item::after {\n",
              "  content: \"\";\n",
              "  width: 100%;\n",
              "  border-bottom: 2px solid var(--sklearn-color-text-on-default-background);\n",
              "  flex-grow: 1;\n",
              "}\n",
              "\n",
              "#sk-container-id-1 div.sk-parallel {\n",
              "  display: flex;\n",
              "  align-items: stretch;\n",
              "  justify-content: center;\n",
              "  background-color: var(--sklearn-color-background);\n",
              "  position: relative;\n",
              "}\n",
              "\n",
              "#sk-container-id-1 div.sk-parallel-item {\n",
              "  display: flex;\n",
              "  flex-direction: column;\n",
              "}\n",
              "\n",
              "#sk-container-id-1 div.sk-parallel-item:first-child::after {\n",
              "  align-self: flex-end;\n",
              "  width: 50%;\n",
              "}\n",
              "\n",
              "#sk-container-id-1 div.sk-parallel-item:last-child::after {\n",
              "  align-self: flex-start;\n",
              "  width: 50%;\n",
              "}\n",
              "\n",
              "#sk-container-id-1 div.sk-parallel-item:only-child::after {\n",
              "  width: 0;\n",
              "}\n",
              "\n",
              "/* Serial-specific style estimator block */\n",
              "\n",
              "#sk-container-id-1 div.sk-serial {\n",
              "  display: flex;\n",
              "  flex-direction: column;\n",
              "  align-items: center;\n",
              "  background-color: var(--sklearn-color-background);\n",
              "  padding-right: 1em;\n",
              "  padding-left: 1em;\n",
              "}\n",
              "\n",
              "\n",
              "/* Toggleable style: style used for estimator/Pipeline/ColumnTransformer box that is\n",
              "clickable and can be expanded/collapsed.\n",
              "- Pipeline and ColumnTransformer use this feature and define the default style\n",
              "- Estimators will overwrite some part of the style using the `sk-estimator` class\n",
              "*/\n",
              "\n",
              "/* Pipeline and ColumnTransformer style (default) */\n",
              "\n",
              "#sk-container-id-1 div.sk-toggleable {\n",
              "  /* Default theme specific background. It is overwritten whether we have a\n",
              "  specific estimator or a Pipeline/ColumnTransformer */\n",
              "  background-color: var(--sklearn-color-background);\n",
              "}\n",
              "\n",
              "/* Toggleable label */\n",
              "#sk-container-id-1 label.sk-toggleable__label {\n",
              "  cursor: pointer;\n",
              "  display: block;\n",
              "  width: 100%;\n",
              "  margin-bottom: 0;\n",
              "  padding: 0.5em;\n",
              "  box-sizing: border-box;\n",
              "  text-align: center;\n",
              "}\n",
              "\n",
              "#sk-container-id-1 label.sk-toggleable__label-arrow:before {\n",
              "  /* Arrow on the left of the label */\n",
              "  content: \"▸\";\n",
              "  float: left;\n",
              "  margin-right: 0.25em;\n",
              "  color: var(--sklearn-color-icon);\n",
              "}\n",
              "\n",
              "#sk-container-id-1 label.sk-toggleable__label-arrow:hover:before {\n",
              "  color: var(--sklearn-color-text);\n",
              "}\n",
              "\n",
              "/* Toggleable content - dropdown */\n",
              "\n",
              "#sk-container-id-1 div.sk-toggleable__content {\n",
              "  max-height: 0;\n",
              "  max-width: 0;\n",
              "  overflow: hidden;\n",
              "  text-align: left;\n",
              "  /* unfitted */\n",
              "  background-color: var(--sklearn-color-unfitted-level-0);\n",
              "}\n",
              "\n",
              "#sk-container-id-1 div.sk-toggleable__content.fitted {\n",
              "  /* fitted */\n",
              "  background-color: var(--sklearn-color-fitted-level-0);\n",
              "}\n",
              "\n",
              "#sk-container-id-1 div.sk-toggleable__content pre {\n",
              "  margin: 0.2em;\n",
              "  border-radius: 0.25em;\n",
              "  color: var(--sklearn-color-text);\n",
              "  /* unfitted */\n",
              "  background-color: var(--sklearn-color-unfitted-level-0);\n",
              "}\n",
              "\n",
              "#sk-container-id-1 div.sk-toggleable__content.fitted pre {\n",
              "  /* unfitted */\n",
              "  background-color: var(--sklearn-color-fitted-level-0);\n",
              "}\n",
              "\n",
              "#sk-container-id-1 input.sk-toggleable__control:checked~div.sk-toggleable__content {\n",
              "  /* Expand drop-down */\n",
              "  max-height: 200px;\n",
              "  max-width: 100%;\n",
              "  overflow: auto;\n",
              "}\n",
              "\n",
              "#sk-container-id-1 input.sk-toggleable__control:checked~label.sk-toggleable__label-arrow:before {\n",
              "  content: \"▾\";\n",
              "}\n",
              "\n",
              "/* Pipeline/ColumnTransformer-specific style */\n",
              "\n",
              "#sk-container-id-1 div.sk-label input.sk-toggleable__control:checked~label.sk-toggleable__label {\n",
              "  color: var(--sklearn-color-text);\n",
              "  background-color: var(--sklearn-color-unfitted-level-2);\n",
              "}\n",
              "\n",
              "#sk-container-id-1 div.sk-label.fitted input.sk-toggleable__control:checked~label.sk-toggleable__label {\n",
              "  background-color: var(--sklearn-color-fitted-level-2);\n",
              "}\n",
              "\n",
              "/* Estimator-specific style */\n",
              "\n",
              "/* Colorize estimator box */\n",
              "#sk-container-id-1 div.sk-estimator input.sk-toggleable__control:checked~label.sk-toggleable__label {\n",
              "  /* unfitted */\n",
              "  background-color: var(--sklearn-color-unfitted-level-2);\n",
              "}\n",
              "\n",
              "#sk-container-id-1 div.sk-estimator.fitted input.sk-toggleable__control:checked~label.sk-toggleable__label {\n",
              "  /* fitted */\n",
              "  background-color: var(--sklearn-color-fitted-level-2);\n",
              "}\n",
              "\n",
              "#sk-container-id-1 div.sk-label label.sk-toggleable__label,\n",
              "#sk-container-id-1 div.sk-label label {\n",
              "  /* The background is the default theme color */\n",
              "  color: var(--sklearn-color-text-on-default-background);\n",
              "}\n",
              "\n",
              "/* On hover, darken the color of the background */\n",
              "#sk-container-id-1 div.sk-label:hover label.sk-toggleable__label {\n",
              "  color: var(--sklearn-color-text);\n",
              "  background-color: var(--sklearn-color-unfitted-level-2);\n",
              "}\n",
              "\n",
              "/* Label box, darken color on hover, fitted */\n",
              "#sk-container-id-1 div.sk-label.fitted:hover label.sk-toggleable__label.fitted {\n",
              "  color: var(--sklearn-color-text);\n",
              "  background-color: var(--sklearn-color-fitted-level-2);\n",
              "}\n",
              "\n",
              "/* Estimator label */\n",
              "\n",
              "#sk-container-id-1 div.sk-label label {\n",
              "  font-family: monospace;\n",
              "  font-weight: bold;\n",
              "  display: inline-block;\n",
              "  line-height: 1.2em;\n",
              "}\n",
              "\n",
              "#sk-container-id-1 div.sk-label-container {\n",
              "  text-align: center;\n",
              "}\n",
              "\n",
              "/* Estimator-specific */\n",
              "#sk-container-id-1 div.sk-estimator {\n",
              "  font-family: monospace;\n",
              "  border: 1px dotted var(--sklearn-color-border-box);\n",
              "  border-radius: 0.25em;\n",
              "  box-sizing: border-box;\n",
              "  margin-bottom: 0.5em;\n",
              "  /* unfitted */\n",
              "  background-color: var(--sklearn-color-unfitted-level-0);\n",
              "}\n",
              "\n",
              "#sk-container-id-1 div.sk-estimator.fitted {\n",
              "  /* fitted */\n",
              "  background-color: var(--sklearn-color-fitted-level-0);\n",
              "}\n",
              "\n",
              "/* on hover */\n",
              "#sk-container-id-1 div.sk-estimator:hover {\n",
              "  /* unfitted */\n",
              "  background-color: var(--sklearn-color-unfitted-level-2);\n",
              "}\n",
              "\n",
              "#sk-container-id-1 div.sk-estimator.fitted:hover {\n",
              "  /* fitted */\n",
              "  background-color: var(--sklearn-color-fitted-level-2);\n",
              "}\n",
              "\n",
              "/* Specification for estimator info (e.g. \"i\" and \"?\") */\n",
              "\n",
              "/* Common style for \"i\" and \"?\" */\n",
              "\n",
              ".sk-estimator-doc-link,\n",
              "a:link.sk-estimator-doc-link,\n",
              "a:visited.sk-estimator-doc-link {\n",
              "  float: right;\n",
              "  font-size: smaller;\n",
              "  line-height: 1em;\n",
              "  font-family: monospace;\n",
              "  background-color: var(--sklearn-color-background);\n",
              "  border-radius: 1em;\n",
              "  height: 1em;\n",
              "  width: 1em;\n",
              "  text-decoration: none !important;\n",
              "  margin-left: 1ex;\n",
              "  /* unfitted */\n",
              "  border: var(--sklearn-color-unfitted-level-1) 1pt solid;\n",
              "  color: var(--sklearn-color-unfitted-level-1);\n",
              "}\n",
              "\n",
              ".sk-estimator-doc-link.fitted,\n",
              "a:link.sk-estimator-doc-link.fitted,\n",
              "a:visited.sk-estimator-doc-link.fitted {\n",
              "  /* fitted */\n",
              "  border: var(--sklearn-color-fitted-level-1) 1pt solid;\n",
              "  color: var(--sklearn-color-fitted-level-1);\n",
              "}\n",
              "\n",
              "/* On hover */\n",
              "div.sk-estimator:hover .sk-estimator-doc-link:hover,\n",
              ".sk-estimator-doc-link:hover,\n",
              "div.sk-label-container:hover .sk-estimator-doc-link:hover,\n",
              ".sk-estimator-doc-link:hover {\n",
              "  /* unfitted */\n",
              "  background-color: var(--sklearn-color-unfitted-level-3);\n",
              "  color: var(--sklearn-color-background);\n",
              "  text-decoration: none;\n",
              "}\n",
              "\n",
              "div.sk-estimator.fitted:hover .sk-estimator-doc-link.fitted:hover,\n",
              ".sk-estimator-doc-link.fitted:hover,\n",
              "div.sk-label-container:hover .sk-estimator-doc-link.fitted:hover,\n",
              ".sk-estimator-doc-link.fitted:hover {\n",
              "  /* fitted */\n",
              "  background-color: var(--sklearn-color-fitted-level-3);\n",
              "  color: var(--sklearn-color-background);\n",
              "  text-decoration: none;\n",
              "}\n",
              "\n",
              "/* Span, style for the box shown on hovering the info icon */\n",
              ".sk-estimator-doc-link span {\n",
              "  display: none;\n",
              "  z-index: 9999;\n",
              "  position: relative;\n",
              "  font-weight: normal;\n",
              "  right: .2ex;\n",
              "  padding: .5ex;\n",
              "  margin: .5ex;\n",
              "  width: min-content;\n",
              "  min-width: 20ex;\n",
              "  max-width: 50ex;\n",
              "  color: var(--sklearn-color-text);\n",
              "  box-shadow: 2pt 2pt 4pt #999;\n",
              "  /* unfitted */\n",
              "  background: var(--sklearn-color-unfitted-level-0);\n",
              "  border: .5pt solid var(--sklearn-color-unfitted-level-3);\n",
              "}\n",
              "\n",
              ".sk-estimator-doc-link.fitted span {\n",
              "  /* fitted */\n",
              "  background: var(--sklearn-color-fitted-level-0);\n",
              "  border: var(--sklearn-color-fitted-level-3);\n",
              "}\n",
              "\n",
              ".sk-estimator-doc-link:hover span {\n",
              "  display: block;\n",
              "}\n",
              "\n",
              "/* \"?\"-specific style due to the `<a>` HTML tag */\n",
              "\n",
              "#sk-container-id-1 a.estimator_doc_link {\n",
              "  float: right;\n",
              "  font-size: 1rem;\n",
              "  line-height: 1em;\n",
              "  font-family: monospace;\n",
              "  background-color: var(--sklearn-color-background);\n",
              "  border-radius: 1rem;\n",
              "  height: 1rem;\n",
              "  width: 1rem;\n",
              "  text-decoration: none;\n",
              "  /* unfitted */\n",
              "  color: var(--sklearn-color-unfitted-level-1);\n",
              "  border: var(--sklearn-color-unfitted-level-1) 1pt solid;\n",
              "}\n",
              "\n",
              "#sk-container-id-1 a.estimator_doc_link.fitted {\n",
              "  /* fitted */\n",
              "  border: var(--sklearn-color-fitted-level-1) 1pt solid;\n",
              "  color: var(--sklearn-color-fitted-level-1);\n",
              "}\n",
              "\n",
              "/* On hover */\n",
              "#sk-container-id-1 a.estimator_doc_link:hover {\n",
              "  /* unfitted */\n",
              "  background-color: var(--sklearn-color-unfitted-level-3);\n",
              "  color: var(--sklearn-color-background);\n",
              "  text-decoration: none;\n",
              "}\n",
              "\n",
              "#sk-container-id-1 a.estimator_doc_link.fitted:hover {\n",
              "  /* fitted */\n",
              "  background-color: var(--sklearn-color-fitted-level-3);\n",
              "}\n",
              "</style><div id=\"sk-container-id-1\" class=\"sk-top-container\"><div class=\"sk-text-repr-fallback\"><pre>GridSearchCV(cv=5, estimator=MultinomialNB(), n_jobs=-1,\n",
              "             param_grid={&#x27;alpha&#x27;: [0.01, 0.1, 0.5, 1.0, 1.5, 5.0, 10.0]},\n",
              "             scoring=&#x27;accuracy&#x27;, verbose=2)</pre><b>In a Jupyter environment, please rerun this cell to show the HTML representation or trust the notebook. <br />On GitHub, the HTML representation is unable to render, please try loading this page with nbviewer.org.</b></div><div class=\"sk-container\" hidden><div class=\"sk-item sk-dashed-wrapped\"><div class=\"sk-label-container\"><div class=\"sk-label fitted sk-toggleable\"><input class=\"sk-toggleable__control sk-hidden--visually\" id=\"sk-estimator-id-1\" type=\"checkbox\" ><label for=\"sk-estimator-id-1\" class=\"sk-toggleable__label fitted sk-toggleable__label-arrow fitted\">&nbsp;&nbsp;GridSearchCV<a class=\"sk-estimator-doc-link fitted\" rel=\"noreferrer\" target=\"_blank\" href=\"https://scikit-learn.org/1.5/modules/generated/sklearn.model_selection.GridSearchCV.html\">?<span>Documentation for GridSearchCV</span></a><span class=\"sk-estimator-doc-link fitted\">i<span>Fitted</span></span></label><div class=\"sk-toggleable__content fitted\"><pre>GridSearchCV(cv=5, estimator=MultinomialNB(), n_jobs=-1,\n",
              "             param_grid={&#x27;alpha&#x27;: [0.01, 0.1, 0.5, 1.0, 1.5, 5.0, 10.0]},\n",
              "             scoring=&#x27;accuracy&#x27;, verbose=2)</pre></div> </div></div><div class=\"sk-parallel\"><div class=\"sk-parallel-item\"><div class=\"sk-item\"><div class=\"sk-label-container\"><div class=\"sk-label fitted sk-toggleable\"><input class=\"sk-toggleable__control sk-hidden--visually\" id=\"sk-estimator-id-2\" type=\"checkbox\" ><label for=\"sk-estimator-id-2\" class=\"sk-toggleable__label fitted sk-toggleable__label-arrow fitted\">best_estimator_: MultinomialNB</label><div class=\"sk-toggleable__content fitted\"><pre>MultinomialNB(alpha=0.1)</pre></div> </div></div><div class=\"sk-serial\"><div class=\"sk-item\"><div class=\"sk-estimator fitted sk-toggleable\"><input class=\"sk-toggleable__control sk-hidden--visually\" id=\"sk-estimator-id-3\" type=\"checkbox\" ><label for=\"sk-estimator-id-3\" class=\"sk-toggleable__label fitted sk-toggleable__label-arrow fitted\">&nbsp;MultinomialNB<a class=\"sk-estimator-doc-link fitted\" rel=\"noreferrer\" target=\"_blank\" href=\"https://scikit-learn.org/1.5/modules/generated/sklearn.naive_bayes.MultinomialNB.html\">?<span>Documentation for MultinomialNB</span></a></label><div class=\"sk-toggleable__content fitted\"><pre>MultinomialNB(alpha=0.1)</pre></div> </div></div></div></div></div></div></div></div></div>"
            ]
          },
          "metadata": {},
          "execution_count": 32
        }
      ],
      "source": [
        "# Optimize with Grid Search\n",
        "naiveBayesModel.optimize_with_search(scoring='accuracy')"
      ]
    },
    {
      "cell_type": "code",
      "execution_count": 33,
      "metadata": {
        "colab": {
          "base_uri": "https://localhost:8080/",
          "height": 648
        },
        "id": "dv8hVbeAPQ1x",
        "outputId": "b7848f6c-0286-4d6d-886d-eead20055ab2"
      },
      "outputs": [
        {
          "output_type": "stream",
          "name": "stdout",
          "text": [
            "init model NaiveBayes_preprocess_data_BoW_accuracy_best\n",
            "Model NaiveBayes_preprocess_data_BoW_accuracy_best load from /content/drive/MyDrive/AI4Security/Lab/Lab1/NaiveBayes_preprocess_data_BoW_accuracy_best.pkl\n",
            "Model NaiveBayes_preprocess_data_BoW_accuracy_best\n",
            "Accuracy: 0.9914276294098252\n",
            "Precision: 0.9927392739273927\n",
            "Recall: 0.990125082290981\n",
            "F1: 0.991430454845089\n"
          ]
        },
        {
          "output_type": "display_data",
          "data": {
            "text/plain": [
              "<Figure size 640x480 with 2 Axes>"
            ],
            "image/png": "[encoded data removed]"
          },
          "metadata": {}
        },
        {
          "output_type": "execute_result",
          "data": {
            "text/plain": [
              "{'accuracy': 0.9914276294098252,\n",
              " 'precision': 0.9927392739273927,\n",
              " 'recall': 0.990125082290981,\n",
              " 'f1': 0.991430454845089,\n",
              " 'confusion_matrix': <function sklearn.metrics._classification.confusion_matrix(y_true, y_pred, *, labels=None, sample_weight=None, normalize=None)>}"
            ]
          },
          "metadata": {},
          "execution_count": 33
        }
      ],
      "source": [
        "optimal_naiveBayesModel = Model(NaiveBayesConfig(), preprocess_model_data, create_BoWVectorlization_instance(), name=\"NaiveBayes_preprocess_data_BoW_accuracy_best\")\n",
        "optimal_naiveBayesModel.loadModel()\n",
        "\n",
        "# Evaluate Model with Valid Data\n",
        "optimal_naiveBayesModel.evaluate_valid(is_report=True)"
      ]
    },
    {
      "cell_type": "code",
      "execution_count": 34,
      "metadata": {
        "colab": {
          "base_uri": "https://localhost:8080/",
          "height": 612
        },
        "id": "RSKvY72lQRVR",
        "outputId": "8c61f889-fe04-4d5a-9d68-81c2b4f662bb"
      },
      "outputs": [
        {
          "output_type": "stream",
          "name": "stdout",
          "text": [
            "Model NaiveBayes_preprocess_data_BoW_accuracy_best\n",
            "Accuracy: 0.9990808456220277\n",
            "Precision: 0.9995848210578759\n",
            "Recall: 0.9985069674850697\n",
            "F1: 0.9990456035520147\n"
          ]
        },
        {
          "output_type": "display_data",
          "data": {
            "text/plain": [
              "<Figure size 640x480 with 2 Axes>"
            ],
            "image/png": "[encoded data removed]"
          },
          "metadata": {}
        },
        {
          "output_type": "execute_result",
          "data": {
            "text/plain": [
              "{'accuracy': 0.9990808456220277,\n",
              " 'precision': 0.9995848210578759,\n",
              " 'recall': 0.9985069674850697,\n",
              " 'f1': 0.9990456035520147,\n",
              " 'confusion_matrix': <function sklearn.metrics._classification.confusion_matrix(y_true, y_pred, *, labels=None, sample_weight=None, normalize=None)>}"
            ]
          },
          "metadata": {},
          "execution_count": 34
        }
      ],
      "source": [
        "optimal_naiveBayesModel.evaluate_train(is_report=True)"
      ]
    },
    {
      "cell_type": "markdown",
      "metadata": {
        "id": "izczgSV_8DHh"
      },
      "source": [
        "## 4. Thử nghiệm thực tế"
      ]
    },
    {
      "cell_type": "markdown",
      "metadata": {
        "id": "jrbfsmM13DmB"
      },
      "source": [
        "### 4.1 Mục đích\n"
      ]
    },
    {
      "cell_type": "markdown",
      "metadata": {
        "id": "U3M7IkDN3FS_"
      },
      "source": [
        "Mặc dù ta đã có tập dữ liệu val set để đánh giá mô hình, nhưng ta vẫn muốn thử khả năng của mô hình bằng cách viết email trực tiếp.\n"
      ]
    },
    {
      "cell_type": "markdown",
      "metadata": {
        "id": "dF9rDAsP3Gwo"
      },
      "source": [
        "\n",
        "### 4.2 Yêu cầu\n"
      ]
    },
    {
      "cell_type": "markdown",
      "metadata": {
        "id": "By7-zbAs3Ifl"
      },
      "source": [
        "Trong phần này, nhóm cần hoàn thành các yêu cầu sau:\n",
        "- **Chức năng 1**: Viết chương trình cho phép người dùng nhập vào một email bất kỳ (gồm tiêu đề và nội dung). Sau khi áp dụng các phương pháp tiền xử lý giống như đã làm với tập dữ liệu, chương trình chạy mô hình và trả ra kết quả dự đoán cho email vừa nhập.\n",
        "- **Chức năng 2**: Chương trình phải cho phép đọc một file \"csv\" (Comma separated value) bất kỳ có cấu trúc như file `val.csv` (Bao gồm thông tin tiêu đề, nội dung và nhãn cho từng email) và thực hiện đánh giá kết quả dự đoán như đã thực hiện với tập `val.csv`."
      ]
    },
    {
      "cell_type": "markdown",
      "metadata": {
        "id": "Jc_lZoxRwKbC"
      },
      "source": [
        "### 4.3 Bài làm"
      ]
    },
    {
      "cell_type": "markdown",
      "metadata": {
        "id": "eQYwVV7ewKbC"
      },
      "source": [
        "#### Chức năng 1"
      ]
    },
    {
      "cell_type": "code",
      "execution_count": 35,
      "metadata": {
        "id": "4KFxXoJ6wKbC"
      },
      "outputs": [],
      "source": [
        "class Email:\n",
        "    def __init__(self, subject, message):\n",
        "        self.subject = subject\n",
        "        self.message = message\n",
        "        self.full_message = ' '.join([subject, message])\n",
        "\n",
        "    def preprocess_text(self):\n",
        "        return preprocess_text_pipeline(self.full_message)\n",
        "\n",
        "    def predict(self, model):\n",
        "        return model.predict([self.preprocess_text()])[0]\n",
        "\n",
        "    def get_result(self, model):\n",
        "        return encoder.inverse_transform([self.predict(model)])[0]"
      ]
    },
    {
      "cell_type": "code",
      "execution_count": 36,
      "metadata": {
        "colab": {
          "base_uri": "https://localhost:8080/"
        },
        "id": "3BcLH9XBwKbD",
        "outputId": "fafde81d-b305-4732-82e7-5f9fa73e6622"
      },
      "outputs": [
        {
          "output_type": "stream",
          "name": "stdout",
          "text": [
            "Input email:\n",
            "Subject: 𝗔𝗖𝗧𝗜𝗩𝗔𝗧𝗢𝗥 𝗦𝗖𝗛𝗢𝗟𝗔𝗥𝗦𝗛𝗜𝗣\n",
            "Message: Learn about a new opportunity.\n",
            "Subject: 𝗔𝗖𝗧𝗜𝗩𝗔𝗧𝗢𝗥 𝗦𝗖𝗛𝗢𝗟𝗔𝗥𝗦𝗛𝗜𝗣\n",
            "Message: Learn about a new opportunity.\n",
            "Result: spam\n"
          ]
        }
      ],
      "source": [
        "def input_email():\n",
        "    print(f\"Input email:\")\n",
        "    subject = input(\"Subject: \")\n",
        "    message = input(\"Message: \")\n",
        "    return Email(subject, message)\n",
        "\n",
        "def predict_email(email, model):\n",
        "    result = email.get_result(model)\n",
        "    print(f\"Subject: {email.subject}\")\n",
        "    print(f\"Message: {email.message}\")\n",
        "    print(f\"Result: {result}\")\n",
        "\n",
        "def program_1():\n",
        "    email = input_email()\n",
        "    predict_email(email, optimal_naiveBayesModel)\n",
        "\n",
        "program_1()"
      ]
    },
    {
      "cell_type": "markdown",
      "metadata": {
        "id": "eoReK9YpwKbD"
      },
      "source": [
        "#### Chức năng 2"
      ]
    },
    {
      "cell_type": "code",
      "execution_count": 37,
      "metadata": {
        "colab": {
          "base_uri": "https://localhost:8080/",
          "height": 614
        },
        "id": "w41vsTGnwKbD",
        "outputId": "f5bfc782-068b-4c6b-fab7-8f5cc273a9a4"
      },
      "outputs": [
        {
          "output_type": "display_data",
          "data": {
            "text/plain": [
              "<IPython.core.display.HTML object>"
            ],
            "text/html": [
              "\n",
              "     <input type=\"file\" id=\"files-e120b020-e5d5-4507-af3d-fbbc16af7440\" name=\"files[]\" multiple disabled\n",
              "        style=\"border:none\" />\n",
              "     <output id=\"result-e120b020-e5d5-4507-af3d-fbbc16af7440\">\n",
              "      Upload widget is only available when the cell has been executed in the\n",
              "      current browser session. Please rerun this cell to enable.\n",
              "      </output>\n",
              "      <script>// Copyright 2017 Google LLC\n",
              "//\n",
              "// Licensed under the Apache License, Version 2.0 (the \"License\");\n",
              "// you may not use this file except in compliance with the License.\n",
              "// You may obtain a copy of the License at\n",
              "//\n",
              "//      http://www.apache.org/licenses/LICENSE-2.0\n",
              "//\n",
              "// Unless required by applicable law or agreed to in writing, software\n",
              "// distributed under the License is distributed on an \"AS IS\" BASIS,\n",
              "// WITHOUT WARRANTIES OR CONDITIONS OF ANY KIND, either express or implied.\n",
              "// See the License for the specific language governing permissions and\n",
              "// limitations under the License.\n",
              "\n",
              "/**\n",
              " * @fileoverview Helpers for google.colab Python module.\n",
              " */\n",
              "(function(scope) {\n",
              "function span(text, styleAttributes = {}) {\n",
              "  const element = document.createElement('span');\n",
              "  element.textContent = text;\n",
              "  for (const key of Object.keys(styleAttributes)) {\n",
              "    element.style[key] = styleAttributes[key];\n",
              "  }\n",
              "  return element;\n",
              "}\n",
              "\n",
              "// Max number of bytes which will be uploaded at a time.\n",
              "const MAX_PAYLOAD_SIZE = 100 * 1024;\n",
              "\n",
              "function _uploadFiles(inputId, outputId) {\n",
              "  const steps = uploadFilesStep(inputId, outputId);\n",
              "  const outputElement = document.getElementById(outputId);\n",
              "  // Cache steps on the outputElement to make it available for the next call\n",
              "  // to uploadFilesContinue from Python.\n",
              "  outputElement.steps = steps;\n",
              "\n",
              "  return _uploadFilesContinue(outputId);\n",
              "}\n",
              "\n",
              "// This is roughly an async generator (not supported in the browser yet),\n",
              "// where there are multiple asynchronous steps and the Python side is going\n",
              "// to poll for completion of each step.\n",
              "// This uses a Promise to block the python side on completion of each step,\n",
              "// then passes the result of the previous step as the input to the next step.\n",
              "function _uploadFilesContinue(outputId) {\n",
              "  const outputElement = document.getElementById(outputId);\n",
              "  const steps = outputElement.steps;\n",
              "\n",
              "  const next = steps.next(outputElement.lastPromiseValue);\n",
              "  return Promise.resolve(next.value.promise).then((value) => {\n",
              "    // Cache the last promise value to make it available to the next\n",
              "    // step of the generator.\n",
              "    outputElement.lastPromiseValue = value;\n",
              "    return next.value.response;\n",
              "  });\n",
              "}\n",
              "\n",
              "/**\n",
              " * Generator function which is called between each async step of the upload\n",
              " * process.\n",
              " * @param {string} inputId Element ID of the input file picker element.\n",
              " * @param {string} outputId Element ID of the output display.\n",
              " * @return {!Iterable<!Object>} Iterable of next steps.\n",
              " */\n",
              "function* uploadFilesStep(inputId, outputId) {\n",
              "  const inputElement = document.getElementById(inputId);\n",
              "  inputElement.disabled = false;\n",
              "\n",
              "  const outputElement = document.getElementById(outputId);\n",
              "  outputElement.innerHTML = '';\n",
              "\n",
              "  const pickedPromise = new Promise((resolve) => {\n",
              "    inputElement.addEventListener('change', (e) => {\n",
              "      resolve(e.target.files);\n",
              "    });\n",
              "  });\n",
              "\n",
              "  const cancel = document.createElement('button');\n",
              "  inputElement.parentElement.appendChild(cancel);\n",
              "  cancel.textContent = 'Cancel upload';\n",
              "  const cancelPromise = new Promise((resolve) => {\n",
              "    cancel.onclick = () => {\n",
              "      resolve(null);\n",
              "    };\n",
              "  });\n",
              "\n",
              "  // Wait for the user to pick the files.\n",
              "  const files = yield {\n",
              "    promise: Promise.race([pickedPromise, cancelPromise]),\n",
              "    response: {\n",
              "      action: 'starting',\n",
              "    }\n",
              "  };\n",
              "\n",
              "  cancel.remove();\n",
              "\n",
              "  // Disable the input element since further picks are not allowed.\n",
              "  inputElement.disabled = true;\n",
              "\n",
              "  if (!files) {\n",
              "    return {\n",
              "      response: {\n",
              "        action: 'complete',\n",
              "      }\n",
              "    };\n",
              "  }\n",
              "\n",
              "  for (const file of files) {\n",
              "    const li = document.createElement('li');\n",
              "    li.append(span(file.name, {fontWeight: 'bold'}));\n",
              "    li.append(span(\n",
              "        `(${file.type || 'n/a'}) - ${file.size} bytes, ` +\n",
              "        `last modified: ${\n",
              "            file.lastModifiedDate ? file.lastModifiedDate.toLocaleDateString() :\n",
              "                                    'n/a'} - `));\n",
              "    const percent = span('0% done');\n",
              "    li.appendChild(percent);\n",
              "\n",
              "    outputElement.appendChild(li);\n",
              "\n",
              "    const fileDataPromise = new Promise((resolve) => {\n",
              "      const reader = new FileReader();\n",
              "      reader.onload = (e) => {\n",
              "        resolve(e.target.result);\n",
              "      };\n",
              "      reader.readAsArrayBuffer(file);\n",
              "    });\n",
              "    // Wait for the data to be ready.\n",
              "    let fileData = yield {\n",
              "      promise: fileDataPromise,\n",
              "      response: {\n",
              "        action: 'continue',\n",
              "      }\n",
              "    };\n",
              "\n",
              "    // Use a chunked sending to avoid message size limits. See b/62115660.\n",
              "    let position = 0;\n",
              "    do {\n",
              "      const length = Math.min(fileData.byteLength - position, MAX_PAYLOAD_SIZE);\n",
              "      const chunk = new Uint8Array(fileData, position, length);\n",
              "      position += length;\n",
              "\n",
              "      const base64 = btoa(String.fromCharCode.apply(null, chunk));\n",
              "      yield {\n",
              "        response: {\n",
              "          action: 'append',\n",
              "          file: file.name,\n",
              "          data: base64,\n",
              "        },\n",
              "      };\n",
              "\n",
              "      let percentDone = fileData.byteLength === 0 ?\n",
              "          100 :\n",
              "          Math.round((position / fileData.byteLength) * 100);\n",
              "      percent.textContent = `${percentDone}% done`;\n",
              "\n",
              "    } while (position < fileData.byteLength);\n",
              "  }\n",
              "\n",
              "  // All done.\n",
              "  yield {\n",
              "    response: {\n",
              "      action: 'complete',\n",
              "    }\n",
              "  };\n",
              "}\n",
              "\n",
              "scope.google = scope.google || {};\n",
              "scope.google.colab = scope.google.colab || {};\n",
              "scope.google.colab._files = {\n",
              "  _uploadFiles,\n",
              "  _uploadFilesContinue,\n",
              "};\n",
              "})(self);\n",
              "</script> "
            ]
          },
          "metadata": {}
        },
        {
          "output_type": "stream",
          "name": "stdout",
          "text": [
            "Saving test.csv to test.csv\n",
            "Found full_message Column from file data\n",
            "shape data:  (3348, 6)\n",
            "Model NaiveBayes_preprocess_data_BoW_accuracy_best\n",
            "Accuracy: 0.9931302270011948\n",
            "Precision: 0.9948424068767908\n",
            "Recall: 0.992\n",
            "F1: 0.9934191702432046\n"
          ]
        },
        {
          "output_type": "display_data",
          "data": {
            "text/plain": [
              "<Figure size 640x480 with 2 Axes>"
            ],
            "image/png": "[encoded data removed]"
          },
          "metadata": {}
        }
      ],
      "source": [
        "from google.colab import files\n",
        "\n",
        "def evaluation_model_with_file(data):\n",
        "\n",
        "    data = data_cleaning(data, \"data\")\n",
        "    data['transform_text'] = data['full_message'].astype('U').apply(preprocess_text_pipeline)\n",
        "\n",
        "    X = data['transform_text']\n",
        "    y = encoder.transform(data[resultCol])\n",
        "\n",
        "    optimal_naiveBayesModel.evaluate(X, y, is_report=True)\n",
        "\n",
        "def program_2():\n",
        "    uploaded = files.upload()\n",
        "    if not uploaded:\n",
        "        print(\"No file selected\")\n",
        "        return\n",
        "    filename = list(uploaded.keys())[0]\n",
        "    df = pd.read_csv(filename)\n",
        "    evaluation_model_with_file(df)\n",
        "\n",
        "program_2()"
      ]
    },
    {
      "cell_type": "markdown",
      "metadata": {
        "id": "D_WL_V8cwKbE"
      },
      "source": [
        "##### Full Program"
      ]
    },
    {
      "cell_type": "code",
      "execution_count": 38,
      "metadata": {
        "colab": {
          "base_uri": "https://localhost:8080/"
        },
        "id": "vpmthAHiwKbE",
        "outputId": "e1a66303-6b19-4986-ad5b-7373d920a707"
      },
      "outputs": [
        {
          "name": "stdout",
          "output_type": "stream",
          "text": [
            "1. Predict your custom email\n",
            "2. Evaluate model with csv file\n",
            "3. Exit\n",
            "Choose your option: 3\n"
          ]
        }
      ],
      "source": [
        "def design_terminal():\n",
        "    print(\"1. Predict your custom email\")\n",
        "    print(\"2. Evaluate model with csv file\")\n",
        "    print(\"3. Exit\")\n",
        "\n",
        "def program():\n",
        "    while True:\n",
        "        design_terminal()\n",
        "        choice = input(\"Choose your option: \")\n",
        "        if choice == '1':\n",
        "            program_1()\n",
        "        elif choice == '2':\n",
        "            program_2()\n",
        "        elif choice == '3':\n",
        "            break\n",
        "        else:\n",
        "            print(\"Invalid choice\")\n",
        "\n",
        "program()"
      ]
    },
    {
      "cell_type": "markdown",
      "metadata": {
        "id": "Ges_uqe4A2uz"
      },
      "source": [
        "## Test phase"
      ]
    },
    {
      "cell_type": "code",
      "execution_count": null,
      "metadata": {
        "id": "4r5bQFb8wKbD"
      },
      "outputs": [],
      "source": [
        "test_csv_file = '../test.csv'\n",
        "evaluation_model_with_file(test_csv_file)"
      ]
    },
    {
      "cell_type": "code",
      "execution_count": null,
      "metadata": {
        "id": "DvNh76hUwKbD"
      },
      "outputs": [],
      "source": [
        "# download from: https://www.kaggle.com/datasets/venky73/spam-mails-dataset?resource=download\n",
        "another_test_file = '../spam_ham_dataset.csv'\n",
        "\n",
        "test = pd.read_csv(another_test_file)\n",
        "test.drop(columns=['Unnamed: 0', 'label_num'], inplace=True)\n",
        "test.rename(columns={'text': 'full_message', 'label': 'Result'}, inplace=True)\n",
        "test.to_csv('./test.csv')\n",
        "test"
      ]
    },
    {
      "cell_type": "code",
      "execution_count": null,
      "metadata": {
        "id": "jILtTlQVwKbE"
      },
      "outputs": [],
      "source": [
        "test_csv_file = './test.csv'\n",
        "evaluation_model_with_file(test_csv_file)"
      ]
    }
  ],
  "metadata": {
    "accelerator": "GPU",
    "colab": {
      "provenance": [],
      "collapsed_sections": [
        "Ges_uqe4A2uz"
      ]
    },
    "kernelspec": {
      "display_name": "base",
      "language": "python",
      "name": "python3"
    },
    "language_info": {
      "codemirror_mode": {
        "name": "ipython",
        "version": 3
      },
      "file_extension": ".py",
      "mimetype": "text/x-python",
      "name": "python",
      "nbconvert_exporter": "python",
      "pygments_lexer": "ipython3",
      "version": "3.12.2"
    }
  },
  "nbformat": 4,
  "nbformat_minor": 0
}