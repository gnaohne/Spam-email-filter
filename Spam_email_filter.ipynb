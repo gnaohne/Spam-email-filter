{
  "cells": [
    {
      "cell_type": "code",
      "execution_count": 1,
      "metadata": {
        "id": "OK-eISjRRkbs"
      },
      "outputs": [],
      "source": [
        "import pandas as pd"
      ]
    },
    {
      "cell_type": "markdown",
      "metadata": {
        "id": "6Dfs-02PRpkd"
      },
      "source": [
        "# **Read data process**"
      ]
    },
    {
      "cell_type": "code",
      "execution_count": 2,
      "metadata": {
        "id": "BUDVe6koRkbu",
        "outputId": "c5dd507e-6b84-4623-877d-1196521a10e9"
      },
      "outputs": [
        {
          "data": {
            "text/html": [
              "<div>\n",
              "<style scoped>\n",
              "    .dataframe tbody tr th:only-of-type {\n",
              "        vertical-align: middle;\n",
              "    }\n",
              "\n",
              "    .dataframe tbody tr th {\n",
              "        vertical-align: top;\n",
              "    }\n",
              "\n",
              "    .dataframe thead th {\n",
              "        text-align: right;\n",
              "    }\n",
              "</style>\n",
              "<table border=\"1\" class=\"dataframe\">\n",
              "  <thead>\n",
              "    <tr style=\"text-align: right;\">\n",
              "      <th></th>\n",
              "      <th>Unnamed: 0</th>\n",
              "      <th>Message ID</th>\n",
              "      <th>Subject</th>\n",
              "      <th>Message</th>\n",
              "      <th>Spam/Ham</th>\n",
              "    </tr>\n",
              "  </thead>\n",
              "  <tbody>\n",
              "    <tr>\n",
              "      <th>0</th>\n",
              "      <td>0</td>\n",
              "      <td>0</td>\n",
              "      <td>christmas tree farm pictures</td>\n",
              "      <td>NaN</td>\n",
              "      <td>ham</td>\n",
              "    </tr>\n",
              "    <tr>\n",
              "      <th>1</th>\n",
              "      <td>1</td>\n",
              "      <td>1</td>\n",
              "      <td>vastar resources , inc .</td>\n",
              "      <td>gary , production from the high island larger ...</td>\n",
              "      <td>ham</td>\n",
              "    </tr>\n",
              "    <tr>\n",
              "      <th>2</th>\n",
              "      <td>2</td>\n",
              "      <td>2</td>\n",
              "      <td>calpine daily gas nomination</td>\n",
              "      <td>- calpine daily gas nomination 1 . doc</td>\n",
              "      <td>ham</td>\n",
              "    </tr>\n",
              "    <tr>\n",
              "      <th>3</th>\n",
              "      <td>3</td>\n",
              "      <td>3</td>\n",
              "      <td>re : issue</td>\n",
              "      <td>fyi - see note below - already done .\\nstella\\...</td>\n",
              "      <td>ham</td>\n",
              "    </tr>\n",
              "    <tr>\n",
              "      <th>4</th>\n",
              "      <td>5</td>\n",
              "      <td>5</td>\n",
              "      <td>mcmullen gas for 11 / 99</td>\n",
              "      <td>jackie ,\\nsince the inlet to 3 river plant is ...</td>\n",
              "      <td>ham</td>\n",
              "    </tr>\n",
              "  </tbody>\n",
              "</table>\n",
              "</div>"
            ],
            "text/plain": [
              "   Unnamed: 0  Message ID                       Subject  \\\n",
              "0           0           0  christmas tree farm pictures   \n",
              "1           1           1      vastar resources , inc .   \n",
              "2           2           2  calpine daily gas nomination   \n",
              "3           3           3                    re : issue   \n",
              "4           5           5      mcmullen gas for 11 / 99   \n",
              "\n",
              "                                             Message Spam/Ham  \n",
              "0                                                NaN      ham  \n",
              "1  gary , production from the high island larger ...      ham  \n",
              "2             - calpine daily gas nomination 1 . doc      ham  \n",
              "3  fyi - see note below - already done .\\nstella\\...      ham  \n",
              "4  jackie ,\\nsince the inlet to 3 river plant is ...      ham  "
            ]
          },
          "execution_count": 2,
          "metadata": {},
          "output_type": "execute_result"
        }
      ],
      "source": [
        "# Read data from train.csv\n",
        "train_data = pd.read_csv('train.csv')\n",
        "train_data = train_data.drop(columns=['split'])\n",
        "\n",
        "# Display 5 first rows of the dataframe\n",
        "train_data.head(5)"
      ]
    },
    {
      "cell_type": "code",
      "execution_count": 3,
      "metadata": {
        "id": "dR5SjLDnRkbv",
        "outputId": "05f8adc1-cc5d-4b24-ddd9-09e6676ea670"
      },
      "outputs": [
        {
          "data": {
            "text/html": [
              "<div>\n",
              "<style scoped>\n",
              "    .dataframe tbody tr th:only-of-type {\n",
              "        vertical-align: middle;\n",
              "    }\n",
              "\n",
              "    .dataframe tbody tr th {\n",
              "        vertical-align: top;\n",
              "    }\n",
              "\n",
              "    .dataframe thead th {\n",
              "        text-align: right;\n",
              "    }\n",
              "</style>\n",
              "<table border=\"1\" class=\"dataframe\">\n",
              "  <thead>\n",
              "    <tr style=\"text-align: right;\">\n",
              "      <th></th>\n",
              "      <th>Unnamed: 0</th>\n",
              "      <th>Message ID</th>\n",
              "      <th>Subject</th>\n",
              "      <th>Message</th>\n",
              "      <th>Spam/Ham</th>\n",
              "    </tr>\n",
              "  </thead>\n",
              "  <tbody>\n",
              "    <tr>\n",
              "      <th>0</th>\n",
              "      <td>23</td>\n",
              "      <td>23</td>\n",
              "      <td>miscellaneous</td>\n",
              "      <td>- - - - - - - - - - - - - - - - - - - - - - fo...</td>\n",
              "      <td>ham</td>\n",
              "    </tr>\n",
              "    <tr>\n",
              "      <th>1</th>\n",
              "      <td>24</td>\n",
              "      <td>24</td>\n",
              "      <td>re : purge of old contract _ event _ status</td>\n",
              "      <td>fyi - what do you all think ?\\n- - - - - - - -...</td>\n",
              "      <td>ham</td>\n",
              "    </tr>\n",
              "    <tr>\n",
              "      <th>2</th>\n",
              "      <td>32</td>\n",
              "      <td>32</td>\n",
              "      <td>valero 8018 and 1394</td>\n",
              "      <td>it is my understanding the outages valero incu...</td>\n",
              "      <td>ham</td>\n",
              "    </tr>\n",
              "    <tr>\n",
              "      <th>3</th>\n",
              "      <td>37</td>\n",
              "      <td>37</td>\n",
              "      <td>01 / 00 natural gas nomination</td>\n",
              "      <td>enron methanol company nominates the following...</td>\n",
              "      <td>ham</td>\n",
              "    </tr>\n",
              "    <tr>\n",
              "      <th>4</th>\n",
              "      <td>43</td>\n",
              "      <td>43</td>\n",
              "      <td>re : misc . questions</td>\n",
              "      <td>- - - - - - - - - - - - - - - - - - - - - - fo...</td>\n",
              "      <td>ham</td>\n",
              "    </tr>\n",
              "  </tbody>\n",
              "</table>\n",
              "</div>"
            ],
            "text/plain": [
              "   Unnamed: 0  Message ID                                      Subject  \\\n",
              "0          23          23                                miscellaneous   \n",
              "1          24          24  re : purge of old contract _ event _ status   \n",
              "2          32          32                         valero 8018 and 1394   \n",
              "3          37          37               01 / 00 natural gas nomination   \n",
              "4          43          43                        re : misc . questions   \n",
              "\n",
              "                                             Message Spam/Ham  \n",
              "0  - - - - - - - - - - - - - - - - - - - - - - fo...      ham  \n",
              "1  fyi - what do you all think ?\\n- - - - - - - -...      ham  \n",
              "2  it is my understanding the outages valero incu...      ham  \n",
              "3  enron methanol company nominates the following...      ham  \n",
              "4  - - - - - - - - - - - - - - - - - - - - - - fo...      ham  "
            ]
          },
          "execution_count": 3,
          "metadata": {},
          "output_type": "execute_result"
        }
      ],
      "source": [
        "# Read data from val.csv\n",
        "val_data = pd.read_csv('val.csv')\n",
        "val_data = val_data.drop(columns=['split'])\n",
        "# Display 5 first rows of the dataframe\n",
        "val_data.head(5)"
      ]
    },
    {
      "cell_type": "markdown",
      "metadata": {},
      "source": [
        "# **Pre-process data phase**"
      ]
    },
    {
      "cell_type": "code",
      "execution_count": 4,
      "metadata": {
        "id": "dB7JkaygRkbv"
      },
      "outputs": [
        {
          "name": "stderr",
          "output_type": "stream",
          "text": [
            "[nltk_data] Downloading package stopwords to\n",
            "[nltk_data]     C:\\Users\\as\\AppData\\Roaming\\nltk_data...\n",
            "[nltk_data]   Package stopwords is already up-to-date!\n",
            "[nltk_data] Downloading package wordnet to\n",
            "[nltk_data]     C:\\Users\\as\\AppData\\Roaming\\nltk_data...\n",
            "[nltk_data]   Package wordnet is already up-to-date!\n"
          ]
        }
      ],
      "source": [
        "import re\n",
        "import nltk\n",
        "\n",
        "from string import punctuation\n",
        "from nltk.corpus import stopwords\n",
        "from nltk.stem import WordNetLemmatizer\n",
        "\n",
        "nltk.download('stopwords')\n",
        "nltk.download('wordnet')\n",
        "\n",
        "stopwords = set(stopwords.words('english'))"
      ]
    },
    {
      "cell_type": "code",
      "execution_count": 5,
      "metadata": {
        "id": "8pBGbUjeRkbw"
      },
      "outputs": [],
      "source": [
        "# Function to clean the text\n",
        "def clean_regex(m):\n",
        "    m = re.sub(r'^[a-zA-Z0-9_.+-]+@[a-zA-Z0-9-]+\\.[a-zA-Z0-9-.]+$','',str(m)) # email addresses\n",
        "    m = re.sub(r'(http|https|ftp)://[a-zA-Z0-9\\\\./]+', ' ', str(m)) # URLs\n",
        "    m = re.sub(r'\\d+', ' ', str(m)) # number\n",
        "    m = re.sub(r'[^a-zA-Z]', ' ', str(m)) # non alphabet\n",
        "    m = m.translate(str.maketrans('', '', punctuation)) # punctuation\n",
        "    m = re.sub(r'\\s+', ' ', str(m)) # remove multiple spaces\n",
        "    m = m.lower() # lower case\n",
        "    return m\n",
        "\n",
        "# Function to clean the column\n",
        "def clean_column(data, col_name):\n",
        "    # remove email addresses, URLs, numbers, non-alphabets, punctuations, multiple spaces, and lower case\n",
        "    data[col_name] = data[col_name].apply(clean_regex)\n",
        "\n",
        "    # remove stopwords\n",
        "    data[col_name]= data[col_name].apply(lambda x: ' '.join([item for item in x.split() if item not in stopwords]))\n",
        "\n",
        "    # remove words with length less than 3 and more than 15 characters to remove noise\n",
        "    data[col_name]= data[col_name].apply(lambda x: ' '.join([item for item in x.split() if 3 <= len(item) <= 15]))\n",
        "\n",
        "    # lemmatization\n",
        "    lem = WordNetLemmatizer()\n",
        "\n",
        "    # lemmatize the words into verb form\n",
        "    data[col_name] = data[col_name].apply(lambda x: ' '.join([lem.lemmatize(word,pos='v') for word in x.split()]))\n",
        "    # lemmatize the words into noun form\n",
        "    data[col_name] = data[col_name].apply(lambda x: ' '.join([lem.lemmatize(word,pos='n') for word in x.split()]))\n",
        "\n",
        "    return data\n"
      ]
    },
    {
      "cell_type": "code",
      "execution_count": 6,
      "metadata": {
        "id": "ubk3zhNKRkbw"
      },
      "outputs": [],
      "source": [
        "# Pre-process the data\n",
        "def pre_process(data):\n",
        "    data = clean_column(data, 'Message')\n",
        "    data = clean_column(data, 'Subject')\n",
        "    return data\n",
        "\n",
        "train_data = pre_process(train_data)"
      ]
    },
    {
      "cell_type": "code",
      "execution_count": 7,
      "metadata": {},
      "outputs": [
        {
          "data": {
            "text/html": [
              "<div>\n",
              "<style scoped>\n",
              "    .dataframe tbody tr th:only-of-type {\n",
              "        vertical-align: middle;\n",
              "    }\n",
              "\n",
              "    .dataframe tbody tr th {\n",
              "        vertical-align: top;\n",
              "    }\n",
              "\n",
              "    .dataframe thead th {\n",
              "        text-align: right;\n",
              "    }\n",
              "</style>\n",
              "<table border=\"1\" class=\"dataframe\">\n",
              "  <thead>\n",
              "    <tr style=\"text-align: right;\">\n",
              "      <th></th>\n",
              "      <th>Unnamed: 0</th>\n",
              "      <th>Message ID</th>\n",
              "      <th>Subject</th>\n",
              "      <th>Message</th>\n",
              "      <th>Spam/Ham</th>\n",
              "    </tr>\n",
              "  </thead>\n",
              "  <tbody>\n",
              "    <tr>\n",
              "      <th>0</th>\n",
              "      <td>0</td>\n",
              "      <td>0</td>\n",
              "      <td>christmas tree farm picture</td>\n",
              "      <td>nan</td>\n",
              "      <td>ham</td>\n",
              "    </tr>\n",
              "    <tr>\n",
              "      <th>1</th>\n",
              "      <td>1</td>\n",
              "      <td>1</td>\n",
              "      <td>vastar resource inc</td>\n",
              "      <td>gary production high island larger block comme...</td>\n",
              "      <td>ham</td>\n",
              "    </tr>\n",
              "    <tr>\n",
              "      <th>2</th>\n",
              "      <td>2</td>\n",
              "      <td>2</td>\n",
              "      <td>calpine daily gas nomination</td>\n",
              "      <td>calpine daily gas nomination doc</td>\n",
              "      <td>ham</td>\n",
              "    </tr>\n",
              "    <tr>\n",
              "      <th>3</th>\n",
              "      <td>3</td>\n",
              "      <td>3</td>\n",
              "      <td>issue</td>\n",
              "      <td>fyi see note already do stella forward stella ...</td>\n",
              "      <td>ham</td>\n",
              "    </tr>\n",
              "    <tr>\n",
              "      <th>4</th>\n",
              "      <td>5</td>\n",
              "      <td>5</td>\n",
              "      <td>mcmullen gas</td>\n",
              "      <td>jackie since inlet river plant shut last day f...</td>\n",
              "      <td>ham</td>\n",
              "    </tr>\n",
              "    <tr>\n",
              "      <th>5</th>\n",
              "      <td>6</td>\n",
              "      <td>6</td>\n",
              "      <td>meter jan</td>\n",
              "      <td>george need follow do jan zero receipt package...</td>\n",
              "      <td>ham</td>\n",
              "    </tr>\n",
              "    <tr>\n",
              "      <th>6</th>\n",
              "      <td>7</td>\n",
              "      <td>7</td>\n",
              "      <td>dun number change</td>\n",
              "      <td>fyi forward gary payne hou ect antoine pierre ...</td>\n",
              "      <td>ham</td>\n",
              "    </tr>\n",
              "  </tbody>\n",
              "</table>\n",
              "</div>"
            ],
            "text/plain": [
              "   Unnamed: 0  Message ID                       Subject  \\\n",
              "0           0           0   christmas tree farm picture   \n",
              "1           1           1           vastar resource inc   \n",
              "2           2           2  calpine daily gas nomination   \n",
              "3           3           3                         issue   \n",
              "4           5           5                  mcmullen gas   \n",
              "5           6           6                     meter jan   \n",
              "6           7           7             dun number change   \n",
              "\n",
              "                                             Message Spam/Ham  \n",
              "0                                                nan      ham  \n",
              "1  gary production high island larger block comme...      ham  \n",
              "2                   calpine daily gas nomination doc      ham  \n",
              "3  fyi see note already do stella forward stella ...      ham  \n",
              "4  jackie since inlet river plant shut last day f...      ham  \n",
              "5  george need follow do jan zero receipt package...      ham  \n",
              "6  fyi forward gary payne hou ect antoine pierre ...      ham  "
            ]
          },
          "execution_count": 7,
          "metadata": {},
          "output_type": "execute_result"
        }
      ],
      "source": [
        "train_data.head(7)"
      ]
    },
    {
      "cell_type": "code",
      "execution_count": 9,
      "metadata": {},
      "outputs": [
        {
          "name": "stdout",
          "output_type": "stream",
          "text": [
            "There are 13426 ham emails and 13858 spam emails\n"
          ]
        }
      ],
      "source": [
        "# count the number of ham and spam emails\n",
        "\n",
        "ham_count = train_data[train_data['Spam/Ham'] == 'ham'].shape[0]\n",
        "spam_count = train_data[train_data['Spam/Ham'] == 'spam'].shape[0]\n",
        "\n",
        "print('There are {} ham emails and {} spam emails'.format(ham_count, spam_count))"
      ]
    },
    {
      "cell_type": "code",
      "execution_count": 13,
      "metadata": {},
      "outputs": [],
      "source": [
        "# count words in ham and spam emails\n",
        "from collections import Counter\n",
        "\n",
        "ham_words = ' '.join(list(train_data[train_data['Spam/Ham'] == 'ham']['Message']))\n",
        "spam_words = ' '.join(list(train_data[train_data['Spam/Ham'] == 'spam']['Message']))\n",
        "\n",
        "ham_words = ham_words.split()\n",
        "spam_words = spam_words.split() \n",
        "\n",
        "\n",
        "ham_word_freq = Counter(ham_words)\n",
        "spam_word_freq = Counter(spam_words)\n"
      ]
    },
    {
      "cell_type": "code",
      "execution_count": 26,
      "metadata": {},
      "outputs": [
        {
          "data": {
            "image/png": "[encoded data removed]",
            "text/plain": [
              "<Figure size 1000x600 with 1 Axes>"
            ]
          },
          "metadata": {},
          "output_type": "display_data"
        }
      ],
      "source": [
        "# Visualize the most common words in ham emails\n",
        "import matplotlib.pyplot as plt\n",
        "import numpy as np\n",
        "\n",
        "ham_word_freq_df = pd.DataFrame(ham_word_freq.most_common(20), columns=['word', 'frequency'])\n",
        "ham_word_freq_df = ham_word_freq_df.sort_values(by='frequency')\n",
        "\n",
        "colors = plt.cm.tab20(np.linspace(0, 1, 20))\n",
        "\n",
        "plt.figure(figsize=(10, 6))\n",
        "plt.barh(ham_word_freq_df['word'], ham_word_freq_df['frequency'], color=colors)\n",
        "plt.xlabel('Frequency')\n",
        "plt.ylabel('Words')\n",
        "plt.title('Top 20 most common words in ham emails')\n",
        "plt.show()\n"
      ]
    },
    {
      "cell_type": "code",
      "execution_count": 27,
      "metadata": {},
      "outputs": [
        {
          "data": {
            "image/png": "[encoded data removed]",
            "text/plain": [
              "<Figure size 1000x600 with 1 Axes>"
            ]
          },
          "metadata": {},
          "output_type": "display_data"
        }
      ],
      "source": [
        "# Visualize the most common words in spam emails\n",
        "\n",
        "spam_word_freq_df = pd.DataFrame(spam_word_freq.most_common(20), columns=['word', 'frequency'])\n",
        "spam_word_freq_df = spam_word_freq_df.sort_values(by='frequency')\n",
        "\n",
        "colors = plt.cm.tab20(np.linspace(0, 1, 20))\n",
        "\n",
        "plt.figure(figsize=(10, 6))\n",
        "plt.barh(spam_word_freq_df['word'], spam_word_freq_df['frequency'], color=colors)\n",
        "plt.xlabel('Frequency')\n",
        "plt.ylabel('Words')\n",
        "plt.title('Top 20 most common words in spam emails')\n",
        "plt.show()\n"
      ]
    },
    {
      "cell_type": "code",
      "execution_count": null,
      "metadata": {},
      "outputs": [],
      "source": [
        "# Feature extraction phase using TF-IDF\n",
        "\n",
        "from sklearn.feature_extraction.text import TfidfVectorizer\n",
        "\n",
        "def tfidf(data):\n",
        "    tfidf_vectorizer = TfidfVectorizer(max_features=5000)\n",
        "    tfidf_matrix = tfidf_vectorizer.fit_transform(data)\n",
        "    return tfidf_matrix\n",
        "\n",
        "# Extract features from the train data\n",
        "X_train = tfidf(train_data['Message'])\n",
        "y_train = train_data['Spam/Ham']"
      ]
    }
  ],
  "metadata": {
    "colab": {
      "provenance": []
    },
    "kernelspec": {
      "display_name": ".venv",
      "language": "python",
      "name": "python3"
    },
    "language_info": {
      "codemirror_mode": {
        "name": "ipython",
        "version": 3
      },
      "file_extension": ".py",
      "mimetype": "text/x-python",
      "name": "python",
      "nbconvert_exporter": "python",
      "pygments_lexer": "ipython3",
      "version": "3.12.0"
    }
  },
  "nbformat": 4,
  "nbformat_minor": 0
}
